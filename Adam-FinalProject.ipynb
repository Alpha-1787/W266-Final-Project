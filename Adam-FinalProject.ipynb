{
 "cells": [
  {
   "cell_type": "code",
   "execution_count": 12,
   "metadata": {},
   "outputs": [
    {
     "name": "stdout",
     "output_type": "stream",
     "text": [
      "Requirement already satisfied: praw in /home/armand_kok/anaconda3/lib/python3.7/site-packages (6.3.1)\n",
      "Requirement already satisfied: websocket-client>=0.54.0 in /home/armand_kok/anaconda3/lib/python3.7/site-packages (from praw) (0.56.0)\n",
      "Requirement already satisfied: update-checker>=0.16 in /home/armand_kok/anaconda3/lib/python3.7/site-packages (from praw) (0.16)\n",
      "Requirement already satisfied: prawcore<2.0,>=1.0.1 in /home/armand_kok/anaconda3/lib/python3.7/site-packages (from praw) (1.0.1)\n",
      "Requirement already satisfied: six in /home/armand_kok/anaconda3/lib/python3.7/site-packages (from websocket-client>=0.54.0->praw) (1.12.0)\n",
      "Requirement already satisfied: requests>=2.3.0 in /home/armand_kok/anaconda3/lib/python3.7/site-packages (from update-checker>=0.16->praw) (2.19.1)\n",
      "Requirement already satisfied: certifi>=2017.4.17 in /home/armand_kok/anaconda3/lib/python3.7/site-packages (from requests>=2.3.0->update-checker>=0.16->praw) (2018.8.24)\n",
      "Requirement already satisfied: chardet<3.1.0,>=3.0.2 in /home/armand_kok/anaconda3/lib/python3.7/site-packages (from requests>=2.3.0->update-checker>=0.16->praw) (3.0.4)\n",
      "Requirement already satisfied: idna<2.8,>=2.5 in /home/armand_kok/anaconda3/lib/python3.7/site-packages (from requests>=2.3.0->update-checker>=0.16->praw) (2.7)\n",
      "Requirement already satisfied: urllib3<1.24,>=1.21.1 in /home/armand_kok/anaconda3/lib/python3.7/site-packages (from requests>=2.3.0->update-checker>=0.16->praw) (1.23)\n",
      "Requirement already satisfied: tensorflow_hub in /home/armand_kok/anaconda3/lib/python3.7/site-packages (0.4.0)\n",
      "Requirement already satisfied: numpy>=1.12.0 in /home/armand_kok/anaconda3/lib/python3.7/site-packages (from tensorflow_hub) (1.16.4)\n",
      "Requirement already satisfied: protobuf>=3.4.0 in /home/armand_kok/anaconda3/lib/python3.7/site-packages (from tensorflow_hub) (3.8.0)\n",
      "Requirement already satisfied: six>=1.10.0 in /home/armand_kok/anaconda3/lib/python3.7/site-packages (from tensorflow_hub) (1.12.0)\n",
      "Requirement already satisfied: setuptools in /home/armand_kok/anaconda3/lib/python3.7/site-packages (from protobuf>=3.4.0->tensorflow_hub) (41.0.1)\n",
      "Requirement already satisfied: tf-nightly in /home/armand_kok/anaconda3/lib/python3.7/site-packages (1.15.0.dev20190708)\n",
      "Requirement already satisfied: google-pasta>=0.1.6 in /home/armand_kok/anaconda3/lib/python3.7/site-packages (from tf-nightly) (0.1.7)\n",
      "Requirement already satisfied: wheel>=0.26 in /home/armand_kok/anaconda3/lib/python3.7/site-packages (from tf-nightly) (0.33.4)\n",
      "Requirement already satisfied: tb-nightly<1.15.0a0,>=1.14.0a0 in /home/armand_kok/anaconda3/lib/python3.7/site-packages (from tf-nightly) (1.14.0a20190301)\n",
      "Requirement already satisfied: keras-preprocessing>=1.0.5 in /home/armand_kok/anaconda3/lib/python3.7/site-packages (from tf-nightly) (1.1.0)\n",
      "Requirement already satisfied: grpcio>=1.8.6 in /home/armand_kok/anaconda3/lib/python3.7/site-packages (from tf-nightly) (1.21.1)\n",
      "Requirement already satisfied: six>=1.10.0 in /home/armand_kok/anaconda3/lib/python3.7/site-packages (from tf-nightly) (1.12.0)\n",
      "Requirement already satisfied: absl-py>=0.7.0 in /home/armand_kok/anaconda3/lib/python3.7/site-packages (from tf-nightly) (0.7.1)\n",
      "Requirement already satisfied: tf-estimator-nightly in /home/armand_kok/anaconda3/lib/python3.7/site-packages (from tf-nightly) (1.14.0.dev2019030115)\n",
      "Requirement already satisfied: opt-einsum>=2.3.2 in /home/armand_kok/anaconda3/lib/python3.7/site-packages (from tf-nightly) (2.3.2)\n",
      "Requirement already satisfied: gast>=0.2.0 in /home/armand_kok/anaconda3/lib/python3.7/site-packages (from tf-nightly) (0.2.2)\n",
      "Requirement already satisfied: protobuf>=3.6.1 in /home/armand_kok/anaconda3/lib/python3.7/site-packages (from tf-nightly) (3.8.0)\n",
      "Requirement already satisfied: numpy<2.0,>=1.14.5 in /home/armand_kok/anaconda3/lib/python3.7/site-packages (from tf-nightly) (1.16.4)\n",
      "Requirement already satisfied: termcolor>=1.1.0 in /home/armand_kok/anaconda3/lib/python3.7/site-packages (from tf-nightly) (1.1.0)\n",
      "Requirement already satisfied: wrapt>=1.11.1 in /home/armand_kok/anaconda3/lib/python3.7/site-packages (from tf-nightly) (1.11.2)\n",
      "Requirement already satisfied: keras-applications>=1.0.8 in /home/armand_kok/anaconda3/lib/python3.7/site-packages (from tf-nightly) (1.0.8)\n",
      "Requirement already satisfied: astor>=0.6.0 in /home/armand_kok/anaconda3/lib/python3.7/site-packages (from tf-nightly) (0.8.0)\n",
      "Requirement already satisfied: werkzeug>=0.11.15 in /home/armand_kok/anaconda3/lib/python3.7/site-packages (from tb-nightly<1.15.0a0,>=1.14.0a0->tf-nightly) (0.15.4)\n",
      "Requirement already satisfied: markdown>=2.6.8 in /home/armand_kok/anaconda3/lib/python3.7/site-packages (from tb-nightly<1.15.0a0,>=1.14.0a0->tf-nightly) (3.1.1)\n",
      "Requirement already satisfied: setuptools in /home/armand_kok/anaconda3/lib/python3.7/site-packages (from protobuf>=3.6.1->tf-nightly) (41.0.1)\n",
      "Requirement already satisfied: h5py in /home/armand_kok/anaconda3/lib/python3.7/site-packages (from keras-applications>=1.0.8->tf-nightly) (2.9.0)\n"
     ]
    }
   ],
   "source": [
    "!pip install praw\n",
    "!pip install tensorflow_hub\n",
    "!pip install tf-nightly"
   ]
  },
  {
   "cell_type": "markdown",
   "metadata": {},
   "source": [
    "# Imports"
   ]
  },
  {
   "cell_type": "code",
   "execution_count": 16,
   "metadata": {},
   "outputs": [],
   "source": [
    "# Used to pull data from Reddit\n",
    "import praw\n",
    "import pandas as pd\n",
    "import datetime as dt\n",
    "\n",
    "import nltk\n",
    "import tensorflow as tf\n",
    "import tensorflow_hub as hub\n",
    "#nltk.download('punkt')"
   ]
  },
  {
   "cell_type": "code",
   "execution_count": 2,
   "metadata": {},
   "outputs": [],
   "source": [
    "reddit = praw.Reddit(client_id='OMnAyXELD9zyJA', \n",
    "                     client_secret='fW7tokngC-W9lCtDET4-9n0f5QY', \n",
    "                     user_agent='Reddit WebScrapping')"
   ]
  },
  {
   "cell_type": "markdown",
   "metadata": {},
   "source": [
    "### Data from r/democrats Subreddit"
   ]
  },
  {
   "cell_type": "code",
   "execution_count": 3,
   "metadata": {},
   "outputs": [],
   "source": [
    "democrats = reddit.subreddit('democrats')"
   ]
  },
  {
   "cell_type": "code",
   "execution_count": 27,
   "metadata": {},
   "outputs": [],
   "source": [
    "posts = []\n",
    "# for post in democrats.top(limit = 1):\n",
    "for post in democrats.hot(limit = 1000):\n",
    "    posts.append([post.title, post.score, post.id, post.subreddit, post.url, \n",
    "                  post.num_comments, \n",
    "                  post.selftext,\n",
    "                  post.created, \n",
    "                  post.is_self,\n",
    "                  post.link_flair_text])\n",
    "\n",
    "# Column names\n",
    "columns = ['title', \n",
    "           'score',\n",
    "           'id', \n",
    "           'subreddit',\n",
    "           'url',\n",
    "           'num_comments', \n",
    "           'body', \n",
    "           'created', \n",
    "           'is_self', \n",
    "           'link_flair_text']\n",
    "    \n",
    "dem_df = pd.DataFrame(posts, columns=columns)\n",
    "dem_df['created'] = dem_df['created'].apply(lambda x: dt.datetime.fromtimestamp(x))"
   ]
  },
  {
   "cell_type": "code",
   "execution_count": 28,
   "metadata": {},
   "outputs": [
    {
     "data": {
      "text/html": [
       "<div>\n",
       "<style scoped>\n",
       "    .dataframe tbody tr th:only-of-type {\n",
       "        vertical-align: middle;\n",
       "    }\n",
       "\n",
       "    .dataframe tbody tr th {\n",
       "        vertical-align: top;\n",
       "    }\n",
       "\n",
       "    .dataframe thead th {\n",
       "        text-align: right;\n",
       "    }\n",
       "</style>\n",
       "<table border=\"1\" class=\"dataframe\">\n",
       "  <thead>\n",
       "    <tr style=\"text-align: right;\">\n",
       "      <th></th>\n",
       "      <th>title</th>\n",
       "      <th>score</th>\n",
       "      <th>id</th>\n",
       "      <th>subreddit</th>\n",
       "      <th>url</th>\n",
       "      <th>num_comments</th>\n",
       "      <th>body</th>\n",
       "      <th>created</th>\n",
       "      <th>is_self</th>\n",
       "      <th>link_flair_text</th>\n",
       "    </tr>\n",
       "  </thead>\n",
       "  <tbody>\n",
       "    <tr>\n",
       "      <th>11</th>\n",
       "      <td>Change</td>\n",
       "      <td>2</td>\n",
       "      <td>cb9esc</td>\n",
       "      <td>democrats</td>\n",
       "      <td>https://www.reddit.com/r/democrats/comments/cb...</td>\n",
       "      <td>0</td>\n",
       "      <td>For some reason for sometime now I have felt t...</td>\n",
       "      <td>2019-07-10 08:32:09</td>\n",
       "      <td>True</td>\n",
       "      <td>None</td>\n",
       "    </tr>\n",
       "    <tr>\n",
       "      <th>26</th>\n",
       "      <td>Complicit Legal Definition.</td>\n",
       "      <td>1</td>\n",
       "      <td>cb3pkp</td>\n",
       "      <td>democrats</td>\n",
       "      <td>https://www.reddit.com/r/democrats/comments/cb...</td>\n",
       "      <td>0</td>\n",
       "      <td>“Complicity in criminal law refers to when som...</td>\n",
       "      <td>2019-07-10 01:11:53</td>\n",
       "      <td>True</td>\n",
       "      <td>None</td>\n",
       "    </tr>\n",
       "    <tr>\n",
       "      <th>42</th>\n",
       "      <td>How do you feel about bussing?</td>\n",
       "      <td>0</td>\n",
       "      <td>cavuqn</td>\n",
       "      <td>democrats</td>\n",
       "      <td>https://www.reddit.com/r/democrats/comments/ca...</td>\n",
       "      <td>3</td>\n",
       "      <td>After reading Ta-Nehisi Coates, I’m less convi...</td>\n",
       "      <td>2019-07-09 12:18:15</td>\n",
       "      <td>True</td>\n",
       "      <td>None</td>\n",
       "    </tr>\n",
       "  </tbody>\n",
       "</table>\n",
       "</div>"
      ],
      "text/plain": [
       "                             title  score      id  subreddit  \\\n",
       "11                          Change      2  cb9esc  democrats   \n",
       "26     Complicit Legal Definition.      1  cb3pkp  democrats   \n",
       "42  How do you feel about bussing?      0  cavuqn  democrats   \n",
       "\n",
       "                                                  url  num_comments  \\\n",
       "11  https://www.reddit.com/r/democrats/comments/cb...             0   \n",
       "26  https://www.reddit.com/r/democrats/comments/cb...             0   \n",
       "42  https://www.reddit.com/r/democrats/comments/ca...             3   \n",
       "\n",
       "                                                 body             created  \\\n",
       "11  For some reason for sometime now I have felt t... 2019-07-10 08:32:09   \n",
       "26  “Complicity in criminal law refers to when som... 2019-07-10 01:11:53   \n",
       "42  After reading Ta-Nehisi Coates, I’m less convi... 2019-07-09 12:18:15   \n",
       "\n",
       "    is_self link_flair_text  \n",
       "11     True            None  \n",
       "26     True            None  \n",
       "42     True            None  "
      ]
     },
     "execution_count": 28,
     "metadata": {},
     "output_type": "execute_result"
    }
   ],
   "source": [
    "# These are the posts that are self created by the user and contains only text\n",
    "# For these, we will use 'title' and 'body'\n",
    "dem_df[dem_df['is_self'] == True].head(3)"
   ]
  },
  {
   "cell_type": "code",
   "execution_count": 29,
   "metadata": {},
   "outputs": [
    {
     "data": {
      "text/html": [
       "<div>\n",
       "<style scoped>\n",
       "    .dataframe tbody tr th:only-of-type {\n",
       "        vertical-align: middle;\n",
       "    }\n",
       "\n",
       "    .dataframe tbody tr th {\n",
       "        vertical-align: top;\n",
       "    }\n",
       "\n",
       "    .dataframe thead th {\n",
       "        text-align: right;\n",
       "    }\n",
       "</style>\n",
       "<table border=\"1\" class=\"dataframe\">\n",
       "  <thead>\n",
       "    <tr style=\"text-align: right;\">\n",
       "      <th></th>\n",
       "      <th>title</th>\n",
       "      <th>score</th>\n",
       "      <th>id</th>\n",
       "      <th>subreddit</th>\n",
       "      <th>url</th>\n",
       "      <th>num_comments</th>\n",
       "      <th>body</th>\n",
       "      <th>created</th>\n",
       "      <th>is_self</th>\n",
       "      <th>link_flair_text</th>\n",
       "    </tr>\n",
       "  </thead>\n",
       "  <tbody>\n",
       "    <tr>\n",
       "      <th>0</th>\n",
       "      <td>Amy McGrath says she will take on Mitch McConn...</td>\n",
       "      <td>813</td>\n",
       "      <td>cazris</td>\n",
       "      <td>democrats</td>\n",
       "      <td>https://www.courier-journal.com/story/news/pol...</td>\n",
       "      <td>48</td>\n",
       "      <td></td>\n",
       "      <td>2019-07-09 19:42:33</td>\n",
       "      <td>False</td>\n",
       "      <td>None</td>\n",
       "    </tr>\n",
       "    <tr>\n",
       "      <th>1</th>\n",
       "      <td>Hillary Clinton: When the Trump administration...</td>\n",
       "      <td>38</td>\n",
       "      <td>cb5c7v</td>\n",
       "      <td>democrats</td>\n",
       "      <td>https://twitter.com/HillaryClinton/status/1148...</td>\n",
       "      <td>1</td>\n",
       "      <td></td>\n",
       "      <td>2019-07-10 03:11:23</td>\n",
       "      <td>False</td>\n",
       "      <td>None</td>\n",
       "    </tr>\n",
       "    <tr>\n",
       "      <th>2</th>\n",
       "      <td>Democrat and Former Marine pilot Amy McGrath a...</td>\n",
       "      <td>85</td>\n",
       "      <td>cb0c8d</td>\n",
       "      <td>democrats</td>\n",
       "      <td>https://www.rollcall.com/news/campaigns/mcgrat...</td>\n",
       "      <td>2</td>\n",
       "      <td></td>\n",
       "      <td>2019-07-09 20:39:50</td>\n",
       "      <td>False</td>\n",
       "      <td>None</td>\n",
       "    </tr>\n",
       "  </tbody>\n",
       "</table>\n",
       "</div>"
      ],
      "text/plain": [
       "                                               title  score      id  \\\n",
       "0  Amy McGrath says she will take on Mitch McConn...    813  cazris   \n",
       "1  Hillary Clinton: When the Trump administration...     38  cb5c7v   \n",
       "2  Democrat and Former Marine pilot Amy McGrath a...     85  cb0c8d   \n",
       "\n",
       "   subreddit                                                url  num_comments  \\\n",
       "0  democrats  https://www.courier-journal.com/story/news/pol...            48   \n",
       "1  democrats  https://twitter.com/HillaryClinton/status/1148...             1   \n",
       "2  democrats  https://www.rollcall.com/news/campaigns/mcgrat...             2   \n",
       "\n",
       "  body             created  is_self link_flair_text  \n",
       "0      2019-07-09 19:42:33    False            None  \n",
       "1      2019-07-10 03:11:23    False            None  \n",
       "2      2019-07-09 20:39:50    False            None  "
      ]
     },
     "execution_count": 29,
     "metadata": {},
     "output_type": "execute_result"
    }
   ],
   "source": [
    "# These are the posts that are simply a posted link and do not have body text\n",
    "# For these, we will use 'title'\n",
    "dem_df[dem_df['is_self'] == False].head(3)"
   ]
  },
  {
   "cell_type": "markdown",
   "metadata": {},
   "source": [
    "### Tokenizing"
   ]
  },
  {
   "cell_type": "markdown",
   "metadata": {},
   "source": [
    "### Tokenizing at Sentence Level"
   ]
  },
  {
   "cell_type": "code",
   "execution_count": 30,
   "metadata": {},
   "outputs": [
    {
     "name": "stdout",
     "output_type": "stream",
     "text": [
      "Total body sentence count: 650\n",
      "Total title sentence count: 1488\n"
     ]
    }
   ],
   "source": [
    "# Tokenize at sentence level the title and body of each post\n",
    "dem_df['sent_tokenized_title'] = dem_df['title'].apply(nltk.sent_tokenize)\n",
    "dem_df['sent_tokenized_body'] = dem_df['body'].apply(nltk.sent_tokenize)\n",
    "\n",
    "# Calculate sentence length for each post\n",
    "dem_df['sent_count_body'] = dem_df['sent_tokenized_body'].apply(lambda x: len(x))\n",
    "dem_df['sent_count_title'] = dem_df['sent_tokenized_title'].apply(lambda x: len(x))\n",
    "\n",
    "print('Total body sentence count:', dem_df['sent_count_body'].sum())\n",
    "print('Total title sentence count:', dem_df['sent_count_title'].sum())"
   ]
  },
  {
   "cell_type": "code",
   "execution_count": 78,
   "metadata": {},
   "outputs": [
    {
     "data": {
      "text/plain": [
       "1    706\n",
       "2    168\n",
       "3     64\n",
       "4     32\n",
       "5     15\n",
       "6      5\n",
       "7      3\n",
       "Name: sent_count_title, dtype: int64"
      ]
     },
     "execution_count": 78,
     "metadata": {},
     "output_type": "execute_result"
    }
   ],
   "source": [
    "dem_df['sent_count_title'].value_counts()"
   ]
  },
  {
   "cell_type": "code",
   "execution_count": 77,
   "metadata": {},
   "outputs": [
    {
     "data": {
      "text/plain": [
       "0      924\n",
       "2       12\n",
       "4        9\n",
       "1        8\n",
       "3        6\n",
       "5        6\n",
       "6        5\n",
       "8        4\n",
       "7        4\n",
       "11       3\n",
       "15       2\n",
       "58       1\n",
       "9        1\n",
       "12       1\n",
       "13       1\n",
       "18       1\n",
       "19       1\n",
       "24       1\n",
       "25       1\n",
       "33       1\n",
       "170      1\n",
       "Name: sent_count_body, dtype: int64"
      ]
     },
     "execution_count": 77,
     "metadata": {},
     "output_type": "execute_result"
    }
   ],
   "source": [
    "dem_df['sent_count_body'].value_counts()"
   ]
  },
  {
   "cell_type": "markdown",
   "metadata": {},
   "source": [
    "### Sentence Clean Up"
   ]
  },
  {
   "cell_type": "code",
   "execution_count": 65,
   "metadata": {},
   "outputs": [
    {
     "data": {
      "text/plain": [
       "11    [For some reason for sometime now I have felt ...\n",
       "26    [“Complicity in criminal law refers to when so...\n",
       "42    [After reading Ta-Nehisi Coates, I’m less conv...\n",
       "46    [A little introduction, I am a registered Demo...\n",
       "82    [My mother has very little time on her hands, ...\n",
       "Name: sent_tokenized_body, dtype: object"
      ]
     },
     "execution_count": 65,
     "metadata": {},
     "output_type": "execute_result"
    }
   ],
   "source": [
    "dem_df[dem_df['sent_count_body'] > 0]['sent_tokenized_body'].head()"
   ]
  },
  {
   "cell_type": "code",
   "execution_count": 75,
   "metadata": {},
   "outputs": [],
   "source": [
    "test = dem_df[dem_df['sent_count_body'] > 0]['sent_tokenized_body'].apply(pd.Series).stack().to_frame()\n",
    "test.reset_index(inplace=True)\n",
    "test.set_index('level_0', inplace=True)\n",
    "test.drop('level_1', axis=1, inplace=True)\n",
    "test['score'] = dem_df[dem_df['sent_count_body'] > 0]['score']"
   ]
  },
  {
   "cell_type": "code",
   "execution_count": null,
   "metadata": {},
   "outputs": [],
   "source": [
    "# TODO remove symbols, contractions\n",
    "# TODO lowercase words?\n",
    "# TODO Treat numbers as something else\n",
    "# Add beginning and end of sentence?\n",
    "# TODO how do we deal with stop words?\n"
   ]
  },
  {
   "cell_type": "code",
   "execution_count": 32,
   "metadata": {},
   "outputs": [],
   "source": [
    "# Put tokenized body into a list\n",
    "sent_list = list(dem_df[dem_df['sent_count_body'] > 0]['sent_tokenized_body'].apply(pd.Series).stack().unique())\n",
    "\n",
    "# Add tokenized title into the list\n",
    "sent_list += list(dem_df['sent_tokenized_title'].apply(pd.Series).stack().unique())\n",
    "\n",
    "# Put list into dataframe\n",
    "ds_df = pd.DataFrame(sent_list, columns=['sentence'])\n",
    "\n",
    "# Tokenize each sentence at the word level\n",
    "ds_df['word_token'] = ds_df['sentence'].apply(nltk.word_tokenize)"
   ]
  },
  {
   "cell_type": "code",
   "execution_count": 38,
   "metadata": {},
   "outputs": [
    {
     "data": {
      "text/plain": [
       "['For some reason for sometime now I have felt that the message behind being a Democrat has changed.',\n",
       " 'I don’t know if it’s all of the sometimes ridiculous things I see on TV or social media but I feel like it has been radicalized by the youth.']"
      ]
     },
     "execution_count": 38,
     "metadata": {},
     "output_type": "execute_result"
    }
   ],
   "source": [
    "dem_df[dem_df['sent_count_body'] > 0]['sent_tokenized_body'].iloc[0]"
   ]
  },
  {
   "cell_type": "code",
   "execution_count": 36,
   "metadata": {},
   "outputs": [
    {
     "data": {
      "text/plain": [
       "11   0     For some reason for sometime now I have felt t...\n",
       "     1     I don’t know if it’s all of the sometimes ridi...\n",
       "26   0     “Complicity in criminal law refers to when som...\n",
       "     1     Criminal complicity may arise in the following...\n",
       "42   0     After reading Ta-Nehisi Coates, I’m less convi...\n",
       "46   0     A little introduction, I am a registered Democ...\n",
       "     1     I have voted for the Democratic Party my whole...\n",
       "     2     I am not a concern troll but a real American t...\n",
       "     3     I am frustrated with the story of what Jeffere...\n",
       "     4     What was he charged in was it 2008 only to be ...\n",
       "     5          This is such a let down from our government.\n",
       "     6     How could the judicial system  allow his behav...\n",
       "     7     How in the world was the FBI and other intelli...\n",
       "     8     Did they actually turn the other way in the fa...\n",
       "     9     We deserve better from our government involvin...\n",
       "     10    I expect to get few upvotes for this post and ...\n",
       "     11                                     That is a shame.\n",
       "     12    Seems overly apathetic response to something o...\n",
       "     13    I understand that Epstein had connections to T...\n",
       "     14    What in the world does that say about our opti...\n",
       "82   0     My mother has very little time on her hands, b...\n",
       "     1     To save her some time, I watched through both ...\n",
       "     2                She said I should share this with you.\n",
       "     3     **TL;DR This is a collection of time-stamps co...\n",
       "     4     I have transcribed and/or summarized the quest...\n",
       "     5     If a line starts with \"to Candidate\", that ind...\n",
       "     6     Topics with no explicit question attached are ...\n",
       "     7     If you are interested in a specific candidate ...\n",
       "     8     **\\n\\n[---Timestamps for DNC Debate 1, June 26...\n",
       "     9          71% Americans say the economy is doing well.\n",
       "                                 ...                        \n",
       "902  0     With so many people in the debate, wouldn't it...\n",
       "     1     It's a win-win-win scenario creating an \"Ameri...\n",
       "910  0     Most of the polls I see these days say Biden s...\n",
       "     1     I still haven't seen any articles talking abou...\n",
       "     2     Just going by what I hear, the democratic prim...\n",
       "     3     But there's another candidate nobody's ever he...\n",
       "     4     How does a silent candidate garner more than b...\n",
       "     5            It feels a lot like Clinton last election.\n",
       "     6     Everything I ever saw was about Bernie, but sh...\n",
       "929  0     I’ve recently been seeing a lot more vaccinati...\n",
       "     1     Should you have to be vaccinated to use public...\n",
       "     2     Should the government mandate vaccines in anyw...\n",
       "     3                What are your thoughts on the subject?\n",
       "946  0     Although I see the logic in holding off impeac...\n",
       "     1     Better get him now while his 38% of armed to t...\n",
       "981  0     I am a Senator Sanders supporter while Senator...\n",
       "     1     My preference for the former over the latter i...\n",
       "     2     I recognize, however, that the supporters of e...\n",
       "     3     Given that a popular media narrative is that b...\n",
       "     4                                                    1.\n",
       "     5             Why did Elizabeth vote for Ronald Reagan?\n",
       "     6     How does she reconcile this with her view that...\n",
       "     7     Does this further imply that she supported the...\n",
       "     8     [https://www.warren.senate.gov/newsroom/press-...\n",
       "     9     Does Ms. Warren still support  select subsidie...\n",
       "     10    [https://www.warren.senate.gov/newsroom/op-eds...\n",
       "     11    Does Elizabeth still believe, as she stated in...\n",
       "     12                                                   4.\n",
       "     13    Why is Medicare for All noticeably absent on t...\n",
       "     14    [https://elizabethwarren.com/issues/](https://...\n",
       "Length: 650, dtype: object"
      ]
     },
     "execution_count": 36,
     "metadata": {},
     "output_type": "execute_result"
    }
   ],
   "source": []
  },
  {
   "cell_type": "markdown",
   "metadata": {},
   "source": [
    "### ELMo"
   ]
  },
  {
   "cell_type": "code",
   "execution_count": 124,
   "metadata": {},
   "outputs": [],
   "source": [
    "#download the model to local so it can be used again and again\n",
    "!mkdir module_elmo\n",
    "\n",
    "# Download the module, and uncompress it to the destination folder. \n",
    "!curl -L \"https://tfhub.dev/google/elmo/2?tf-hub-format=compressed\" | tar -zxvC module_elmo"
   ]
  },
  {
   "cell_type": "code",
   "execution_count": 24,
   "metadata": {},
   "outputs": [],
   "source": [
    "elmo = hub.Module(\"module_elmo\", trainable=False)\n",
    "embeddings = elmo([demsent_df.iloc[0]['sentence']], signature=\"default\", as_dict=True)[\"elmo\"]\n",
    "\n",
    "with tf.Session() as session:\n",
    "    session.run([tf.global_variables_initializer(), tf.tables_initializer()])\n",
    "    message_embeddings = session.run(embeddings)"
   ]
  },
  {
   "cell_type": "code",
   "execution_count": 23,
   "metadata": {},
   "outputs": [
    {
     "data": {
      "text/plain": [
       "12"
      ]
     },
     "execution_count": 23,
     "metadata": {},
     "output_type": "execute_result"
    }
   ],
   "source": [
    "len(message_embeddings[0])"
   ]
  },
  {
   "cell_type": "markdown",
   "metadata": {},
   "source": [
    "# Questions\n",
    "* Sentiment analysis labeled data\n",
    "* How would we go about scoring the performance of our models?\n",
    "    * I proposed to use the scores that are available on the reddit\n",
    "* Should we train the sentiment classifier at a sentence or post level?\n",
    "    * Each post may contain multiple sentences\n"
   ]
  },
  {
   "cell_type": "markdown",
   "metadata": {},
   "source": [
    "### Data from r/Republican Subreddit"
   ]
  },
  {
   "cell_type": "code",
   "execution_count": null,
   "metadata": {},
   "outputs": [],
   "source": []
  },
  {
   "cell_type": "code",
   "execution_count": 91,
   "metadata": {},
   "outputs": [
    {
     "data": {
      "text/plain": [
       "1497"
      ]
     },
     "execution_count": 91,
     "metadata": {},
     "output_type": "execute_result"
    }
   ],
   "source": [
    "len(list(dem_posts['sent_tokenized_title'].apply(pd.Series).stack()))"
   ]
  },
  {
   "cell_type": "code",
   "execution_count": 92,
   "metadata": {},
   "outputs": [
    {
     "data": {
      "text/plain": [
       "2211"
      ]
     },
     "execution_count": 92,
     "metadata": {},
     "output_type": "execute_result"
    }
   ],
   "source": [
    "1497 + 714"
   ]
  },
  {
   "cell_type": "code",
   "execution_count": 90,
   "metadata": {},
   "outputs": [
    {
     "data": {
      "text/plain": [
       "2211"
      ]
     },
     "execution_count": 90,
     "metadata": {},
     "output_type": "execute_result"
    }
   ],
   "source": [
    "len(test)"
   ]
  },
  {
   "cell_type": "code",
   "execution_count": 61,
   "metadata": {},
   "outputs": [],
   "source": [
    "republicans = reddit.subreddit('Republican')"
   ]
  },
  {
   "cell_type": "code",
   "execution_count": 76,
   "metadata": {},
   "outputs": [],
   "source": [
    "posts = []\n",
    "# for post in democrats.top(limit = 1):\n",
    "for post in republicans.hot(limit = 1000):\n",
    "    posts.append([post.title, post.score, post.id, post.subreddit, post.url, post.num_comments, post.selftext, post.created, post.is_self, post.link_flair_text])\n",
    "rep_posts = pd.DataFrame(posts,columns=['title', 'score', 'id', 'subreddit', 'url', 'num_comments', 'body', 'created', 'is_self', 'link_flair_text'])\n",
    "created = rep_posts[\"created\"].apply(lambda x: dt.datetime.fromtimestamp(x))\n",
    "rep_posts['created'] = created"
   ]
  },
  {
   "cell_type": "code",
   "execution_count": null,
   "metadata": {},
   "outputs": [],
   "source": []
  },
  {
   "cell_type": "code",
   "execution_count": null,
   "metadata": {},
   "outputs": [],
   "source": []
  },
  {
   "cell_type": "code",
   "execution_count": null,
   "metadata": {},
   "outputs": [],
   "source": []
  }
 ],
 "metadata": {
  "kernelspec": {
   "display_name": "Python 3",
   "language": "python",
   "name": "python3"
  },
  "language_info": {
   "codemirror_mode": {
    "name": "ipython",
    "version": 3
   },
   "file_extension": ".py",
   "mimetype": "text/x-python",
   "name": "python",
   "nbconvert_exporter": "python",
   "pygments_lexer": "ipython3",
   "version": "3.7.0"
  }
 },
 "nbformat": 4,
 "nbformat_minor": 2
}
