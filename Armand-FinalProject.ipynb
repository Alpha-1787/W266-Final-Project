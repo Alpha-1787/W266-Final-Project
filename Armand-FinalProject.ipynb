{
 "cells": [
  {
   "cell_type": "markdown",
   "metadata": {},
   "source": [
    "# Imports"
   ]
  },
  {
   "cell_type": "code",
   "execution_count": 2,
   "metadata": {},
   "outputs": [],
   "source": [
    "# Used to pull data from Reddit\n",
    "import praw\n",
    "import pandas as pd\n",
    "import datetime as dt\n",
    "\n",
    "from gensim.models import Word2Vec\n",
    "from nltk.corpus import brown\n",
    "import nltk\n",
    "import tensorflow as tf\n",
    "import tensorflow_hub as hub\n",
    "import multiprocessing\n",
    "from google.cloud import bigquery\n",
    "\n",
    "#nltk.download('punkt')\n",
    "#nltk.download('brown')"
   ]
  },
  {
   "cell_type": "code",
   "execution_count": null,
   "metadata": {},
   "outputs": [],
   "source": [
    "sql_query = '''\n",
    "SELECT \n",
    "    r.subreddit,\n",
    "    r.created_utc,\n",
    "    DATETIME_TRUNC(DATETIME(TIMESTAMP(r.created_utc, 'US/Eastern')), MONTH) AS date_month,\n",
    "    r.body\n",
    "FROM \n",
    "  `fh-bigquery.reddit_comments.2018_10` r\n",
    "WHERE\n",
    "  r.subreddit IN ('democrats', 'progressive', 'Conservative', 'republicans')\n",
    "UNION ALL\n",
    "SELECT \n",
    "    r.subreddit,\n",
    "    r.created_utc,\n",
    "    r.body\n",
    "FROM \n",
    "  `fh-bigquery.reddit_comments.2018_11` r\n",
    "WHERE\n",
    "  r.subreddit IN ('democrats', 'progressive', 'Conservative', 'republicans')\n",
    "UNION ALL\n",
    "SELECT \n",
    "    r.subreddit,\n",
    "    r.created_utc,\n",
    "    r.body\n",
    "FROM \n",
    "  `fh-bigquery.reddit_comments.2018_12` r\n",
    "WHERE\n",
    "  r.subreddit IN ('democrats', 'progressive', 'Conservative', 'republicans')\n",
    "UNION ALL\n",
    "SELECT \n",
    "    r.subreddit,\n",
    "    r.created_utc,\n",
    "    r.body\n",
    "FROM \n",
    "  `fh-bigquery.reddit_comments.2019_01` r\n",
    "WHERE\n",
    "  r.subreddit IN ('democrats', 'progressive', 'Conservative', 'republicans')\n",
    "UNION ALL\n",
    "SELECT \n",
    "    r.subreddit,\n",
    "    r.created_utc,\n",
    "    r.body\n",
    "FROM \n",
    "  `fh-bigquery.reddit_comments.2019_02` r\n",
    "WHERE\n",
    "  r.subreddit IN ('democrats', 'progressive', 'Conservative', 'republicans')\n",
    "UNION ALL\n",
    "SELECT \n",
    "    r.subreddit,\n",
    "    r.created_utc,\n",
    "    r.body\n",
    "FROM \n",
    "  `fh-bigquery.reddit_comments.2019_03` r\n",
    "WHERE\n",
    "  r.subreddit IN ('democrats', 'progressive', 'Conservative', 'republicans')\n",
    "'''\n",
    "\n",
    "# Put query results into df\n",
    "comment_df = pd.read_gbq(sql_query,\n",
    "                         project_id='w266-240122',\n",
    "                         dialect='standard')\n",
    "\n",
    "# Convert date into proper date/time\n",
    "comment_df['created_dt_tm'] = comment_df['created_utc'].apply(lambda x: dt.datetime.fromtimestamp(x))\n",
    "\n",
    "# Create field for month\n",
    "comment_df['created_dt_month'] = comment_df.created_dt_tm.dt.to_period('M').dt.to_timestamp()"
   ]
  },
  {
   "cell_type": "code",
   "execution_count": 4,
   "metadata": {},
   "outputs": [],
   "source": [
    "sql_query = \"\"\"\n",
    "SELECT \n",
    "    r.subreddit,\n",
    "    r.title,\n",
    "    r.selftext,\n",
    "    r.is_self\n",
    "FROM \n",
    "  `fh-bigquery.reddit_posts.2019_03` r\n",
    "WHERE\n",
    "  r.subreddit IN ('democrats', 'progressive', 'Conservative', 'republicans')\n",
    "\"\"\"\n",
    "\n",
    "post_df = pd.read_gbq(sql_query,\n",
    "                      project_id='w266-240122',\n",
    "                      dialect='standard')"
   ]
  },
  {
   "cell_type": "markdown",
   "metadata": {},
   "source": [
    "# Basic EDA"
   ]
  },
  {
   "cell_type": "code",
   "execution_count": 51,
   "metadata": {},
   "outputs": [
    {
     "data": {
      "text/plain": [
       "2019-03-01    109492\n",
       "2018-10-01    107297\n",
       "2019-01-01    100792\n",
       "2018-11-01     91601\n",
       "2019-02-01     88902\n",
       "2018-12-01     73725\n",
       "2018-09-01       765\n",
       "Name: created_dt_month, dtype: int64"
      ]
     },
     "execution_count": 51,
     "metadata": {},
     "output_type": "execute_result"
    }
   ],
   "source": [
    "comment_df['created_dt_month'].value_counts()"
   ]
  },
  {
   "cell_type": "markdown",
   "metadata": {},
   "source": [
    "# Emebdding from Democratic Leaning Subreddits"
   ]
  },
  {
   "cell_type": "markdown",
   "metadata": {},
   "source": [
    "### Text PreProcessing"
   ]
  },
  {
   "cell_type": "code",
   "execution_count": 67,
   "metadata": {},
   "outputs": [],
   "source": [
    "def pre_process(comment_df, post_df, subreddit):\n",
    "    \n",
    "    # Body text from post dataframe\n",
    "    post_text = list(post_df[(post_df['is_self'] == True) &\n",
    "                             (~post_df['selftext'].isin(['[removed]', '[deleted]'])) &\n",
    "                             post_df['subreddit'].isin(subreddit)]['selftext'].unique())\n",
    "    \n",
    "    # Add in text from title\n",
    "    post_text += list(post_df[post_df['is_self'] == True]['title'].unique())\n",
    "    \n",
    "    # Add in text from post comments\n",
    "    post_text += list(comment_df[(comment_df['subreddit'].isin(subreddit)) & \n",
    "                                     (~comment_df['body'].isin(['[removed]', '[deleted]']))]['body'])\n",
    "    \n",
    "    # Put all text into dataframe and drop dupes\n",
    "    text_df = pd.DataFrame(post_text, columns=['text'])\n",
    "    text_df.drop_duplicates(inplace=True)\n",
    "    \n",
    "    return text_df"
   ]
  },
  {
   "cell_type": "code",
   "execution_count": 60,
   "metadata": {},
   "outputs": [],
   "source": [
    "def train_embedding(text_df):\n",
    "\n",
    "    # Tokenize at sentence level\n",
    "    text_df['sent_tokenized'] = text_df['text'].apply(nltk.sent_tokenize)\n",
    "    text_df['sent_count'] = text_df['sent_tokenized'].apply(lambda x: len(x))\n",
    "    \n",
    "    # Put tokenized body into a list\n",
    "    sent_list = list(text_df[text_df['sent_count'] > 0]['sent_tokenized'].apply(pd.Series).stack().unique())\n",
    "\n",
    "    # Put list into dataframe\n",
    "    sent_df = pd.DataFrame(dem_sent_list, columns=['sentence'])\n",
    "\n",
    "    # Tokenize each sentence at the word level\n",
    "    sent_df['word_token'] = sent_df['sentence'].apply(nltk.word_tokenize)\n",
    "    \n",
    "    # train word embedding\n",
    "    embedding = Word2Vec(list(ds_df['word_token']),\n",
    "                         size=100,\n",
    "                         window=5, \n",
    "                         min_count=5, \n",
    "                         negative=15, \n",
    "                         iter=10, workers=6)\n",
    "    \n",
    "    return embedding"
   ]
  },
  {
   "cell_type": "code",
   "execution_count": 69,
   "metadata": {},
   "outputs": [],
   "source": [
    "test_df = pre_process(comment_df, post_df, ['democrats', 'progressive'])\n",
    "word_embedding = train_embedding(test_df)"
   ]
  },
  {
   "cell_type": "code",
   "execution_count": null,
   "metadata": {},
   "outputs": [],
   "source": [
    "# TODO remove symbols, contractions\n",
    "# TODO lowercase words?\n",
    "# TODO Treat numbers as something else\n",
    "# Add beginning and end of sentence?\n",
    "# TODO how do we deal with stop words?"
   ]
  },
  {
   "cell_type": "markdown",
   "metadata": {},
   "source": [
    "### Skipgram Embedding"
   ]
  },
  {
   "cell_type": "code",
   "execution_count": 149,
   "metadata": {},
   "outputs": [],
   "source": [
    "# train word embedding\n",
    "dem_embedding = Word2Vec(list(ds_df['word_token']), size=100, window=5, min_count=5, negative=15, iter=10, workers=6)"
   ]
  },
  {
   "cell_type": "code",
   "execution_count": 151,
   "metadata": {},
   "outputs": [
    {
     "data": {
      "text/plain": [
       "[('protections', 0.7453681826591492),\n",
       " ('legalization', 0.7333822250366211),\n",
       " ('Healthcare', 0.7216455340385437),\n",
       " ('violations', 0.7168678641319275),\n",
       " ('protection', 0.7053380012512207),\n",
       " ('procedures', 0.7013863325119019),\n",
       " ('disability', 0.6971272230148315),\n",
       " ('**Rescinds**', 0.6955320835113525),\n",
       " ('restricting', 0.6952570676803589),\n",
       " ('prisons', 0.6950944662094116)]"
      ]
     },
     "execution_count": 151,
     "metadata": {},
     "output_type": "execute_result"
    }
   ],
   "source": [
    "dem_embedding.wv.similar_by_word('marijuana')"
   ]
  },
  {
   "cell_type": "code",
   "execution_count": 163,
   "metadata": {},
   "outputs": [
    {
     "data": {
      "text/plain": [
       "[('Booker', 0.8538322448730469),\n",
       " ('Warren', 0.8496584892272949),\n",
       " ('Biden', 0.8336505889892578),\n",
       " ('Klobuchar', 0.8247814178466797),\n",
       " ('Kamala', 0.8058872222900391),\n",
       " ('Beto', 0.8028988838195801),\n",
       " ('Gillibrand', 0.7822431325912476),\n",
       " ('Elizabeth', 0.7690243721008301),\n",
       " ('Sanders', 0.7555172443389893),\n",
       " (\"O'Rourke\", 0.7544282674789429)]"
      ]
     },
     "execution_count": 163,
     "metadata": {},
     "output_type": "execute_result"
    }
   ],
   "source": [
    "dem_embedding.wv.similar_by_word('Harris')"
   ]
  },
  {
   "cell_type": "code",
   "execution_count": 150,
   "metadata": {},
   "outputs": [
    {
     "data": {
      "text/plain": [
       "[('trump', 0.8671435117721558),\n",
       " ('Putin', 0.6433150172233582),\n",
       " ('Bernie', 0.6169761419296265),\n",
       " ('Maduro', 0.5872288346290588),\n",
       " ('Russia', 0.5814106464385986),\n",
       " ('Trumpski', 0.5781972408294678),\n",
       " ('he', 0.5778998732566833),\n",
       " ('him', 0.5740189552307129),\n",
       " ('bernie', 0.5607132911682129),\n",
       " ('tRump', 0.56041419506073)]"
      ]
     },
     "execution_count": 150,
     "metadata": {},
     "output_type": "execute_result"
    }
   ],
   "source": [
    "dem_embedding.wv.similar_by_word('Trump')"
   ]
  },
  {
   "cell_type": "code",
   "execution_count": 143,
   "metadata": {},
   "outputs": [
    {
     "data": {
      "text/plain": [
       "[('trump', 0.7485096454620361),\n",
       " ('he', 0.6877127885818481),\n",
       " ('president', 0.6715365648269653),\n",
       " ('Russia', 0.6475684642791748),\n",
       " ('He', 0.6389645338058472),\n",
       " ('McConnell', 0.6372545957565308),\n",
       " ('Clinton', 0.6367909908294678),\n",
       " ('Hillary', 0.6154500246047974),\n",
       " ('President', 0.612384557723999),\n",
       " ('She', 0.6113145351409912)]"
      ]
     },
     "execution_count": 143,
     "metadata": {},
     "output_type": "execute_result"
    }
   ],
   "source": [
    "dem_embedding.wv.similar_by_word('Trump')"
   ]
  },
  {
   "cell_type": "code",
   "execution_count": 123,
   "metadata": {},
   "outputs": [
    {
     "data": {
      "text/plain": [
       "[('nobody', 0.7864992022514343),\n",
       " ('Cornyn', 0.7798274755477905),\n",
       " ('drop', 0.7716587781906128),\n",
       " ('necessary', 0.762731671333313),\n",
       " ('fun', 0.7519711256027222),\n",
       " ('Trumps', 0.7489361763000488),\n",
       " ('investigated', 0.7456454038619995),\n",
       " ('Apple', 0.7444183826446533),\n",
       " ('9/11', 0.7405687570571899),\n",
       " ('Ivanka', 0.7376561760902405)]"
      ]
     },
     "execution_count": 123,
     "metadata": {},
     "output_type": "execute_result"
    }
   ],
   "source": [
    "dem_embedding.wv.similar_by_word('McConnell')"
   ]
  },
  {
   "cell_type": "code",
   "execution_count": 144,
   "metadata": {},
   "outputs": [
    {
     "data": {
      "text/plain": [
       "[('Warren', 0.888292670249939),\n",
       " ('Biden', 0.8418302536010742),\n",
       " ('Sanders', 0.8297291398048401),\n",
       " ('Elizabeth', 0.8213909864425659),\n",
       " ('Klobuchar', 0.7796796560287476),\n",
       " ('Booker', 0.7661500573158264),\n",
       " ('congressman', 0.7622315883636475),\n",
       " ('VP', 0.7596662640571594),\n",
       " ('Kamala', 0.7543649077415466),\n",
       " ('Gabbard', 0.7347267270088196)]"
      ]
     },
     "execution_count": 144,
     "metadata": {},
     "output_type": "execute_result"
    }
   ],
   "source": [
    "dem_embedding.wv.similar_by_word('Harris')"
   ]
  },
  {
   "cell_type": "markdown",
   "metadata": {},
   "source": [
    "### ELMo"
   ]
  },
  {
   "cell_type": "code",
   "execution_count": 20,
   "metadata": {},
   "outputs": [
    {
     "name": "stdout",
     "output_type": "stream",
     "text": [
      "  % Total    % Received % Xferd  Average Speed   Time    Time     Time  Current\n",
      "                                 Dload  Upload   Total   Spent    Left  Speed\n",
      "  0     0    0     0    0     0      0      0 --:--:-- --:--:-- --:--:--     0\n",
      "  0  331M    0   415    0     0    369      0  10d 21h  0:00:01  10d 21h   369x assets/\n",
      "x saved_model.pb\n",
      "x tfhub_module.pb\n",
      "x variables/\n",
      "x variables/variables.index\n",
      "100  331M  100  331M    0     0  2054k      0  0:02:45  0:02:45 --:--:-- 2379k 2614kk      0  0:02:59  0:01:26  0:01:33 2755k   0  2087k      0  0:02:42  0:01:43  0:00:59 3369k      0  0:02:41  0:01:51  0:00:50 2300k  0:01:56  0:00:44 2391k0:02:44  0:02:25  0:00:19 2082k\n",
      "\n"
     ]
    }
   ],
   "source": [
    "# Download ELMo to a local directory\n",
    "!mkdir module_elmo\n",
    "\n",
    "# Download the module, and uncompress it to the destination folder. \n",
    "!curl -L \"https://tfhub.dev/google/elmo/2?tf-hub-format=compressed\" | tar -zxvC module_elmo"
   ]
  },
  {
   "cell_type": "code",
   "execution_count": null,
   "metadata": {},
   "outputs": [],
   "source": []
  },
  {
   "cell_type": "code",
   "execution_count": 3,
   "metadata": {},
   "outputs": [
    {
     "name": "stdout",
     "output_type": "stream",
     "text": [
      "WARNING:tensorflow:From /anaconda3/lib/python3.7/site-packages/tensorflow/python/ops/control_flow_ops.py:3632: colocate_with (from tensorflow.python.framework.ops) is deprecated and will be removed in a future version.\n",
      "Instructions for updating:\n",
      "Colocations handled automatically by placer.\n"
     ]
    },
    {
     "name": "stderr",
     "output_type": "stream",
     "text": [
      "WARNING: Logging before flag parsing goes to stderr.\n",
      "W0715 08:37:23.398818 4789093824 deprecation.py:323] From /anaconda3/lib/python3.7/site-packages/tensorflow/python/ops/control_flow_ops.py:3632: colocate_with (from tensorflow.python.framework.ops) is deprecated and will be removed in a future version.\n",
      "Instructions for updating:\n",
      "Colocations handled automatically by placer.\n"
     ]
    },
    {
     "name": "stdout",
     "output_type": "stream",
     "text": [
      "INFO:tensorflow:Saver not created because there are no variables in the graph to restore\n"
     ]
    },
    {
     "name": "stderr",
     "output_type": "stream",
     "text": [
      "I0715 08:37:24.135161 4789093824 saver.py:1483] Saver not created because there are no variables in the graph to restore\n"
     ]
    }
   ],
   "source": [
    "# Download ELMo to a local directory\n",
    "!mkdir module_elmo\n",
    "\n",
    "# Download the module, and uncompress it to the destination folder. \n",
    "!curl -L \"https://tfhub.dev/google/elmo/2?tf-hub-format=compressed\" | tar -zxvC module_elmo\n",
    "\n",
    "# Initialize elmo\n",
    "elmo = hub.Module('module_elmo', trainable=True)\n",
    "embeddings = elmo(['This is an example sentence that I want an embedding for'], signature=\"default\", as_dict=True)['elmo']\n",
    "\n",
    "# Get word embedding\n",
    "with tf.Session() as session:\n",
    "    session.run([tf.global_variables_initializer(), tf.tables_initializer()])\n",
    "    message_embeddings = session.run(embeddings)"
   ]
  },
  {
   "cell_type": "code",
   "execution_count": 5,
   "metadata": {},
   "outputs": [
    {
     "data": {
      "text/plain": [
       "(1, 11, 1024)"
      ]
     },
     "execution_count": 5,
     "metadata": {},
     "output_type": "execute_result"
    }
   ],
   "source": [
    "# Download ELMo to a local directory\n",
    "!mkdir module_elmo\n",
    "\n",
    "# Download the module, and uncompress it to the destination folder. \n",
    "!curl -L \"https://tfhub.dev/google/elmo/2?tf-hub-format=compressed\" | tar -zxvC module_elmo\n",
    "\n",
    "# Initialize elmo\n",
    "elmo = hub.Module('module_elmo', trainable=True)\n",
    "embeddings = elmo(['This is an example sentence that I want an embedding for'], signature=\"default\", as_dict=True)['elmo']\n",
    "\n",
    "# Get word embedding\n",
    "with tf.Session() as session:\n",
    "    session.run([tf.global_variables_initializer(), tf.tables_initializer()])\n",
    "    message_embeddings = session.run(embeddings)\n",
    "\n",
    "message_embeddings.shape"
   ]
  },
  {
   "cell_type": "markdown",
   "metadata": {},
   "source": [
    "# Questions\n",
    "* Sentiment analysis labeled data\n",
    "* How would we go about scoring the performance of our models?\n",
    "    * I proposed to use the scores that are available on the reddit\n",
    "* Should we train the sentiment classifier at a sentence or post level?\n",
    "    * Each post may contain multiple sentences\n"
   ]
  },
  {
   "cell_type": "markdown",
   "metadata": {},
   "source": [
    "### Data from r/Republican Subreddit"
   ]
  },
  {
   "cell_type": "code",
   "execution_count": null,
   "metadata": {},
   "outputs": [],
   "source": []
  },
  {
   "cell_type": "code",
   "execution_count": 91,
   "metadata": {},
   "outputs": [
    {
     "data": {
      "text/plain": [
       "1497"
      ]
     },
     "execution_count": 91,
     "metadata": {},
     "output_type": "execute_result"
    }
   ],
   "source": [
    "len(list(dem_posts['sent_tokenized_title'].apply(pd.Series).stack()))"
   ]
  },
  {
   "cell_type": "code",
   "execution_count": 92,
   "metadata": {},
   "outputs": [
    {
     "data": {
      "text/plain": [
       "2211"
      ]
     },
     "execution_count": 92,
     "metadata": {},
     "output_type": "execute_result"
    }
   ],
   "source": [
    "1497 + 714"
   ]
  },
  {
   "cell_type": "code",
   "execution_count": 90,
   "metadata": {},
   "outputs": [
    {
     "data": {
      "text/plain": [
       "2211"
      ]
     },
     "execution_count": 90,
     "metadata": {},
     "output_type": "execute_result"
    }
   ],
   "source": [
    "len(test)"
   ]
  },
  {
   "cell_type": "code",
   "execution_count": 61,
   "metadata": {},
   "outputs": [],
   "source": [
    "republicans = reddit.subreddit('Republican')"
   ]
  },
  {
   "cell_type": "code",
   "execution_count": 76,
   "metadata": {},
   "outputs": [],
   "source": [
    "posts = []\n",
    "# for post in democrats.top(limit = 1):\n",
    "for post in republicans.hot(limit = 1000):\n",
    "    posts.append([post.title, post.score, post.id, post.subreddit, post.url, post.num_comments, post.selftext, post.created, post.is_self, post.link_flair_text])\n",
    "rep_posts = pd.DataFrame(posts,columns=['title', 'score', 'id', 'subreddit', 'url', 'num_comments', 'body', 'created', 'is_self', 'link_flair_text'])\n",
    "created = rep_posts[\"created\"].apply(lambda x: dt.datetime.fromtimestamp(x))\n",
    "rep_posts['created'] = created"
   ]
  },
  {
   "cell_type": "code",
   "execution_count": null,
   "metadata": {},
   "outputs": [],
   "source": []
  },
  {
   "cell_type": "code",
   "execution_count": null,
   "metadata": {},
   "outputs": [],
   "source": []
  },
  {
   "cell_type": "code",
   "execution_count": null,
   "metadata": {},
   "outputs": [],
   "source": []
  }
 ],
 "metadata": {
  "kernelspec": {
   "display_name": "Python 3",
   "language": "python",
   "name": "python3"
  },
  "language_info": {
   "codemirror_mode": {
    "name": "ipython",
    "version": 3
   },
   "file_extension": ".py",
   "mimetype": "text/x-python",
   "name": "python",
   "nbconvert_exporter": "python",
   "pygments_lexer": "ipython3",
   "version": "3.7.3"
  }
 },
 "nbformat": 4,
 "nbformat_minor": 2
}
