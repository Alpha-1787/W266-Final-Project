{
 "cells": [
  {
   "cell_type": "markdown",
   "metadata": {},
   "source": [
    "# Imports"
   ]
  },
  {
   "cell_type": "code",
   "execution_count": 209,
   "metadata": {},
   "outputs": [],
   "source": [
    "# Used to pull data from Reddit\n",
    "import praw\n",
    "import pandas as pd\n",
    "import datetime as dt\n",
    "import numpy as np\n",
    "import seaborn as sns\n",
    "import statsmodels.formula.api\n",
    "\n",
    "\n",
    "from gensim.models import Word2Vec\n",
    "from nltk.corpus import brown\n",
    "import nltk\n",
    "import tensorflow as tf\n",
    "import tensorflow_hub as hub\n",
    "import multiprocessing\n",
    "from google.cloud import bigquery\n",
    "\n",
    "from sklearn.linear_model import SGDClassifier\n",
    "from sklearn.model_selection import train_test_split\n",
    "from sklearn.metrics import accuracy_score\n",
    "\n",
    "#nltk.download('punkt')\n",
    "#nltk.download('brown')"
   ]
  },
  {
   "cell_type": "code",
   "execution_count": 2,
   "metadata": {},
   "outputs": [],
   "source": [
    "sql_query = '''\n",
    "SELECT \n",
    "    r.subreddit,\n",
    "    r.created_utc,\n",
    "    r.body\n",
    "FROM \n",
    "  `fh-bigquery.reddit_comments.2018_10` r\n",
    "WHERE\n",
    "  r.subreddit IN ('democrats', 'progressive', 'Conservative', 'republicans')\n",
    "UNION ALL\n",
    "SELECT \n",
    "    r.subreddit,\n",
    "    r.created_utc,\n",
    "    r.body\n",
    "FROM \n",
    "  `fh-bigquery.reddit_comments.2018_11` r\n",
    "WHERE\n",
    "  r.subreddit IN ('democrats', 'progressive', 'Conservative', 'republicans')\n",
    "UNION ALL\n",
    "SELECT \n",
    "    r.subreddit,\n",
    "    r.created_utc,\n",
    "    r.body\n",
    "FROM \n",
    "  `fh-bigquery.reddit_comments.2018_12` r\n",
    "WHERE\n",
    "  r.subreddit IN ('democrats', 'progressive', 'Conservative', 'republicans')\n",
    "UNION ALL\n",
    "SELECT \n",
    "    r.subreddit,\n",
    "    r.created_utc,\n",
    "    r.body\n",
    "FROM \n",
    "  `fh-bigquery.reddit_comments.2019_01` r\n",
    "WHERE\n",
    "  r.subreddit IN ('democrats', 'progressive', 'Conservative', 'republicans')\n",
    "UNION ALL\n",
    "SELECT \n",
    "    r.subreddit,\n",
    "    r.created_utc,\n",
    "    r.body\n",
    "FROM \n",
    "  `fh-bigquery.reddit_comments.2019_02` r\n",
    "WHERE\n",
    "  r.subreddit IN ('democrats', 'progressive', 'Conservative', 'republicans')\n",
    "UNION ALL\n",
    "SELECT \n",
    "    r.subreddit,\n",
    "    r.created_utc,\n",
    "    r.body\n",
    "FROM \n",
    "  `fh-bigquery.reddit_comments.2019_03` r\n",
    "WHERE\n",
    "  r.subreddit IN ('democrats', 'progressive', 'Conservative', 'republicans')\n",
    "'''\n",
    "\n",
    "# Put query results into df\n",
    "comment_df = pd.read_gbq(sql_query,\n",
    "                         project_id='w266-240122',\n",
    "                         dialect='standard')\n",
    "\n",
    "# Convert date into proper date/time\n",
    "comment_df['created_dt_tm'] = comment_df['created_utc'].apply(lambda x: dt.datetime.fromtimestamp(x))\n",
    "\n",
    "# Create field for month\n",
    "comment_df['created_dt_month'] = comment_df['created_dt_tm'].dt.to_period('M').dt.to_timestamp()"
   ]
  },
  {
   "cell_type": "code",
   "execution_count": 3,
   "metadata": {},
   "outputs": [],
   "source": [
    "sql_query = \"\"\"\n",
    "SELECT \n",
    "    r.subreddit,\n",
    "    r.created_utc,\n",
    "    r.title,\n",
    "    r.selftext,\n",
    "    r.is_self\n",
    "FROM \n",
    "  `fh-bigquery.reddit_posts.2018_10` r\n",
    "WHERE\n",
    "  r.subreddit IN ('democrats', 'progressive', 'Conservative', 'republicans')\n",
    "UNION ALL\n",
    "SELECT \n",
    "    r.subreddit,\n",
    "    r.created_utc,\n",
    "    r.title,\n",
    "    r.selftext,\n",
    "    r.is_self\n",
    "FROM \n",
    "  `fh-bigquery.reddit_posts.2018_11` r\n",
    "WHERE\n",
    "  r.subreddit IN ('democrats', 'progressive', 'Conservative', 'republicans')\n",
    "UNION ALL\n",
    "SELECT \n",
    "    r.subreddit,\n",
    "    r.created_utc,\n",
    "    r.title,\n",
    "    r.selftext,\n",
    "    r.is_self\n",
    "FROM \n",
    "  `fh-bigquery.reddit_posts.2018_12` r\n",
    "WHERE\n",
    "  r.subreddit IN ('democrats', 'progressive', 'Conservative', 'republicans')\n",
    "UNION ALL\n",
    "SELECT \n",
    "    r.subreddit,\n",
    "    r.created_utc,\n",
    "    r.title,\n",
    "    r.selftext,\n",
    "    r.is_self\n",
    "FROM \n",
    "  `fh-bigquery.reddit_posts.2019_01` r\n",
    "WHERE\n",
    "  r.subreddit IN ('democrats', 'progressive', 'Conservative', 'republicans')\n",
    "UNION ALL\n",
    "SELECT \n",
    "    r.subreddit,\n",
    "    r.created_utc,\n",
    "    r.title,\n",
    "    r.selftext,\n",
    "    r.is_self\n",
    "FROM \n",
    "  `fh-bigquery.reddit_posts.2019_02` r\n",
    "WHERE\n",
    "  r.subreddit IN ('democrats', 'progressive', 'Conservative', 'republicans')\n",
    "UNION ALL\n",
    "SELECT \n",
    "    r.subreddit,\n",
    "    r.created_utc,\n",
    "    r.title,\n",
    "    r.selftext,\n",
    "    r.is_self\n",
    "FROM \n",
    "  `fh-bigquery.reddit_posts.2019_03` r\n",
    "WHERE\n",
    "  r.subreddit IN ('democrats', 'progressive', 'Conservative', 'republicans')\n",
    "\"\"\"\n",
    "\n",
    "post_df = pd.read_gbq(sql_query,\n",
    "                      project_id='w266-240122',\n",
    "                      dialect='standard')\n",
    "\n",
    "# Convert date into proper date/time\n",
    "post_df['created_dt_tm'] = post_df['created_utc'].apply(lambda x: dt.datetime.fromtimestamp(x))\n",
    "\n",
    "# Create field for month\n",
    "post_df['created_dt_month'] = post_df['created_dt_tm'].dt.to_period('M').dt.to_timestamp()"
   ]
  },
  {
   "cell_type": "markdown",
   "metadata": {},
   "source": [
    "# Functions"
   ]
  },
  {
   "cell_type": "code",
   "execution_count": 150,
   "metadata": {},
   "outputs": [],
   "source": [
    "def preprocess_text(comment_df, post_df, subreddit, lower=False):\n",
    "    \n",
    "    # TODO remove symbols, contractions\n",
    "    # TODO lowercase words?\n",
    "    # TODO Treat numbers as something else\n",
    "    # Add beginning and end of sentence?\n",
    "    # TODO how do we deal with stop words?\n",
    "    \n",
    "    # Body text from post dataframe\n",
    "    post_text = list(post_df[(post_df['is_self'] == True) &\n",
    "                             (~post_df['selftext'].isin(['[removed]', '[deleted]'])) &\n",
    "                             post_df['subreddit'].isin(subreddit)]['selftext'].unique())\n",
    "    \n",
    "    # Add in text from title\n",
    "    post_text += list(post_df[post_df['is_self'] == True]['title'].unique())\n",
    "    \n",
    "    # Add in text from post comments\n",
    "    post_text += list(comment_df[(comment_df['subreddit'].isin(subreddit)) & \n",
    "                                     (~comment_df['body'].isin(['[removed]', '[deleted]']))]['body'])\n",
    "    \n",
    "    # Put all text into dataframe and drop dupes\n",
    "    text_df = pd.DataFrame(post_text, columns=['text'])\n",
    "    text_df.drop_duplicates(inplace=True)\n",
    "    \n",
    "    # Tokenize at sentence level\n",
    "    text_df['sent_tokenized'] = text_df['text'].apply(nltk.sent_tokenize)\n",
    "    text_df['sent_count'] = text_df['sent_tokenized'].apply(lambda x: len(x))\n",
    "\n",
    "    # Put tokenized body into a list\n",
    "    sent_list = list(text_df[text_df['sent_count'] > 0]['sent_tokenized'].apply(pd.Series).stack().unique())\n",
    "\n",
    "    # Put list into dataframe\n",
    "    sent_df = pd.DataFrame(sent_list, columns=['sentence'])\n",
    "    \n",
    "    # lowercase\n",
    "    if lower == True:\n",
    "        sent_df['sentence'] = sent_df['sentence'].str.lower()\n",
    "\n",
    "    # Tokenize each sentence at the word level\n",
    "    sent_df['word_token'] = sent_df['sentence'].apply(nltk.word_tokenize)\n",
    "    \n",
    "    return sent_df"
   ]
  },
  {
   "cell_type": "code",
   "execution_count": 151,
   "metadata": {},
   "outputs": [],
   "source": [
    "def train_embedding(sent_df):\n",
    "    \n",
    "    # train word embedding\n",
    "    embedding = Word2Vec(list(sent_df['word_token']),\n",
    "                         size=100,\n",
    "                         window=5, \n",
    "                         min_count=5, \n",
    "                         negative=15, \n",
    "                         iter=10, workers=6)\n",
    "    \n",
    "    return embedding"
   ]
  },
  {
   "cell_type": "markdown",
   "metadata": {},
   "source": [
    "# Basic EDA"
   ]
  },
  {
   "cell_type": "code",
   "execution_count": 6,
   "metadata": {},
   "outputs": [
    {
     "data": {
      "text/plain": [
       "2019-03-01    109492\n",
       "2018-10-01    107297\n",
       "2019-01-01    100792\n",
       "2018-11-01     91601\n",
       "2019-02-01     88902\n",
       "2018-12-01     73725\n",
       "2018-09-01       765\n",
       "Name: created_dt_month, dtype: int64"
      ]
     },
     "execution_count": 6,
     "metadata": {},
     "output_type": "execute_result"
    }
   ],
   "source": [
    "comment_df['created_dt_month'].value_counts()"
   ]
  },
  {
   "cell_type": "code",
   "execution_count": 7,
   "metadata": {},
   "outputs": [
    {
     "data": {
      "text/plain": [
       "2018-10-01    11185\n",
       "2019-01-01    10551\n",
       "2019-03-01    10473\n",
       "2018-11-01     9703\n",
       "2019-02-01     9316\n",
       "2018-12-01     7986\n",
       "2018-09-01       94\n",
       "Name: created_dt_month, dtype: int64"
      ]
     },
     "execution_count": 7,
     "metadata": {},
     "output_type": "execute_result"
    }
   ],
   "source": [
    "post_df['created_dt_month'].value_counts()"
   ]
  },
  {
   "cell_type": "code",
   "execution_count": 8,
   "metadata": {},
   "outputs": [],
   "source": [
    "sent_df = preprocess_text(comment_df, \n",
    "                          post_df,\n",
    "                          ['democrats', 'progressive'])"
   ]
  },
  {
   "cell_type": "code",
   "execution_count": 9,
   "metadata": {},
   "outputs": [],
   "source": [
    "sent_df['sent_length'] = sent_df['word_token'].apply(lambda x: len(x))"
   ]
  },
  {
   "cell_type": "markdown",
   "metadata": {},
   "source": [
    "# Emebddings from Democratic Leaning Subreddits"
   ]
  },
  {
   "cell_type": "markdown",
   "metadata": {},
   "source": [
    "### Text PreProcessing"
   ]
  },
  {
   "cell_type": "code",
   "execution_count": 208,
   "metadata": {},
   "outputs": [],
   "source": [
    "# Empty list to store the embeddings\n",
    "embedding_list = []\n",
    "\n",
    "# Dates to iterate over\n",
    "dates = comment_df.created_dt_month.sort_values().unique()[1:]\n",
    "\n",
    "# Iterate for each month and create embedding for it\n",
    "for d in dates:\n",
    "    sent_df = preprocess_text(comment_df[comment_df['created_dt_month'] == d], \n",
    "                              post_df[post_df['created_dt_month'] == d],\n",
    "                              ['democrats', 'progressive'], \n",
    "                              lower=False)\n",
    "    word_embedding = train_embedding(sent_df)\n",
    "    embedding_list.append(word_embedding)"
   ]
  },
  {
   "cell_type": "markdown",
   "metadata": {},
   "source": [
    "# Sentiment Model"
   ]
  },
  {
   "cell_type": "code",
   "execution_count": 17,
   "metadata": {},
   "outputs": [],
   "source": [
    "def load_lexicon(filename):\n",
    "    \"\"\"\n",
    "    Load a file from Bing Liu's sentiment lexicon\n",
    "    (https://www.cs.uic.edu/~liub/FBS/sentiment-analysis.html), containing\n",
    "    English words in Latin-1 encoding.\n",
    "    \n",
    "    One file contains a list of positive words, and the other contains\n",
    "    a list of negative words. The files contain comment lines starting\n",
    "    with ';' and blank lines, which should be skipped.\n",
    "    \"\"\"\n",
    "    lexicon = []\n",
    "    with open(filename, encoding='latin-1') as infile:\n",
    "        for line in infile:\n",
    "            line = line.rstrip()\n",
    "            if line and not line.startswith(';'):\n",
    "                lexicon.append(line)\n",
    "    return lexicon\n",
    "\n",
    "pos_words = load_lexicon('positive-words.txt')\n",
    "neg_words = load_lexicon('negative-words.txt')"
   ]
  },
  {
   "cell_type": "code",
   "execution_count": 210,
   "metadata": {},
   "outputs": [],
   "source": [
    "embedding_df = pd.DataFrame(embedding_list[0].wv.vectors)\n",
    "embedding_df.index = embedding_list[0].wv.index2word"
   ]
  },
  {
   "cell_type": "code",
   "execution_count": 211,
   "metadata": {},
   "outputs": [],
   "source": [
    "pos_vectors = embedding_df.reindex(index=pos_words).dropna()\n",
    "neg_vectors = embedding_df.reindex(index=neg_words).dropna()\n",
    "\n",
    "vectors = pd.concat([pos_vectors, neg_vectors])\n",
    "targets = np.array([1 for entry in pos_vectors.index] + [-1 for entry in neg_vectors.index])\n",
    "labels = list(pos_vectors.index) + list(neg_vectors.index)"
   ]
  },
  {
   "cell_type": "code",
   "execution_count": 212,
   "metadata": {},
   "outputs": [],
   "source": [
    "train_vectors, test_vectors, train_targets, test_targets, train_labels, test_labels = \\\n",
    "train_test_split(vectors, targets, labels, test_size=0.1, random_state=0)"
   ]
  },
  {
   "cell_type": "code",
   "execution_count": 213,
   "metadata": {},
   "outputs": [
    {
     "name": "stderr",
     "output_type": "stream",
     "text": [
      "/anaconda3/lib/python3.7/site-packages/sklearn/linear_model/stochastic_gradient.py:152: DeprecationWarning: n_iter parameter is deprecated in 0.19 and will be removed in 0.21. Use max_iter and tol instead.\n",
      "  DeprecationWarning)\n"
     ]
    },
    {
     "data": {
      "text/plain": [
       "SGDClassifier(alpha=0.0001, average=False, class_weight=None,\n",
       "       early_stopping=False, epsilon=0.1, eta0=0.0, fit_intercept=True,\n",
       "       l1_ratio=0.15, learning_rate='optimal', loss='log', max_iter=None,\n",
       "       n_iter=100, n_iter_no_change=5, n_jobs=None, penalty='l2',\n",
       "       power_t=0.5, random_state=0, shuffle=True, tol=None,\n",
       "       validation_fraction=0.1, verbose=0, warm_start=False)"
      ]
     },
     "execution_count": 213,
     "metadata": {},
     "output_type": "execute_result"
    }
   ],
   "source": [
    "model = SGDClassifier(loss='log', random_state=0, n_iter=100)\n",
    "model.fit(train_vectors, train_targets)"
   ]
  },
  {
   "cell_type": "code",
   "execution_count": 214,
   "metadata": {},
   "outputs": [
    {
     "data": {
      "text/plain": [
       "0.7373737373737373"
      ]
     },
     "execution_count": 214,
     "metadata": {},
     "output_type": "execute_result"
    }
   ],
   "source": [
    "accuracy_score(model.predict(test_vectors), test_targets)"
   ]
  },
  {
   "cell_type": "code",
   "execution_count": 284,
   "metadata": {},
   "outputs": [
    {
     "data": {
      "text/html": [
       "<div>\n",
       "<style scoped>\n",
       "    .dataframe tbody tr th:only-of-type {\n",
       "        vertical-align: middle;\n",
       "    }\n",
       "\n",
       "    .dataframe tbody tr th {\n",
       "        vertical-align: top;\n",
       "    }\n",
       "\n",
       "    .dataframe thead th {\n",
       "        text-align: right;\n",
       "    }\n",
       "</style>\n",
       "<table border=\"1\" class=\"dataframe\">\n",
       "  <thead>\n",
       "    <tr style=\"text-align: right;\">\n",
       "      <th></th>\n",
       "      <th>sentiment</th>\n",
       "    </tr>\n",
       "  </thead>\n",
       "  <tbody>\n",
       "    <tr>\n",
       "      <th>murderous</th>\n",
       "      <td>-1.566623</td>\n",
       "    </tr>\n",
       "    <tr>\n",
       "      <th>horrific</th>\n",
       "      <td>-1.845333</td>\n",
       "    </tr>\n",
       "    <tr>\n",
       "      <th>trusted</th>\n",
       "      <td>-1.121001</td>\n",
       "    </tr>\n",
       "    <tr>\n",
       "      <th>murder</th>\n",
       "      <td>-2.698865</td>\n",
       "    </tr>\n",
       "    <tr>\n",
       "      <th>clear</th>\n",
       "      <td>1.940544</td>\n",
       "    </tr>\n",
       "    <tr>\n",
       "      <th>benefits</th>\n",
       "      <td>-2.822477</td>\n",
       "    </tr>\n",
       "    <tr>\n",
       "      <th>respect</th>\n",
       "      <td>-1.829895</td>\n",
       "    </tr>\n",
       "    <tr>\n",
       "      <th>booming</th>\n",
       "      <td>-1.401345</td>\n",
       "    </tr>\n",
       "    <tr>\n",
       "      <th>irrelevant</th>\n",
       "      <td>-1.251382</td>\n",
       "    </tr>\n",
       "    <tr>\n",
       "      <th>partisan</th>\n",
       "      <td>-0.333362</td>\n",
       "    </tr>\n",
       "  </tbody>\n",
       "</table>\n",
       "</div>"
      ],
      "text/plain": [
       "            sentiment\n",
       "murderous   -1.566623\n",
       "horrific    -1.845333\n",
       "trusted     -1.121001\n",
       "murder      -2.698865\n",
       "clear        1.940544\n",
       "benefits    -2.822477\n",
       "respect     -1.829895\n",
       "booming     -1.401345\n",
       "irrelevant  -1.251382\n",
       "partisan    -0.333362"
      ]
     },
     "execution_count": 284,
     "metadata": {},
     "output_type": "execute_result"
    }
   ],
   "source": [
    "def vecs_to_sentiment(vecs):\n",
    "    # predict_log_proba gives the log probability for each class\n",
    "    predictions = model.predict_log_proba(vecs)\n",
    "\n",
    "    # To see an overall positive vs. negative classification in one number,\n",
    "    # we take the log probability of positive sentiment minus the log\n",
    "    # probability of negative sentiment.\n",
    "    return predictions[:, 1] - predictions[:, 0]\n",
    "\n",
    "\n",
    "def words_to_sentiment(words):\n",
    "    vecs = embedding_df.loc[words].dropna()\n",
    "    log_odds = vecs_to_sentiment(vecs)\n",
    "    return pd.DataFrame({'sentiment': log_odds}, index=vecs.index)\n",
    "\n",
    "\n",
    "# Show 20 examples from the test set\n",
    "words_to_sentiment(test_labels).iloc[:10]"
   ]
  },
  {
   "cell_type": "code",
   "execution_count": 216,
   "metadata": {},
   "outputs": [],
   "source": [
    "import re\n",
    "TOKEN_RE = re.compile(r\"\\w.*?\\b\")\n",
    "# The regex above finds tokens that start with a word-like character (\\w), and continues\n",
    "# matching characters (.+?) until the next word break (\\b). It's a relatively simple\n",
    "# expression that manages to extract something very much like words from text.\n",
    "\n",
    "\n",
    "def text_to_sentiment(text):\n",
    "    tokens = [token.casefold() for token in TOKEN_RE.findall(text)]\n",
    "    sentiments = words_to_sentiment(tokens)\n",
    "    return sentiments['sentiment'].mean()"
   ]
  },
  {
   "cell_type": "code",
   "execution_count": 281,
   "metadata": {},
   "outputs": [
    {
     "data": {
      "text/plain": [
       "-0.9871121835807091"
      ]
     },
     "execution_count": 281,
     "metadata": {},
     "output_type": "execute_result"
    }
   ],
   "source": [
    "text_to_sentiment('Trump')"
   ]
  },
  {
   "cell_type": "code",
   "execution_count": 282,
   "metadata": {},
   "outputs": [
    {
     "data": {
      "text/plain": [
       "-0.9871121835807091"
      ]
     },
     "execution_count": 282,
     "metadata": {},
     "output_type": "execute_result"
    }
   ],
   "source": [
    "text_to_sentiment('Obama')"
   ]
  },
  {
   "cell_type": "code",
   "execution_count": 275,
   "metadata": {},
   "outputs": [
    {
     "data": {
      "text/plain": [
       "-2.917751795003542"
      ]
     },
     "execution_count": 275,
     "metadata": {},
     "output_type": "execute_result"
    }
   ],
   "source": [
    "text_to_sentiment('Trump')"
   ]
  },
  {
   "cell_type": "code",
   "execution_count": 290,
   "metadata": {},
   "outputs": [
    {
     "data": {
      "text/plain": [
       "0.6986753252329718"
      ]
     },
     "execution_count": 290,
     "metadata": {},
     "output_type": "execute_result"
    }
   ],
   "source": [
    "text_to_sentiment('Republicans')"
   ]
  },
  {
   "cell_type": "code",
   "execution_count": 250,
   "metadata": {},
   "outputs": [
    {
     "data": {
      "text/plain": [
       "-2.917751795003542"
      ]
     },
     "execution_count": 250,
     "metadata": {},
     "output_type": "execute_result"
    }
   ],
   "source": [
    "text_to_sentiment('Trump')"
   ]
  },
  {
   "cell_type": "markdown",
   "metadata": {},
   "source": [
    "### ELMo"
   ]
  },
  {
   "cell_type": "code",
   "execution_count": 20,
   "metadata": {},
   "outputs": [
    {
     "name": "stdout",
     "output_type": "stream",
     "text": [
      "  % Total    % Received % Xferd  Average Speed   Time    Time     Time  Current\n",
      "                                 Dload  Upload   Total   Spent    Left  Speed\n",
      "  0     0    0     0    0     0      0      0 --:--:-- --:--:-- --:--:--     0\n",
      "  0  331M    0   415    0     0    369      0  10d 21h  0:00:01  10d 21h   369x assets/\n",
      "x saved_model.pb\n",
      "x tfhub_module.pb\n",
      "x variables/\n",
      "x variables/variables.index\n",
      "100  331M  100  331M    0     0  2054k      0  0:02:45  0:02:45 --:--:-- 2379k 2614kk      0  0:02:59  0:01:26  0:01:33 2755k   0  2087k      0  0:02:42  0:01:43  0:00:59 3369k      0  0:02:41  0:01:51  0:00:50 2300k  0:01:56  0:00:44 2391k0:02:44  0:02:25  0:00:19 2082k\n",
      "\n"
     ]
    }
   ],
   "source": [
    "# Download ELMo to a local directory\n",
    "!mkdir module_elmo\n",
    "\n",
    "# Download the module, and uncompress it to the destination folder. \n",
    "!curl -L \"https://tfhub.dev/google/elmo/2?tf-hub-format=compressed\" | tar -zxvC module_elmo"
   ]
  },
  {
   "cell_type": "code",
   "execution_count": 4,
   "metadata": {},
   "outputs": [
    {
     "name": "stdout",
     "output_type": "stream",
     "text": [
      "WARNING:tensorflow:From /anaconda3/lib/python3.7/site-packages/tensorflow/python/ops/control_flow_ops.py:3632: colocate_with (from tensorflow.python.framework.ops) is deprecated and will be removed in a future version.\n",
      "Instructions for updating:\n",
      "Colocations handled automatically by placer.\n"
     ]
    },
    {
     "name": "stderr",
     "output_type": "stream",
     "text": [
      "WARNING: Logging before flag parsing goes to stderr.\n",
      "W0715 22:15:39.981253 4808177088 deprecation.py:323] From /anaconda3/lib/python3.7/site-packages/tensorflow/python/ops/control_flow_ops.py:3632: colocate_with (from tensorflow.python.framework.ops) is deprecated and will be removed in a future version.\n",
      "Instructions for updating:\n",
      "Colocations handled automatically by placer.\n"
     ]
    },
    {
     "name": "stdout",
     "output_type": "stream",
     "text": [
      "INFO:tensorflow:Saver not created because there are no variables in the graph to restore\n"
     ]
    },
    {
     "name": "stderr",
     "output_type": "stream",
     "text": [
      "I0715 22:15:40.683024 4808177088 saver.py:1483] Saver not created because there are no variables in the graph to restore\n"
     ]
    }
   ],
   "source": [
    "# Initialize elmo\n",
    "elmo = hub.Module('module_elmo', trainable=True)\n",
    "embeddings = elmo(['Trump'], signature=\"default\", as_dict=True)['elmo']\n",
    "\n",
    "# Get word embedding\n",
    "with tf.Session() as session:\n",
    "    session.run([tf.global_variables_initializer(), tf.tables_initializer()])\n",
    "    message_embeddings = session.run(embeddings)"
   ]
  },
  {
   "cell_type": "code",
   "execution_count": 11,
   "metadata": {},
   "outputs": [
    {
     "data": {
      "text/plain": [
       "1024"
      ]
     },
     "execution_count": 11,
     "metadata": {},
     "output_type": "execute_result"
    }
   ],
   "source": [
    "message_embeddings[0][0]"
   ]
  },
  {
   "cell_type": "code",
   "execution_count": 5,
   "metadata": {},
   "outputs": [
    {
     "data": {
      "text/plain": [
       "(1, 11, 1024)"
      ]
     },
     "execution_count": 5,
     "metadata": {},
     "output_type": "execute_result"
    }
   ],
   "source": [
    "# Download ELMo to a local directory\n",
    "!mkdir module_elmo\n",
    "\n",
    "# Download the module, and uncom`press it to the destination folder. \n",
    "!curl -L \"https://tfhub.dev/google/elmo/2?tf-hub-format=compressed\" | tar -zxvC module_elmo\n",
    "\n",
    "# Initialize elmo\n",
    "elmo = hub.Module('module_elmo', trainable=True)\n",
    "embeddings = elmo(['This is an example sentence that I want an embedding for'], signature=\"default\", as_dict=True)['elmo']\n",
    "\n",
    "# Get word embedding\n",
    "with tf.Session() as session:\n",
    "    session.run([tf.global_variables_initializer(), tf.tables_initializer()])\n",
    "    message_embeddings = session.run(embeddings)\n",
    "\n",
    "message_embeddings.shape"
   ]
  },
  {
   "cell_type": "markdown",
   "metadata": {},
   "source": [
    "# Questions\n",
    "* Sentiment analysis labeled data\n",
    "* How would we go about scoring the performance of our models?\n",
    "    * I proposed to use the scores that are available on the reddit\n",
    "* Should we train the sentiment classifier at a sentence or post level?\n",
    "    * Each post may contain multiple sentences\n"
   ]
  }
 ],
 "metadata": {
  "kernelspec": {
   "display_name": "Python 3",
   "language": "python",
   "name": "python3"
  },
  "language_info": {
   "codemirror_mode": {
    "name": "ipython",
    "version": 3
   },
   "file_extension": ".py",
   "mimetype": "text/x-python",
   "name": "python",
   "nbconvert_exporter": "python",
   "pygments_lexer": "ipython3",
   "version": "3.7.3"
  }
 },
 "nbformat": 4,
 "nbformat_minor": 2
}
