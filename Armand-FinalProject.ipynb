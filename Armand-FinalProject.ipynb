{
 "cells": [
  {
   "cell_type": "markdown",
   "metadata": {},
   "source": [
    "# Imports"
   ]
  },
  {
   "cell_type": "code",
   "execution_count": 23,
   "metadata": {},
   "outputs": [],
   "source": [
    "# Used to pull data from Reddit\n",
    "import praw\n",
    "import pandas as pd\n",
    "import datetime as dt\n",
    "import numpy as np\n",
    "import seaborn as sns\n",
    "\n",
    "from gensim.models import Word2Vec\n",
    "from nltk.corpus import brown\n",
    "import nltk\n",
    "import tensorflow as tf\n",
    "import tensorflow_hub as hub\n",
    "import multiprocessing\n",
    "from google.cloud import bigquery\n",
    "\n",
    "#nltk.download('punkt')\n",
    "#nltk.download('brown')"
   ]
  },
  {
   "cell_type": "code",
   "execution_count": 5,
   "metadata": {},
   "outputs": [],
   "source": [
    "sql_query = '''\n",
    "SELECT \n",
    "    r.subreddit,\n",
    "    r.created_utc,\n",
    "    r.body\n",
    "FROM \n",
    "  `fh-bigquery.reddit_comments.2018_10` r\n",
    "WHERE\n",
    "  r.subreddit IN ('democrats', 'progressive', 'Conservative', 'republicans')\n",
    "UNION ALL\n",
    "SELECT \n",
    "    r.subreddit,\n",
    "    r.created_utc,\n",
    "    r.body\n",
    "FROM \n",
    "  `fh-bigquery.reddit_comments.2018_11` r\n",
    "WHERE\n",
    "  r.subreddit IN ('democrats', 'progressive', 'Conservative', 'republicans')\n",
    "UNION ALL\n",
    "SELECT \n",
    "    r.subreddit,\n",
    "    r.created_utc,\n",
    "    r.body\n",
    "FROM \n",
    "  `fh-bigquery.reddit_comments.2018_12` r\n",
    "WHERE\n",
    "  r.subreddit IN ('democrats', 'progressive', 'Conservative', 'republicans')\n",
    "UNION ALL\n",
    "SELECT \n",
    "    r.subreddit,\n",
    "    r.created_utc,\n",
    "    r.body\n",
    "FROM \n",
    "  `fh-bigquery.reddit_comments.2019_01` r\n",
    "WHERE\n",
    "  r.subreddit IN ('democrats', 'progressive', 'Conservative', 'republicans')\n",
    "UNION ALL\n",
    "SELECT \n",
    "    r.subreddit,\n",
    "    r.created_utc,\n",
    "    r.body\n",
    "FROM \n",
    "  `fh-bigquery.reddit_comments.2019_02` r\n",
    "WHERE\n",
    "  r.subreddit IN ('democrats', 'progressive', 'Conservative', 'republicans')\n",
    "UNION ALL\n",
    "SELECT \n",
    "    r.subreddit,\n",
    "    r.created_utc,\n",
    "    r.body\n",
    "FROM \n",
    "  `fh-bigquery.reddit_comments.2019_03` r\n",
    "WHERE\n",
    "  r.subreddit IN ('democrats', 'progressive', 'Conservative', 'republicans')\n",
    "'''\n",
    "\n",
    "# Put query results into df\n",
    "comment_df = pd.read_gbq(sql_query,\n",
    "                         project_id='w266-240122',\n",
    "                         dialect='standard')\n",
    "\n",
    "# Convert date into proper date/time\n",
    "comment_df['created_dt_tm'] = comment_df['created_utc'].apply(lambda x: dt.datetime.fromtimestamp(x))\n",
    "\n",
    "# Create field for month\n",
    "comment_df['created_dt_month'] = comment_df['created_dt_tm'].dt.to_period('M').dt.to_timestamp()"
   ]
  },
  {
   "cell_type": "code",
   "execution_count": 6,
   "metadata": {},
   "outputs": [],
   "source": [
    "sql_query = \"\"\"\n",
    "SELECT \n",
    "    r.subreddit,\n",
    "    r.created_utc,\n",
    "    r.title,\n",
    "    r.selftext,\n",
    "    r.is_self\n",
    "FROM \n",
    "  `fh-bigquery.reddit_posts.2018_10` r\n",
    "WHERE\n",
    "  r.subreddit IN ('democrats', 'progressive', 'Conservative', 'republicans')\n",
    "UNION ALL\n",
    "SELECT \n",
    "    r.subreddit,\n",
    "    r.created_utc,\n",
    "    r.title,\n",
    "    r.selftext,\n",
    "    r.is_self\n",
    "FROM \n",
    "  `fh-bigquery.reddit_posts.2018_11` r\n",
    "WHERE\n",
    "  r.subreddit IN ('democrats', 'progressive', 'Conservative', 'republicans')\n",
    "UNION ALL\n",
    "SELECT \n",
    "    r.subreddit,\n",
    "    r.created_utc,\n",
    "    r.title,\n",
    "    r.selftext,\n",
    "    r.is_self\n",
    "FROM \n",
    "  `fh-bigquery.reddit_posts.2018_12` r\n",
    "WHERE\n",
    "  r.subreddit IN ('democrats', 'progressive', 'Conservative', 'republicans')\n",
    "UNION ALL\n",
    "SELECT \n",
    "    r.subreddit,\n",
    "    r.created_utc,\n",
    "    r.title,\n",
    "    r.selftext,\n",
    "    r.is_self\n",
    "FROM \n",
    "  `fh-bigquery.reddit_posts.2019_01` r\n",
    "WHERE\n",
    "  r.subreddit IN ('democrats', 'progressive', 'Conservative', 'republicans')\n",
    "UNION ALL\n",
    "SELECT \n",
    "    r.subreddit,\n",
    "    r.created_utc,\n",
    "    r.title,\n",
    "    r.selftext,\n",
    "    r.is_self\n",
    "FROM \n",
    "  `fh-bigquery.reddit_posts.2019_02` r\n",
    "WHERE\n",
    "  r.subreddit IN ('democrats', 'progressive', 'Conservative', 'republicans')\n",
    "UNION ALL\n",
    "SELECT \n",
    "    r.subreddit,\n",
    "    r.created_utc,\n",
    "    r.title,\n",
    "    r.selftext,\n",
    "    r.is_self\n",
    "FROM \n",
    "  `fh-bigquery.reddit_posts.2019_03` r\n",
    "WHERE\n",
    "  r.subreddit IN ('democrats', 'progressive', 'Conservative', 'republicans')\n",
    "\"\"\"\n",
    "\n",
    "post_df = pd.read_gbq(sql_query,\n",
    "                      project_id='w266-240122',\n",
    "                      dialect='standard')\n",
    "\n",
    "# Convert date into proper date/time\n",
    "post_df['created_dt_tm'] = post_df['created_utc'].apply(lambda x: dt.datetime.fromtimestamp(x))\n",
    "\n",
    "# Create field for month\n",
    "post_df['created_dt_month'] = post_df['created_dt_tm'].dt.to_period('M').dt.to_timestamp()"
   ]
  },
  {
   "cell_type": "markdown",
   "metadata": {},
   "source": [
    "# Functions"
   ]
  },
  {
   "cell_type": "code",
   "execution_count": 33,
   "metadata": {},
   "outputs": [],
   "source": [
    "def preprocess_text(comment_df, post_df, subreddit):\n",
    "    \n",
    "    # TODO remove symbols, contractions\n",
    "    # TODO lowercase words?\n",
    "    # TODO Treat numbers as something else\n",
    "    # Add beginning and end of sentence?\n",
    "    # TODO how do we deal with stop words?\n",
    "    \n",
    "    # Body text from post dataframe\n",
    "    post_text = list(post_df[(post_df['is_self'] == True) &\n",
    "                             (~post_df['selftext'].isin(['[removed]', '[deleted]'])) &\n",
    "                             post_df['subreddit'].isin(subreddit)]['selftext'].unique())\n",
    "    \n",
    "    # Add in text from title\n",
    "    post_text += list(post_df[post_df['is_self'] == True]['title'].unique())\n",
    "    \n",
    "    # Add in text from post comments\n",
    "    post_text += list(comment_df[(comment_df['subreddit'].isin(subreddit)) & \n",
    "                                     (~comment_df['body'].isin(['[removed]', '[deleted]']))]['body'])\n",
    "    \n",
    "    # Put all text into dataframe and drop dupes\n",
    "    text_df = pd.DataFrame(post_text, columns=['text'])\n",
    "    text_df.drop_duplicates(inplace=True)\n",
    "    \n",
    "    # Tokenize at sentence level\n",
    "    text_df['sent_tokenized'] = text_df['text'].apply(nltk.sent_tokenize)\n",
    "    text_df['sent_count'] = text_df['sent_tokenized'].apply(lambda x: len(x))\n",
    "\n",
    "    # Put tokenized body into a list\n",
    "    sent_list = list(text_df[text_df['sent_count'] > 0]['sent_tokenized'].apply(pd.Series).stack().unique())\n",
    "\n",
    "    # Put list into dataframe\n",
    "    sent_df = pd.DataFrame(sent_list, columns=['sentence'])\n",
    "\n",
    "    # Tokenize each sentence at the word level\n",
    "    sent_df['word_token'] = sent_df['sentence'].apply(nltk.word_tokenize)\n",
    "    \n",
    "    return sent_df"
   ]
  },
  {
   "cell_type": "code",
   "execution_count": 32,
   "metadata": {},
   "outputs": [],
   "source": [
    "def train_embedding(sent_df):\n",
    "    \n",
    "    # train word embedding\n",
    "    embedding = Word2Vec(list(sent_df['word_token']),\n",
    "                         size=100,\n",
    "                         window=5, \n",
    "                         min_count=5, \n",
    "                         negative=15, \n",
    "                         iter=10, workers=6)\n",
    "    \n",
    "    return embedding"
   ]
  },
  {
   "cell_type": "markdown",
   "metadata": {},
   "source": [
    "# Basic EDA"
   ]
  },
  {
   "cell_type": "code",
   "execution_count": 10,
   "metadata": {},
   "outputs": [
    {
     "data": {
      "text/plain": [
       "2019-03-01    109492\n",
       "2018-10-01    107297\n",
       "2019-01-01    100792\n",
       "2018-11-01     91601\n",
       "2019-02-01     88902\n",
       "2018-12-01     73725\n",
       "2018-09-01       765\n",
       "Name: created_dt_month, dtype: int64"
      ]
     },
     "execution_count": 10,
     "metadata": {},
     "output_type": "execute_result"
    }
   ],
   "source": [
    "comment_df['created_dt_month'].value_counts()"
   ]
  },
  {
   "cell_type": "code",
   "execution_count": 11,
   "metadata": {},
   "outputs": [
    {
     "data": {
      "text/plain": [
       "2018-10-01    11185\n",
       "2019-01-01    10551\n",
       "2019-03-01    10473\n",
       "2018-11-01     9703\n",
       "2019-02-01     9316\n",
       "2018-12-01     7986\n",
       "2018-09-01       94\n",
       "Name: created_dt_month, dtype: int64"
      ]
     },
     "execution_count": 11,
     "metadata": {},
     "output_type": "execute_result"
    }
   ],
   "source": [
    "post_df['created_dt_month'].value_counts()"
   ]
  },
  {
   "cell_type": "code",
   "execution_count": null,
   "metadata": {},
   "outputs": [],
   "source": [
    "sent_df = preprocess_text(comment_df, \n",
    "                          post_df,\n",
    "                          ['democrats', 'progressive'])"
   ]
  },
  {
   "cell_type": "code",
   "execution_count": 19,
   "metadata": {},
   "outputs": [],
   "source": [
    "sent_df['sent_length'] = sent_df['word_token'].apply(lambda x: len(x))"
   ]
  },
  {
   "cell_type": "code",
   "execution_count": 25,
   "metadata": {},
   "outputs": [
    {
     "data": {
      "text/plain": [
       "count    162849.000000\n",
       "mean         16.033215\n",
       "std          12.799296\n",
       "min           1.000000\n",
       "25%           8.000000\n",
       "50%          13.000000\n",
       "75%          21.000000\n",
       "max        1079.000000\n",
       "Name: sent_length, dtype: float64"
      ]
     },
     "execution_count": 25,
     "metadata": {},
     "output_type": "execute_result"
    }
   ],
   "source": [
    "sent_df['sent_length'].describe()"
   ]
  },
  {
   "cell_type": "markdown",
   "metadata": {},
   "source": [
    "# Emebdding from Democratic Leaning Subreddits"
   ]
  },
  {
   "cell_type": "markdown",
   "metadata": {},
   "source": [
    "### Text PreProcessing"
   ]
  },
  {
   "cell_type": "code",
   "execution_count": null,
   "metadata": {},
   "outputs": [],
   "source": [
    "# Empty list to store the embeddings\n",
    "embedding_list = []\n",
    "\n",
    "# Dates to iterate over\n",
    "dates = comment_df.created_dt_month.sort_values().unique()[1:]\n",
    "\n",
    "# Iterate for each month and create embedding for it\n",
    "for d in dates:\n",
    "    sent_df = preprocess_text(comment_df[comment_df['created_dt_month'] == d], \n",
    "                              post_df[post_df['created_dt_month'] == d],\n",
    "                             ['democrats', 'progressive'])\n",
    "    word_embedding = train_embedding(sent_df)\n",
    "    embedding_list.append(word_embedding)"
   ]
  },
  {
   "cell_type": "code",
   "execution_count": 129,
   "metadata": {},
   "outputs": [
    {
     "data": {
      "text/plain": [
       "array([-1.7190933e+00,  4.1021172e-02,  1.1593300e+00,  2.0203650e+00,\n",
       "        1.9874138e+00,  1.9087055e-03, -1.0063719e+00, -1.8183178e+00,\n",
       "       -1.3092844e-01,  3.8338795e+00, -8.6535853e-01,  3.5451894e+00,\n",
       "       -2.8931671e-01, -1.1620345e+00,  9.1748387e-01, -4.0269172e-01,\n",
       "       -2.0906296e-01,  8.7279648e-02,  1.9909885e+00,  7.7803499e-01,\n",
       "       -3.5342729e+00, -1.0143763e+00,  5.3909101e-02,  1.2877710e+00,\n",
       "       -6.4435524e-01,  2.3384080e+00,  9.7574785e-02, -3.1455305e-01,\n",
       "        3.8596442e-01,  1.0303618e+00, -1.4870282e-01,  1.5712183e+00,\n",
       "        1.3617808e-01,  3.6301854e-01, -1.6417710e+00,  2.4938097e+00,\n",
       "       -4.3287870e-01, -1.9931700e+00,  2.6318507e+00, -2.3353438e+00,\n",
       "       -2.7420471e+00, -3.6454326e-01, -2.1236794e+00, -1.6058459e+00,\n",
       "        4.0929160e-01,  8.8338435e-01, -4.9283695e-01,  3.2288483e-01,\n",
       "        4.5569095e-01, -1.9589363e+00, -6.0223770e-01,  2.9102414e+00,\n",
       "       -3.3178275e+00,  1.6971275e+00, -1.3805312e+00,  4.1557971e-01,\n",
       "        7.9721224e-01, -5.1418316e-01, -2.8135097e+00,  1.5780859e+00,\n",
       "       -2.4447329e+00, -1.6214421e+00,  2.5678532e+00, -2.8928480e-01,\n",
       "        1.6383100e+00, -3.2083387e+00, -1.8508793e-01, -1.8895249e+00,\n",
       "        1.1419556e+00,  1.6265570e-01,  7.6712114e-01,  1.1301500e+00,\n",
       "        8.4912759e-01, -1.9970752e-01,  2.0322003e+00,  1.2078847e+00,\n",
       "       -9.0130568e-01, -1.9972786e+00,  1.2646902e+00,  7.3845387e-02,\n",
       "       -1.1954273e+00, -2.8562337e-01, -2.0958960e+00, -4.9514753e-01,\n",
       "        8.7044239e-02, -3.1673350e+00, -6.6712961e-02,  6.4670622e-01,\n",
       "        1.1877630e+00, -2.4439819e+00, -3.4601080e+00, -1.7371224e+00,\n",
       "       -4.2669870e-02, -4.7958693e-01,  2.3823562e+00,  4.2937332e-01,\n",
       "       -8.2308441e-01,  3.1488279e-01, -1.8389413e+00,  2.7172086e+00],\n",
       "      dtype=float32)"
      ]
     },
     "execution_count": 129,
     "metadata": {},
     "output_type": "execute_result"
    }
   ],
   "source": [
    "embedding_list[0].wv.get_vector('Trump')"
   ]
  },
  {
   "cell_type": "code",
   "execution_count": 130,
   "metadata": {},
   "outputs": [
    {
     "data": {
      "text/plain": [
       "array([-0.5075389 ,  0.14912793,  0.07176501,  1.1566166 ,  1.7253845 ,\n",
       "        2.61282   , -1.4427612 , -0.99972963,  2.1480021 ,  0.8256554 ,\n",
       "       -1.1864061 ,  2.311868  ,  0.7749732 ,  0.49654955,  0.20799069,\n",
       "       -1.2363505 ,  0.10987767,  0.6288812 ,  1.3055888 ,  2.6335826 ,\n",
       "       -0.95019555, -1.0392123 , -0.9106089 ,  1.8107651 , -2.1569471 ,\n",
       "        3.4074106 , -1.6975914 , -1.8802112 ,  1.2819365 , -0.08315355,\n",
       "       -1.8880098 ,  0.7893961 ,  1.5719092 ,  1.4571885 , -2.4410691 ,\n",
       "        0.6761529 , -1.2647302 , -0.31568453,  1.7645837 , -3.632652  ,\n",
       "       -2.0368884 ,  1.3229909 , -1.9676155 ,  0.50106   ,  0.01585384,\n",
       "        1.7202361 , -1.7338029 ,  1.3675741 , -0.0046582 ,  1.4361967 ,\n",
       "        0.935738  ,  1.9071585 , -2.9139009 ,  1.5232185 , -1.0181456 ,\n",
       "       -1.2355169 ,  3.353508  , -2.7842114 , -0.8736882 ,  1.7795514 ,\n",
       "       -1.4942611 , -0.46974042,  1.2316047 , -0.08335562,  2.190173  ,\n",
       "       -3.920645  , -1.6090406 , -1.1650267 , -0.24947233, -0.69427466,\n",
       "        1.2669611 ,  2.396641  ,  1.2590551 ,  0.7975146 ,  1.365659  ,\n",
       "        0.38162038, -0.69376534,  0.9899661 ,  0.25297937, -0.32345262,\n",
       "       -2.4039683 , -1.2970709 , -0.9372553 ,  0.9651338 ,  1.0259001 ,\n",
       "       -2.9499907 , -0.67917454,  1.8919952 ,  0.8223974 , -1.082832  ,\n",
       "       -3.0011473 , -0.42235497, -1.337708  , -0.18176258,  1.358162  ,\n",
       "        2.0533967 , -0.90584266,  1.5929964 , -1.5282443 ,  3.357489  ],\n",
       "      dtype=float32)"
      ]
     },
     "execution_count": 130,
     "metadata": {},
     "output_type": "execute_result"
    }
   ],
   "source": [
    "embedding_list[1].wv.get_vector('Trump')"
   ]
  },
  {
   "cell_type": "markdown",
   "metadata": {},
   "source": [
    "### ELMo"
   ]
  },
  {
   "cell_type": "code",
   "execution_count": 20,
   "metadata": {},
   "outputs": [
    {
     "name": "stdout",
     "output_type": "stream",
     "text": [
      "  % Total    % Received % Xferd  Average Speed   Time    Time     Time  Current\n",
      "                                 Dload  Upload   Total   Spent    Left  Speed\n",
      "  0     0    0     0    0     0      0      0 --:--:-- --:--:-- --:--:--     0\n",
      "  0  331M    0   415    0     0    369      0  10d 21h  0:00:01  10d 21h   369x assets/\n",
      "x saved_model.pb\n",
      "x tfhub_module.pb\n",
      "x variables/\n",
      "x variables/variables.index\n",
      "100  331M  100  331M    0     0  2054k      0  0:02:45  0:02:45 --:--:-- 2379k 2614kk      0  0:02:59  0:01:26  0:01:33 2755k   0  2087k      0  0:02:42  0:01:43  0:00:59 3369k      0  0:02:41  0:01:51  0:00:50 2300k  0:01:56  0:00:44 2391k0:02:44  0:02:25  0:00:19 2082k\n",
      "\n"
     ]
    }
   ],
   "source": [
    "# Download ELMo to a local directory\n",
    "!mkdir module_elmo\n",
    "\n",
    "# Download the module, and uncompress it to the destination folder. \n",
    "!curl -L \"https://tfhub.dev/google/elmo/2?tf-hub-format=compressed\" | tar -zxvC module_elmo"
   ]
  },
  {
   "cell_type": "code",
   "execution_count": 4,
   "metadata": {},
   "outputs": [
    {
     "name": "stdout",
     "output_type": "stream",
     "text": [
      "WARNING:tensorflow:From /anaconda3/lib/python3.7/site-packages/tensorflow/python/ops/control_flow_ops.py:3632: colocate_with (from tensorflow.python.framework.ops) is deprecated and will be removed in a future version.\n",
      "Instructions for updating:\n",
      "Colocations handled automatically by placer.\n"
     ]
    },
    {
     "name": "stderr",
     "output_type": "stream",
     "text": [
      "WARNING: Logging before flag parsing goes to stderr.\n",
      "W0715 22:15:39.981253 4808177088 deprecation.py:323] From /anaconda3/lib/python3.7/site-packages/tensorflow/python/ops/control_flow_ops.py:3632: colocate_with (from tensorflow.python.framework.ops) is deprecated and will be removed in a future version.\n",
      "Instructions for updating:\n",
      "Colocations handled automatically by placer.\n"
     ]
    },
    {
     "name": "stdout",
     "output_type": "stream",
     "text": [
      "INFO:tensorflow:Saver not created because there are no variables in the graph to restore\n"
     ]
    },
    {
     "name": "stderr",
     "output_type": "stream",
     "text": [
      "I0715 22:15:40.683024 4808177088 saver.py:1483] Saver not created because there are no variables in the graph to restore\n"
     ]
    }
   ],
   "source": [
    "# Initialize elmo\n",
    "elmo = hub.Module('module_elmo', trainable=True)\n",
    "embeddings = elmo(['Trump'], signature=\"default\", as_dict=True)['elmo']\n",
    "\n",
    "# Get word embedding\n",
    "with tf.Session() as session:\n",
    "    session.run([tf.global_variables_initializer(), tf.tables_initializer()])\n",
    "    message_embeddings = session.run(embeddings)"
   ]
  },
  {
   "cell_type": "code",
   "execution_count": 11,
   "metadata": {},
   "outputs": [
    {
     "data": {
      "text/plain": [
       "1024"
      ]
     },
     "execution_count": 11,
     "metadata": {},
     "output_type": "execute_result"
    }
   ],
   "source": [
    "message_embeddings[0][0]"
   ]
  },
  {
   "cell_type": "code",
   "execution_count": 5,
   "metadata": {},
   "outputs": [
    {
     "data": {
      "text/plain": [
       "(1, 11, 1024)"
      ]
     },
     "execution_count": 5,
     "metadata": {},
     "output_type": "execute_result"
    }
   ],
   "source": [
    "# Download ELMo to a local directory\n",
    "!mkdir module_elmo\n",
    "\n",
    "# Download the module, and uncom`press it to the destination folder. \n",
    "!curl -L \"https://tfhub.dev/google/elmo/2?tf-hub-format=compressed\" | tar -zxvC module_elmo\n",
    "\n",
    "# Initialize elmo\n",
    "elmo = hub.Module('module_elmo', trainable=True)\n",
    "embeddings = elmo(['This is an example sentence that I want an embedding for'], signature=\"default\", as_dict=True)['elmo']\n",
    "\n",
    "# Get word embedding\n",
    "with tf.Session() as session:\n",
    "    session.run([tf.global_variables_initializer(), tf.tables_initializer()])\n",
    "    message_embeddings = session.run(embeddings)\n",
    "\n",
    "message_embeddings.shape"
   ]
  },
  {
   "cell_type": "markdown",
   "metadata": {},
   "source": [
    "# Questions\n",
    "* Sentiment analysis labeled data\n",
    "* How would we go about scoring the performance of our models?\n",
    "    * I proposed to use the scores that are available on the reddit\n",
    "* Should we train the sentiment classifier at a sentence or post level?\n",
    "    * Each post may contain multiple sentences\n"
   ]
  },
  {
   "cell_type": "markdown",
   "metadata": {},
   "source": [
    "### Data from r/Republican Subreddit"
   ]
  },
  {
   "cell_type": "code",
   "execution_count": null,
   "metadata": {},
   "outputs": [],
   "source": []
  },
  {
   "cell_type": "code",
   "execution_count": 91,
   "metadata": {},
   "outputs": [
    {
     "data": {
      "text/plain": [
       "1497"
      ]
     },
     "execution_count": 91,
     "metadata": {},
     "output_type": "execute_result"
    }
   ],
   "source": [
    "len(list(dem_posts['sent_tokenized_title'].apply(pd.Series).stack()))"
   ]
  },
  {
   "cell_type": "code",
   "execution_count": 92,
   "metadata": {},
   "outputs": [
    {
     "data": {
      "text/plain": [
       "2211"
      ]
     },
     "execution_count": 92,
     "metadata": {},
     "output_type": "execute_result"
    }
   ],
   "source": [
    "1497 + 714"
   ]
  },
  {
   "cell_type": "code",
   "execution_count": 90,
   "metadata": {},
   "outputs": [
    {
     "data": {
      "text/plain": [
       "2211"
      ]
     },
     "execution_count": 90,
     "metadata": {},
     "output_type": "execute_result"
    }
   ],
   "source": [
    "len(test)"
   ]
  },
  {
   "cell_type": "code",
   "execution_count": 61,
   "metadata": {},
   "outputs": [],
   "source": [
    "republicans = reddit.subreddit('Republican')"
   ]
  },
  {
   "cell_type": "code",
   "execution_count": 76,
   "metadata": {},
   "outputs": [],
   "source": [
    "posts = []\n",
    "# for post in democrats.top(limit = 1):\n",
    "for post in republicans.hot(limit = 1000):\n",
    "    posts.append([post.title, post.score, post.id, post.subreddit, post.url, post.num_comments, post.selftext, post.created, post.is_self, post.link_flair_text])\n",
    "rep_posts = pd.DataFrame(posts,columns=['title', 'score', 'id', 'subreddit', 'url', 'num_comments', 'body', 'created', 'is_self', 'link_flair_text'])\n",
    "created = rep_posts[\"created\"].apply(lambda x: dt.datetime.fromtimestamp(x))\n",
    "rep_posts['created'] = created"
   ]
  },
  {
   "cell_type": "code",
   "execution_count": null,
   "metadata": {},
   "outputs": [],
   "source": []
  },
  {
   "cell_type": "code",
   "execution_count": null,
   "metadata": {},
   "outputs": [],
   "source": []
  },
  {
   "cell_type": "code",
   "execution_count": null,
   "metadata": {},
   "outputs": [],
   "source": []
  }
 ],
 "metadata": {
  "kernelspec": {
   "display_name": "Python 3",
   "language": "python",
   "name": "python3"
  },
  "language_info": {
   "codemirror_mode": {
    "name": "ipython",
    "version": 3
   },
   "file_extension": ".py",
   "mimetype": "text/x-python",
   "name": "python",
   "nbconvert_exporter": "python",
   "pygments_lexer": "ipython3",
   "version": "3.7.3"
  }
 },
 "nbformat": 4,
 "nbformat_minor": 2
}
