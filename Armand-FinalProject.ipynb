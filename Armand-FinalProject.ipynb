{
 "cells": [
  {
   "cell_type": "markdown",
   "metadata": {},
   "source": [
    "# Imports"
   ]
  },
  {
   "cell_type": "code",
   "execution_count": 1,
   "metadata": {},
   "outputs": [],
   "source": [
    "# Used to pull data from Reddit\n",
    "import praw\n",
    "import pandas as pd\n",
    "import datetime as dt\n",
    "\n",
    "from gensim.models import Word2Vec\n",
    "from nltk.corpus import brown\n",
    "import nltk\n",
    "import tensorflow as tf\n",
    "import tensorflow_hub as hub\n",
    "import multiprocessing\n",
    "from google.cloud import bigquery\n",
    "\n",
    "#nltk.download('punkt')\n",
    "#nltk.download('brown')"
   ]
  },
  {
   "cell_type": "code",
   "execution_count": 87,
   "metadata": {},
   "outputs": [],
   "source": [
    "sql_query = '''\n",
    "SELECT \n",
    "    r.subreddit,\n",
    "    r.body\n",
    "FROM \n",
    "  `fh-bigquery.reddit_comments.2019_03` r\n",
    "WHERE\n",
    "  r.subreddit IN ('democrats', 'progressive', 'Conservative', 'repbulicans')\n",
    "'''\n",
    "\n",
    "comment_df = pd.read_gbq(sql_query,\n",
    "                         project_id='w266-240122',\n",
    "                         dialect='standard')"
   ]
  },
  {
   "cell_type": "code",
   "execution_count": 140,
   "metadata": {},
   "outputs": [],
   "source": [
    "sql_query = \"\"\"\n",
    "SELECT \n",
    "    r.subreddit,\n",
    "    r.title,\n",
    "    r.selftext,\n",
    "    r.is_self\n",
    "FROM \n",
    "  `fh-bigquery.reddit_posts.2019_03` r\n",
    "WHERE\n",
    "  r.subreddit IN ('democrats', 'progressive', 'Conservative', 'repbulicans')\n",
    "\"\"\"\n",
    "\n",
    "post_df = pd.read_gbq(sql_query,\n",
    "                      project_id='w266-240122',\n",
    "                      dialect='standard')"
   ]
  },
  {
   "cell_type": "markdown",
   "metadata": {},
   "source": [
    "# Emebdding from Democratic Leaning Subreddits"
   ]
  },
  {
   "cell_type": "markdown",
   "metadata": {},
   "source": [
    "### Text PreProcessing"
   ]
  },
  {
   "cell_type": "code",
   "execution_count": 113,
   "metadata": {},
   "outputs": [],
   "source": [
    "# Subreddit filter for democratic leaning subreddits\n",
    "dem_subreddit = ['democrats', 'progressive']\n",
    "\n",
    "# Body text from post dataframe\n",
    "dem_post_text = list(post_df[(post_df['is_self'] == True) &\n",
    "                             (~post_df['selftext'].isin(['[removed]', '[deleted]'])) &\n",
    "                             post_df['subreddit'].isin(dem_subreddit)]['selftext'].unique())\n",
    "\n",
    "# Add in text from title\n",
    "dem_post_text += list(post_df[post_df['is_self'] == True]['title'].unique())\n",
    "\n",
    "# Add in text from post comments\n",
    "dem_post_text += list(comment_df[(comment_df['subreddit'].isin(dem_subreddit)) & \n",
    "                                 (~comment_df['body'].isin(['[removed]', '[deleted]']))]['body'])\n",
    "\n",
    "# Put all text into dataframe and drop dupes\n",
    "dem_df = pd.DataFrame(dem_post_text, columns=['text'])\n",
    "dem_df.drop_duplicates(inplace=True)\n",
    "\n",
    "# Tokenize at sentence level\n",
    "dem_df['sent_tokenized'] = dem_df['text'].apply(nltk.sent_tokenize)\n",
    "dem_df['sent_count'] = dem_df['sent_tokenized'].apply(lambda x: len(x))\n",
    "\n",
    "# Put tokenized body into a list\n",
    "dem_sent_list = list(dem_df[dem_df['sent_count'] > 0]['sent_tokenized'].apply(pd.Series).stack().unique())\n",
    "\n",
    "# Put list into dataframe\n",
    "ds_df = pd.DataFrame(dem_sent_list, columns=['sentence'])\n",
    "\n",
    "# Tokenize each sentence at the word level\n",
    "ds_df['word_token'] = ds_df['sentence'].apply(nltk.word_tokenize)"
   ]
  },
  {
   "cell_type": "code",
   "execution_count": null,
   "metadata": {},
   "outputs": [],
   "source": [
    "# TODO remove symbols, contractions\n",
    "# TODO lowercase words?\n",
    "# TODO Treat numbers as something else\n",
    "# Add beginning and end of sentence?\n",
    "# TODO how do we deal with stop words?"
   ]
  },
  {
   "cell_type": "markdown",
   "metadata": {},
   "source": [
    "### Skipgram Embedding"
   ]
  },
  {
   "cell_type": "code",
   "execution_count": 115,
   "metadata": {},
   "outputs": [],
   "source": [
    "# train word embedding\n",
    "dem_embedding = Word2Vec(list(ds_df['word_token']), size=100, window=5, min_count=5, negative=15, iter=10, workers=6)"
   ]
  },
  {
   "cell_type": "code",
   "execution_count": 139,
   "metadata": {},
   "outputs": [
    {
     "data": {
      "text/plain": [
       "[('Buttigieg', 0.8853778839111328),\n",
       " ('Populism', 0.8778499364852905),\n",
       " (\"O'Rourke\", 0.876208484172821),\n",
       " ('Cory', 0.8709084391593933),\n",
       " ('injury', 0.8704582452774048),\n",
       " ('Jay', 0.8690897822380066),\n",
       " ('Says', 0.8690533638000488),\n",
       " ('Elizabeth', 0.8658692836761475),\n",
       " ('Stacey', 0.8642362356185913),\n",
       " ('Atlantic', 0.8636647462844849)]"
      ]
     },
     "execution_count": 139,
     "metadata": {},
     "output_type": "execute_result"
    }
   ],
   "source": [
    "dem_embedding.wv.similar_by_word('Andrew')"
   ]
  },
  {
   "cell_type": "code",
   "execution_count": 116,
   "metadata": {},
   "outputs": [
    {
     "data": {
      "text/plain": [
       "[('trump', 0.7485096454620361),\n",
       " ('he', 0.6877127885818481),\n",
       " ('president', 0.6715365648269653),\n",
       " ('Russia', 0.6475684642791748),\n",
       " ('He', 0.6389645338058472),\n",
       " ('McConnell', 0.6372545957565308),\n",
       " ('Clinton', 0.6367909908294678),\n",
       " ('Hillary', 0.6154500246047974),\n",
       " ('President', 0.612384557723999),\n",
       " ('She', 0.6113145351409912)]"
      ]
     },
     "execution_count": 116,
     "metadata": {},
     "output_type": "execute_result"
    }
   ],
   "source": [
    "dem_embedding.wv.similar_by_word('Trump')"
   ]
  },
  {
   "cell_type": "code",
   "execution_count": 123,
   "metadata": {},
   "outputs": [
    {
     "data": {
      "text/plain": [
       "[('nobody', 0.7864992022514343),\n",
       " ('Cornyn', 0.7798274755477905),\n",
       " ('drop', 0.7716587781906128),\n",
       " ('necessary', 0.762731671333313),\n",
       " ('fun', 0.7519711256027222),\n",
       " ('Trumps', 0.7489361763000488),\n",
       " ('investigated', 0.7456454038619995),\n",
       " ('Apple', 0.7444183826446533),\n",
       " ('9/11', 0.7405687570571899),\n",
       " ('Ivanka', 0.7376561760902405)]"
      ]
     },
     "execution_count": 123,
     "metadata": {},
     "output_type": "execute_result"
    }
   ],
   "source": [
    "dem_embedding.wv.similar_by_word('McConnell')"
   ]
  },
  {
   "cell_type": "code",
   "execution_count": 8,
   "metadata": {},
   "outputs": [
    {
     "data": {
      "text/plain": [
       "[('trump', 0.8643887042999268),\n",
       " ('he', 0.7681137323379517),\n",
       " ('He', 0.7501710653305054),\n",
       " ('Obama', 0.7333434820175171),\n",
       " ('Barr', 0.7009626626968384),\n",
       " ('Bernie', 0.6909111738204956),\n",
       " ('Biden', 0.6875118613243103),\n",
       " ('him', 0.6806504726409912),\n",
       " ('Russia', 0.6793426871299744),\n",
       " ('President', 0.6673457026481628)]"
      ]
     },
     "execution_count": 8,
     "metadata": {},
     "output_type": "execute_result"
    }
   ],
   "source": [
    "dem_embedding.wv.similar_by_word('Trump')"
   ]
  },
  {
   "cell_type": "markdown",
   "metadata": {},
   "source": [
    "### ELMo"
   ]
  },
  {
   "cell_type": "code",
   "execution_count": 20,
   "metadata": {},
   "outputs": [
    {
     "name": "stdout",
     "output_type": "stream",
     "text": [
      "  % Total    % Received % Xferd  Average Speed   Time    Time     Time  Current\n",
      "                                 Dload  Upload   Total   Spent    Left  Speed\n",
      "  0     0    0     0    0     0      0      0 --:--:-- --:--:-- --:--:--     0\n",
      "  0  331M    0   415    0     0    369      0  10d 21h  0:00:01  10d 21h   369x assets/\n",
      "x saved_model.pb\n",
      "x tfhub_module.pb\n",
      "x variables/\n",
      "x variables/variables.index\n",
      "100  331M  100  331M    0     0  2054k      0  0:02:45  0:02:45 --:--:-- 2379k 2614kk      0  0:02:59  0:01:26  0:01:33 2755k   0  2087k      0  0:02:42  0:01:43  0:00:59 3369k      0  0:02:41  0:01:51  0:00:50 2300k  0:01:56  0:00:44 2391k0:02:44  0:02:25  0:00:19 2082k\n",
      "\n"
     ]
    }
   ],
   "source": [
    "# Download ELMo to a local directory\n",
    "!mkdir module_elmo\n",
    "\n",
    "# Download the module, and uncompress it to the destination folder. \n",
    "!curl -L \"https://tfhub.dev/google/elmo/2?tf-hub-format=compressed\" | tar -zxvC module_elmo"
   ]
  },
  {
   "cell_type": "code",
   "execution_count": 53,
   "metadata": {},
   "outputs": [
    {
     "name": "stdout",
     "output_type": "stream",
     "text": [
      "INFO:tensorflow:Saver not created because there are no variables in the graph to restore\n"
     ]
    },
    {
     "name": "stderr",
     "output_type": "stream",
     "text": [
      "I0712 23:35:19.670152 4588623296 saver.py:1483] Saver not created because there are no variables in the graph to restore\n"
     ]
    }
   ],
   "source": [
    "elmo = hub.Module('module_elmo', trainable=True)\n",
    "embeddings = elmo(['trump'], signature=\"default\", as_dict=True)['elmo']\n",
    "\n",
    "with tf.Session() as session:\n",
    "    session.run([tf.global_variables_initializer(), tf.tables_initializer()])\n",
    "    message_embeddings = session.run(embeddings)"
   ]
  },
  {
   "cell_type": "markdown",
   "metadata": {},
   "source": [
    "# Questions\n",
    "* Sentiment analysis labeled data\n",
    "* How would we go about scoring the performance of our models?\n",
    "    * I proposed to use the scores that are available on the reddit\n",
    "* Should we train the sentiment classifier at a sentence or post level?\n",
    "    * Each post may contain multiple sentences\n"
   ]
  },
  {
   "cell_type": "markdown",
   "metadata": {},
   "source": [
    "### Data from r/Republican Subreddit"
   ]
  },
  {
   "cell_type": "code",
   "execution_count": null,
   "metadata": {},
   "outputs": [],
   "source": []
  },
  {
   "cell_type": "code",
   "execution_count": 91,
   "metadata": {},
   "outputs": [
    {
     "data": {
      "text/plain": [
       "1497"
      ]
     },
     "execution_count": 91,
     "metadata": {},
     "output_type": "execute_result"
    }
   ],
   "source": [
    "len(list(dem_posts['sent_tokenized_title'].apply(pd.Series).stack()))"
   ]
  },
  {
   "cell_type": "code",
   "execution_count": 92,
   "metadata": {},
   "outputs": [
    {
     "data": {
      "text/plain": [
       "2211"
      ]
     },
     "execution_count": 92,
     "metadata": {},
     "output_type": "execute_result"
    }
   ],
   "source": [
    "1497 + 714"
   ]
  },
  {
   "cell_type": "code",
   "execution_count": 90,
   "metadata": {},
   "outputs": [
    {
     "data": {
      "text/plain": [
       "2211"
      ]
     },
     "execution_count": 90,
     "metadata": {},
     "output_type": "execute_result"
    }
   ],
   "source": [
    "len(test)"
   ]
  },
  {
   "cell_type": "code",
   "execution_count": 61,
   "metadata": {},
   "outputs": [],
   "source": [
    "republicans = reddit.subreddit('Republican')"
   ]
  },
  {
   "cell_type": "code",
   "execution_count": 76,
   "metadata": {},
   "outputs": [],
   "source": [
    "posts = []\n",
    "# for post in democrats.top(limit = 1):\n",
    "for post in republicans.hot(limit = 1000):\n",
    "    posts.append([post.title, post.score, post.id, post.subreddit, post.url, post.num_comments, post.selftext, post.created, post.is_self, post.link_flair_text])\n",
    "rep_posts = pd.DataFrame(posts,columns=['title', 'score', 'id', 'subreddit', 'url', 'num_comments', 'body', 'created', 'is_self', 'link_flair_text'])\n",
    "created = rep_posts[\"created\"].apply(lambda x: dt.datetime.fromtimestamp(x))\n",
    "rep_posts['created'] = created"
   ]
  },
  {
   "cell_type": "code",
   "execution_count": null,
   "metadata": {},
   "outputs": [],
   "source": []
  },
  {
   "cell_type": "code",
   "execution_count": null,
   "metadata": {},
   "outputs": [],
   "source": []
  },
  {
   "cell_type": "code",
   "execution_count": null,
   "metadata": {},
   "outputs": [],
   "source": []
  }
 ],
 "metadata": {
  "kernelspec": {
   "display_name": "Python 3",
   "language": "python",
   "name": "python3"
  },
  "language_info": {
   "codemirror_mode": {
    "name": "ipython",
    "version": 3
   },
   "file_extension": ".py",
   "mimetype": "text/x-python",
   "name": "python",
   "nbconvert_exporter": "python",
   "pygments_lexer": "ipython3",
   "version": "3.7.3"
  }
 },
 "nbformat": 4,
 "nbformat_minor": 2
}
