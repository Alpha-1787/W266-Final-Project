{
 "cells": [
  {
   "cell_type": "code",
   "execution_count": 1,
   "metadata": {},
   "outputs": [
    {
     "name": "stderr",
     "output_type": "stream",
     "text": [
      "WARNING: Logging before flag parsing goes to stderr.\n",
      "W0727 18:09:06.280575 140715134940992 deprecation_wrapper.py:119] From /home/armand_kok/anaconda3/lib/python3.7/site-packages/bert/optimization.py:87: The name tf.train.Optimizer is deprecated. Please use tf.compat.v1.train.Optimizer instead.\n",
      "\n"
     ]
    }
   ],
   "source": [
    "# Used to pull data from Reddit\n",
    "import praw\n",
    "import pandas as pd\n",
    "import datetime as dt\n",
    "import numpy as np\n",
    "import seaborn as sns\n",
    "import statsmodels.formula.api\n",
    "import matplotlib.pyplot as plt\n",
    "import time\n",
    "import re\n",
    "\n",
    "\n",
    "from gensim.models import Word2Vec\n",
    "from nltk.corpus import brown\n",
    "import nltk\n",
    "import tensorflow as tf\n",
    "from tensorflow.python.client import device_lib\n",
    "import tensorflow.keras as keras \n",
    "from tensorflow.keras.layers import Input, Lambda, Dense\n",
    "from tensorflow.keras.models import Model\n",
    "import tensorflow.keras.backend as K\n",
    "\n",
    "import tensorflow_hub as hub\n",
    "import multiprocessing\n",
    "from google.cloud import bigquery\n",
    "\n",
    "from sklearn.linear_model import SGDClassifier\n",
    "from sklearn.model_selection import train_test_split\n",
    "from sklearn import metrics\n",
    "from sklearn.ensemble import RandomForestClassifier\n",
    "from sklearn.metrics import classification_report\n",
    "from sklearn.feature_extraction.text import TfidfVectorizer\n",
    "\n",
    "import bert\n",
    "from bert import run_classifier\n",
    "from bert import optimization\n",
    "from bert import tokenization\n",
    "\n",
    "from sklearn import model_selection\n",
    "from imblearn import over_sampling\n",
    "from imblearn import under_sampling\n",
    "from imblearn import pipeline\n",
    "\n",
    "import warnings\n",
    "warnings.filterwarnings(\"ignore\")\n",
    "\n",
    "#nltk.download('punkt')"
   ]
  },
  {
   "cell_type": "code",
   "execution_count": 3,
   "metadata": {},
   "outputs": [],
   "source": [
    "def replace_contraction(text):\n",
    "    contraction_patterns = [ (r'won\\'t', 'will not'), (r'can\\'t', 'can not'), (r'i\\'m', 'i am'), (r'ain\\'t', 'is not'), (r'(\\w+)\\'ll', '\\g<1> will'), (r'(\\w+)n\\'t', '\\g<1> not'),\n",
    "                         (r'(\\w+)\\'ve', '\\g<1> have'), (r'(\\w+)\\'s', '\\g<1> is'), (r'(\\w+)\\'re', '\\g<1> are'), (r'(\\w+)\\'d', '\\g<1> would'), (r'&', 'and'), (r'dammit', 'damn it'), (r'dont', 'do not'), (r'wont', 'will not') ]\n",
    "    patterns = [(re.compile(regex), repl) for (regex, repl) in contraction_patterns]\n",
    "    for (pattern, repl) in patterns:\n",
    "        (text, count) = re.subn(pattern, repl, text)\n",
    "    return text\n",
    "\n",
    "def replace_links(text, filler=' '):\n",
    "        text = re.sub(r'((http|https)\\:\\/\\/)?[a-zA-Z0-9\\.\\/\\?\\:@\\-_=#]+\\.([a-zA-Z]){2,6}([a-zA-Z0-9\\.\\&\\/\\?\\:@\\-_=#])*',\n",
    "                      filler, text).strip()\n",
    "        return text\n",
    "\n",
    "def cleanText(text):\n",
    "    text = text.strip().replace(\"\\n\", \" \").replace(\"\\r\", \" \")\n",
    "    text = replace_contraction(text)\n",
    "    text = replace_links(text, \"urltoken\")\n",
    "    #text = remove_numbers(text)\n",
    "    text = re.sub(r'[,!@#$%^&*)(|/><\";:.?\\'\\\\}{]',\"\",text)\n",
    "    text = text.lower()\n",
    "    return text\n"
   ]
  },
  {
   "cell_type": "markdown",
   "metadata": {},
   "source": [
    "# Data Import"
   ]
  },
  {
   "cell_type": "code",
   "execution_count": 228,
   "metadata": {},
   "outputs": [],
   "source": [
    "# Read in cleaned up data\n",
    "post_df = pd.read_json('complete_elmo.json', orient='split', dtype={'elmo_embedding':'float32'})\n",
    "post_df['elmo_embedding'] = post_df['elmo_embedding'].apply(lambda x: np.array(x, dtype='float32'))"
   ]
  },
  {
   "cell_type": "markdown",
   "metadata": {},
   "source": [
    "# Models"
   ]
  },
  {
   "cell_type": "markdown",
   "metadata": {},
   "source": [
    "### Random Forest with TF-IDF"
   ]
  },
  {
   "cell_type": "code",
   "execution_count": 253,
   "metadata": {},
   "outputs": [
    {
     "name": "stdout",
     "output_type": "stream",
     "text": [
      "Model training took: 67.76 seconds\n"
     ]
    }
   ],
   "source": [
    "# Split to train/test\n",
    "X_train, X_test, y_train, y_test = train_test_split(post_df['title_clean'],\n",
    "                                                    post_df['political_leaning'],\n",
    "                                                    test_size = 0.2)\n",
    "\n",
    "# Define classifier, over sampler, under sampler and feature selector\n",
    "vectorizer = TfidfVectorizer(stop_words='english')\n",
    "tfidf_model = RandomForestClassifier(n_jobs=10, n_estimators=200)\n",
    "osmpl = over_sampling.SMOTE(n_jobs=10)\n",
    "usmpl = under_sampling.TomekLinks(n_jobs=10)\n",
    "\n",
    "# Create pipeline\n",
    "tfidf_pipe = pipeline.Pipeline([('vectorizer', vectorizer), \n",
    "                                ('over_sampler', osmpl),\n",
    "                                ('under_sampler', usmpl),\n",
    "                                ('classifier', tfidf_model)])\n",
    "\n",
    "# Fit pipeline\n",
    "start_time = time.time()\n",
    "tfidf_pipe.fit(X_train, y_train)\n",
    "print('Model training took:', '%s seconds' % '{:.2f}'.format((time.time() - start_time)))\n",
    "\n",
    "# Put results on X_test on DataFrame\n",
    "test_df = pd.DataFrame({'tfidf_pred': tfidf_pipe.predict(X_test), 'tfidf_true': y_test})"
   ]
  },
  {
   "cell_type": "code",
   "execution_count": 259,
   "metadata": {},
   "outputs": [],
   "source": [
    "post_df['rf_tfidf_pred'] = tfidf_pipe.predict(post_df['title_clean'])"
   ]
  },
  {
   "cell_type": "markdown",
   "metadata": {},
   "source": [
    "### Neural Net with TFIDF"
   ]
  },
  {
   "cell_type": "code",
   "execution_count": 260,
   "metadata": {},
   "outputs": [],
   "source": [
    "X_train, X_test, y_train, y_test = train_test_split(post_df['title_clean'],\n",
    "                                                    post_df['political_leaning'],\n",
    "                                                    test_size = 0.2)\n",
    "\n",
    "vectorizer = TfidfVectorizer(stop_words='english')\n",
    "X_train_transformed = vectorizer.fit_transform(X_train)\n",
    "X_test_transformed = vectorizer.transform(X_test)"
   ]
  },
  {
   "cell_type": "code",
   "execution_count": 261,
   "metadata": {},
   "outputs": [
    {
     "name": "stdout",
     "output_type": "stream",
     "text": [
      "Model: \"model_9\"\n",
      "_________________________________________________________________\n",
      "Layer (type)                 Output Shape              Param #   \n",
      "=================================================================\n",
      "input_14 (InputLayer)        [(None, 16498)]           0         \n",
      "_________________________________________________________________\n",
      "dropout_12 (Dropout)         (None, 16498)             0         \n",
      "_________________________________________________________________\n",
      "dense_24 (Dense)             (None, 256)               4223744   \n",
      "_________________________________________________________________\n",
      "dense_25 (Dense)             (None, 1)                 257       \n",
      "=================================================================\n",
      "Total params: 4,224,001\n",
      "Trainable params: 4,224,001\n",
      "Non-trainable params: 0\n",
      "_________________________________________________________________\n"
     ]
    }
   ],
   "source": [
    "def ELMoEmbedding(x):\n",
    "    embed = hub.Module(\"elmo_model\")\n",
    "    return embed(tf.squeeze(tf.cast(x, tf.string)), signature=\"default\", as_dict=True)[\"default\"]\n",
    "\n",
    "# Build NeuralNet model\n",
    "def build_model(): \n",
    "    input_embedding = Input(shape=(X_train_transformed.shape[1],), dtype='float64')\n",
    "    drop = keras.layers.Dropout(rate=0.3)(input_embedding)\n",
    "    dense = Dense(256, activation='relu')(drop)\n",
    "    pred = Dense(1, activation='sigmoid')(dense)\n",
    "    model = Model(inputs=[input_embedding], outputs=pred)\n",
    "    model.compile(loss='binary_crossentropy', optimizer='adam', metrics=['accuracy'])\n",
    "    return model\n",
    "\n",
    "nn_tfidf = build_model()\n",
    "nn_tfidf.summary()"
   ]
  },
  {
   "cell_type": "code",
   "execution_count": 262,
   "metadata": {},
   "outputs": [
    {
     "name": "stdout",
     "output_type": "stream",
     "text": [
      "Train on 17406 samples, validate on 4352 samples\n",
      "Epoch 1/10\n",
      "17406/17406 [==============================] - 13s 733us/sample - loss: 0.6266 - acc: 0.6640 - val_loss: 0.5827 - val_acc: 0.6781\n",
      "Epoch 2/10\n",
      "17406/17406 [==============================] - 13s 725us/sample - loss: 0.5234 - acc: 0.7377 - val_loss: 0.5292 - val_acc: 0.7323\n",
      "Epoch 3/10\n",
      "17406/17406 [==============================] - 13s 719us/sample - loss: 0.4480 - acc: 0.7902 - val_loss: 0.5325 - val_acc: 0.7328\n",
      "Epoch 4/10\n",
      "17406/17406 [==============================] - 13s 721us/sample - loss: 0.4022 - acc: 0.8176 - val_loss: 0.5451 - val_acc: 0.7277\n",
      "Epoch 5/10\n",
      "17406/17406 [==============================] - 12s 686us/sample - loss: 0.3677 - acc: 0.8347 - val_loss: 0.5590 - val_acc: 0.7210\n",
      "Epoch 6/10\n",
      "17406/17406 [==============================] - 12s 705us/sample - loss: 0.3462 - acc: 0.8457 - val_loss: 0.5755 - val_acc: 0.7174\n",
      "Epoch 7/10\n",
      "17406/17406 [==============================] - 12s 712us/sample - loss: 0.3269 - acc: 0.8525 - val_loss: 0.5933 - val_acc: 0.7160\n",
      "Epoch 8/10\n",
      "17406/17406 [==============================] - 12s 709us/sample - loss: 0.3083 - acc: 0.8641 - val_loss: 0.6060 - val_acc: 0.7185\n",
      "Epoch 9/10\n",
      "17406/17406 [==============================] - 12s 703us/sample - loss: 0.3008 - acc: 0.8642 - val_loss: 0.6178 - val_acc: 0.7192\n",
      "Epoch 10/10\n",
      "17406/17406 [==============================] - 12s 703us/sample - loss: 0.2908 - acc: 0.8684 - val_loss: 0.6347 - val_acc: 0.7162\n"
     ]
    }
   ],
   "source": [
    "with tf.Session() as session:\n",
    "    K.set_session(session)\n",
    "    session.run(tf.global_variables_initializer())  \n",
    "    session.run(tf.tables_initializer())\n",
    "    nn_tfidf.fit(X_train_transformed, \n",
    "                 y_train, \n",
    "                 epochs=10, \n",
    "                 batch_size=256,\n",
    "                 validation_split=0.2)"
   ]
  },
  {
   "cell_type": "code",
   "execution_count": 284,
   "metadata": {},
   "outputs": [
    {
     "name": "stderr",
     "output_type": "stream",
     "text": [
      "Exception ignored in: <function BaseSession._Callable.__del__ at 0x7ffa363bad90>\n",
      "Traceback (most recent call last):\n",
      "  File \"/home/armand_kok/anaconda3/lib/python3.7/site-packages/tensorflow/python/client/session.py\", line 1473, in __del__\n",
      "    self._session._session, self._handle)\n",
      "tensorflow.python.framework.errors_impl.CancelledError: (None, None, 'Session has been closed.')\n"
     ]
    }
   ],
   "source": [
    "with tf.Session() as session:\n",
    "    session.run(tf.global_variables_initializer())\n",
    "    session.run(tf.tables_initializer())\n",
    "    y_pred = nn_tfidf.predict(X_test_transformed, use_multiprocessing=True, workers=4)\n",
    "    \n",
    "test_df['nn_tfidf_pred'] = y_pred\n",
    "test_df['nn_tfidf_true'] = y_test.reset_index(drop=True)"
   ]
  },
  {
   "cell_type": "code",
   "execution_count": 267,
   "metadata": {},
   "outputs": [],
   "source": [
    "with tf.Session() as session:\n",
    "    session.run(tf.global_variables_initializer())\n",
    "    session.run(tf.tables_initializer())\n",
    "    y_pred = nn_tfidf.predict(vectorizer.transform(post_df['title_clean']),\n",
    "                              use_multiprocessing=True,\n",
    "                              workers=4)\n",
    "    \n",
    "post_df['nn_tfidf_pred'] = y_pred"
   ]
  },
  {
   "cell_type": "markdown",
   "metadata": {},
   "source": [
    "### Random Forest with ELMo Embedding"
   ]
  },
  {
   "cell_type": "code",
   "execution_count": 268,
   "metadata": {},
   "outputs": [
    {
     "name": "stdout",
     "output_type": "stream",
     "text": [
      "Model training took: 275.81 seconds\n"
     ]
    }
   ],
   "source": [
    "# Split to train/test\n",
    "X_train, X_test, y_train, y_test = train_test_split(post_df['elmo_embedding'].tolist(),\n",
    "                                                    post_df['political_leaning'],\n",
    "                                                    test_size = 0.2)\n",
    "\n",
    "# Define classifier, over sampler, under sampler and feature selector\n",
    "elmo_model = RandomForestClassifier(n_jobs=10, n_estimators=100)\n",
    "osmpl = over_sampling.SMOTE(n_jobs=10)\n",
    "usmpl = under_sampling.TomekLinks(n_jobs=10)\n",
    "\n",
    "# Create pipeline\n",
    "elmo_pipe = pipeline.Pipeline([('over_sampler', osmpl),\n",
    "                               ('under_sampler', usmpl),\n",
    "                               ('classifier', elmo_model)])\n",
    "\n",
    "# Fit pipeline\n",
    "start_time = time.time()\n",
    "elmo_pipe.fit(X_train, y_train)\n",
    "print('Model training took:', '%s seconds' % '{:.2f}'.format((time.time() - start_time)))\n",
    "\n",
    "# Put results on X_test on DataFrame\n",
    "test_df.reset_index(inplace=True, drop=True)\n",
    "test_df['elmo_pred'] = elmo_pipe.predict(X_test)\n",
    "test_df['elmo_true'] = y_test.reset_index(drop=True)"
   ]
  },
  {
   "cell_type": "code",
   "execution_count": 270,
   "metadata": {},
   "outputs": [],
   "source": [
    "post_df['rf_elmo_pred'] = elmo_pipe.predict(post_df['elmo_embedding'].tolist())"
   ]
  },
  {
   "cell_type": "markdown",
   "metadata": {},
   "source": [
    "### Neural Net with ELMo Embedding"
   ]
  },
  {
   "cell_type": "code",
   "execution_count": 271,
   "metadata": {},
   "outputs": [
    {
     "name": "stdout",
     "output_type": "stream",
     "text": [
      "Model: \"model_10\"\n",
      "_________________________________________________________________\n",
      "Layer (type)                 Output Shape              Param #   \n",
      "=================================================================\n",
      "input_15 (InputLayer)        [(None, 1024)]            0         \n",
      "_________________________________________________________________\n",
      "dropout_13 (Dropout)         (None, 1024)              0         \n",
      "_________________________________________________________________\n",
      "dense_26 (Dense)             (None, 256)               262400    \n",
      "_________________________________________________________________\n",
      "dense_27 (Dense)             (None, 1)                 257       \n",
      "=================================================================\n",
      "Total params: 262,657\n",
      "Trainable params: 262,657\n",
      "Non-trainable params: 0\n",
      "_________________________________________________________________\n"
     ]
    }
   ],
   "source": [
    "def ELMoEmbedding(x):\n",
    "    embed = hub.Module(\"elmo_model\")\n",
    "    return embed(tf.squeeze(tf.cast(x, tf.string)), signature=\"default\", as_dict=True)[\"default\"]\n",
    "\n",
    "# Split to train/test\n",
    "X_train, X_test, y_train, y_test = train_test_split(np.array(post_df['elmo_embedding'].tolist()),\n",
    "                                                    post_df['political_leaning'],\n",
    "                                                    test_size = 0.2)\n",
    "\n",
    "# Build NeuralNet model\n",
    "def build_model(): \n",
    "    input_embedding = Input(shape=(1024,), dtype='float64')\n",
    "    drop = keras.layers.Dropout(rate=0.3)(input_embedding)\n",
    "    dense = Dense(256, activation='relu')(drop)\n",
    "    pred = Dense(1, activation='sigmoid')(dense)\n",
    "    model = Model(inputs=[input_embedding], outputs=pred)\n",
    "    model.compile(loss='binary_crossentropy', optimizer='adam', metrics=['accuracy'])\n",
    "    return model\n",
    "\n",
    "nn_elmo = build_model()\n",
    "nn_elmo.summary()"
   ]
  },
  {
   "cell_type": "code",
   "execution_count": 272,
   "metadata": {},
   "outputs": [
    {
     "name": "stdout",
     "output_type": "stream",
     "text": [
      "Train on 17406 samples, validate on 4352 samples\n",
      "Epoch 1/10\n",
      "17406/17406 [==============================] - 1s 75us/sample - loss: 0.6244 - acc: 0.6807 - val_loss: 0.5868 - val_acc: 0.6916\n",
      "Epoch 2/10\n",
      "17406/17406 [==============================] - 1s 58us/sample - loss: 0.5795 - acc: 0.7033 - val_loss: 0.5632 - val_acc: 0.7040\n",
      "Epoch 3/10\n",
      "17406/17406 [==============================] - 1s 57us/sample - loss: 0.5622 - acc: 0.7156 - val_loss: 0.5585 - val_acc: 0.7086\n",
      "Epoch 4/10\n",
      "17406/17406 [==============================] - 1s 54us/sample - loss: 0.5571 - acc: 0.7196 - val_loss: 0.5661 - val_acc: 0.7038\n",
      "Epoch 5/10\n",
      "17406/17406 [==============================] - 1s 50us/sample - loss: 0.5480 - acc: 0.7253 - val_loss: 0.5481 - val_acc: 0.7206\n",
      "Epoch 6/10\n",
      "17406/17406 [==============================] - 1s 53us/sample - loss: 0.5451 - acc: 0.7235 - val_loss: 0.5552 - val_acc: 0.7139\n",
      "Epoch 7/10\n",
      "17406/17406 [==============================] - 1s 51us/sample - loss: 0.5400 - acc: 0.7312 - val_loss: 0.5461 - val_acc: 0.7224\n",
      "Epoch 8/10\n",
      "17406/17406 [==============================] - 1s 54us/sample - loss: 0.5342 - acc: 0.7338 - val_loss: 0.5445 - val_acc: 0.7201\n",
      "Epoch 9/10\n",
      "17406/17406 [==============================] - 1s 51us/sample - loss: 0.5254 - acc: 0.7368 - val_loss: 0.5527 - val_acc: 0.7185\n",
      "Epoch 10/10\n",
      "17406/17406 [==============================] - 1s 49us/sample - loss: 0.5192 - acc: 0.7418 - val_loss: 0.5470 - val_acc: 0.7210\n"
     ]
    }
   ],
   "source": [
    "with tf.Session() as session:\n",
    "    K.set_session(session)\n",
    "    session.run(tf.global_variables_initializer())  \n",
    "    session.run(tf.tables_initializer())\n",
    "    nn_elmo.fit(X_train, \n",
    "                y_train, \n",
    "                epochs=10, \n",
    "                batch_size=256,\n",
    "                validation_split=0.2)"
   ]
  },
  {
   "cell_type": "code",
   "execution_count": 273,
   "metadata": {},
   "outputs": [],
   "source": [
    "with tf.Session() as session:\n",
    "    session.run(tf.global_variables_initializer())\n",
    "    session.run(tf.tables_initializer())\n",
    "    y_pred = nn_elmo.predict(X_test, use_multiprocessing=True, workers=4)\n",
    "    \n",
    "test_df['nn_elmo_pred'] = y_pred\n",
    "test_df['nn_elmo_true'] = y_test.reset_index(drop=True)"
   ]
  },
  {
   "cell_type": "code",
   "execution_count": 278,
   "metadata": {},
   "outputs": [
    {
     "name": "stderr",
     "output_type": "stream",
     "text": [
      "Exception ignored in: <function BaseSession._Callable.__del__ at 0x7ffa363bad90>\n",
      "Traceback (most recent call last):\n",
      "  File \"/home/armand_kok/anaconda3/lib/python3.7/site-packages/tensorflow/python/client/session.py\", line 1473, in __del__\n",
      "    self._session._session, self._handle)\n",
      "tensorflow.python.framework.errors_impl.CancelledError: (None, None, 'Session has been closed.')\n"
     ]
    }
   ],
   "source": [
    "with tf.Session() as session:\n",
    "    session.run(tf.global_variables_initializer())\n",
    "    session.run(tf.tables_initializer())\n",
    "    y_pred = nn_elmo.predict(np.array(post_df['elmo_embedding'].tolist()),\n",
    "                             use_multiprocessing=True,\n",
    "                             workers=4)\n",
    "    \n",
    "post_df['nn_elmo_pred'] = y_pred"
   ]
  },
  {
   "cell_type": "code",
   "execution_count": null,
   "metadata": {},
   "outputs": [],
   "source": [
    "    h = keras.layers.Embedding(ds.vocab.size, embed_dim, input_length=max_len)(wordids)\n",
    "    conv_layers_for_all_kernel_sizes = []\n",
    "    num_filters = [2, 2, 2]\n",
    "    kernel_sizes = [2, 3, 4]\n",
    "    for filters, kernel_size in zip(kernel_sizes, num_filters):\n",
    "        conv_layer = keras.layers.Conv1D(filters=filters, kernel_size=kernel_size, activation='relu')(input_embedding)\n",
    "        conv_layer = keras.layers.GlobalMaxPooling1D()(conv_layer)\n",
    "        conv_layers_for_all_kernel_sizes.append(conv_layer)\n",
    "\n",
    "    input_embedding = keras.layers.concatenate(conv_layers_for_all_kernel_sizes, axis=1)"
   ]
  },
  {
   "cell_type": "code",
   "execution_count": 148,
   "metadata": {},
   "outputs": [],
   "source": []
  },
  {
   "cell_type": "markdown",
   "metadata": {},
   "source": [
    "# Model Evaluation"
   ]
  },
  {
   "cell_type": "code",
   "execution_count": 286,
   "metadata": {},
   "outputs": [],
   "source": [
    "test_df['nn_elmo_pred'] = test_df['nn_elmo_pred'].apply(lambda x: 0 if x < 0.5 else 1)\n",
    "test_df['nn_tfidf_pred'] = test_df['nn_tfidf_pred'].apply(lambda x: 0 if x < 0.5 else 1)\n",
    "\n",
    "test_df = test_df[['tfidf_pred',\n",
    "                   'tfidf_true', \n",
    "                   'nn_tfidf_pred', \n",
    "                   'nn_tfidf_true',\n",
    "                   'elmo_pred',\n",
    "                   'elmo_true',\n",
    "                   'nn_elmo_pred',\n",
    "                   'nn_elmo_true']]"
   ]
  },
  {
   "cell_type": "code",
   "execution_count": 287,
   "metadata": {},
   "outputs": [
    {
     "name": "stdout",
     "output_type": "stream",
     "text": [
      "Random Forest with TF-IDF \n",
      "              precision    recall  f1-score   support\n",
      "\n",
      "           0       0.81      0.80      0.80      3551\n",
      "           1       0.63      0.65      0.64      1889\n",
      "\n",
      "    accuracy                           0.75      5440\n",
      "   macro avg       0.72      0.72      0.72      5440\n",
      "weighted avg       0.75      0.75      0.75      5440\n",
      "\n",
      "Neural Net with TF-IDF\n",
      "              precision    recall  f1-score   support\n",
      "\n",
      "           0       0.66      0.65      0.65      3613\n",
      "           1       0.33      0.34      0.33      1827\n",
      "\n",
      "    accuracy                           0.54      5440\n",
      "   macro avg       0.49      0.49      0.49      5440\n",
      "weighted avg       0.55      0.54      0.54      5440\n",
      "\n",
      "Random Forest with ELMo Embedding\n",
      "              precision    recall  f1-score   support\n",
      "\n",
      "           0       0.75      0.89      0.81      3578\n",
      "           1       0.66      0.42      0.51      1862\n",
      "\n",
      "    accuracy                           0.73      5440\n",
      "   macro avg       0.70      0.65      0.66      5440\n",
      "weighted avg       0.72      0.73      0.71      5440\n",
      "\n",
      "Neural Net with ELMo Embedding\n",
      "              precision    recall  f1-score   support\n",
      "\n",
      "           0       0.71      0.04      0.07      3613\n",
      "           1       0.34      0.97      0.50      1827\n",
      "\n",
      "    accuracy                           0.35      5440\n",
      "   macro avg       0.52      0.50      0.29      5440\n",
      "weighted avg       0.58      0.35      0.22      5440\n",
      "\n"
     ]
    }
   ],
   "source": [
    "titles = ['Random Forest with TF-IDF ', \n",
    "          'Neural Net with TF-IDF',\n",
    "          'Random Forest with ELMo Embedding',\n",
    "          'Neural Net with ELMo Embedding']\n",
    "\n",
    "for c, t in zip(np.arange(0, 8, 2), titles):\n",
    "    print(t)\n",
    "    print(metrics.classification_report(test_df[test_df.columns[c+1]], test_df[test_df.columns[c]]))"
   ]
  },
  {
   "cell_type": "code",
   "execution_count": 288,
   "metadata": {},
   "outputs": [
    {
     "data": {
      "image/png": "[encoded data removed]",
      "text/plain": [
       "<Figure size 576x432 with 4 Axes>"
      ]
     },
     "metadata": {
      "needs_background": "light"
     },
     "output_type": "display_data"
    }
   ],
   "source": [
    "fig, ax = plt.subplots(2, 2, figsize=(8, 6))\n",
    "for a, b, c in zip(np.arange(0, 8, 2), [(0,0), (0,1), (1,0), (1,1)], titles):\n",
    "    sns.heatmap(metrics.confusion_matrix(test_df[test_df.columns[a+1]], test_df[test_df.columns[a]]),\n",
    "                xticklabels=['pred: C', 'pred: L'],\n",
    "                yticklabels=['actual: C', 'actual: L'],\n",
    "                annot=True,\n",
    "                fmt='g',\n",
    "                cmap='Blues', \n",
    "                cbar=False,\n",
    "                ax=ax[b[0], b[1]])\n",
    "    ax[b[0], b[1]].set_title(c)\n",
    "    ax[b[0], b[1]].tick_params(axis='y', rotation=0)\n",
    "    \n",
    "plt.tight_layout()\n",
    "plt.show()"
   ]
  },
  {
   "cell_type": "markdown",
   "metadata": {},
   "source": [
    "# Analysis"
   ]
  },
  {
   "cell_type": "code",
   "execution_count": 307,
   "metadata": {},
   "outputs": [
    {
     "name": "stdout",
     "output_type": "stream",
     "text": [
      "Model training took: 59.60 seconds\n"
     ]
    }
   ],
   "source": [
    "# Split to train/test\n",
    "X_train, X_test, y_train, y_test = train_test_split(post_df['title_clean'],\n",
    "                                                    post_df['political_leaning'],\n",
    "                                                    test_size = 0.2)\n",
    "\n",
    "# Define classifier, over sampler, under sampler and feature selector\n",
    "vectorizer = TfidfVectorizer(stop_words='english')\n",
    "tfidf_model = RandomForestClassifier(n_jobs=10, n_estimators=200)\n",
    "osmpl = over_sampling.SMOTE(n_jobs=10)\n",
    "usmpl = under_sampling.TomekLinks(n_jobs=10)\n",
    "\n",
    "# Create pipeline\n",
    "tfidf_pipe = pipeline.Pipeline([('vectorizer', vectorizer), \n",
    "                                ('over_sampler', osmpl),\n",
    "                                ('under_sampler', usmpl),\n",
    "                                ('classifier', tfidf_model)])\n",
    "\n",
    "# Fit pipeline\n",
    "start_time = time.time()\n",
    "tfidf_pipe.fit(X_train, y_train)\n",
    "print('Model training took:', '%s seconds' % '{:.2f}'.format((time.time() - start_time)))"
   ]
  },
  {
   "cell_type": "code",
   "execution_count": 299,
   "metadata": {},
   "outputs": [],
   "source": [
    "from sklearn import inspection"
   ]
  },
  {
   "cell_type": "code",
   "execution_count": 296,
   "metadata": {},
   "outputs": [],
   "source": [
    "vectorizer"
   ]
  },
  {
   "cell_type": "markdown",
   "metadata": {},
   "source": [
    "tf-idf weight  gives us a measure on how important a word is to a document in a corpus. The higher the tf-idf score is the more important the "
   ]
  },
  {
   "cell_type": "code",
   "execution_count": 308,
   "metadata": {},
   "outputs": [],
   "source": [
    "X_train_transformed = vectorizer.transform(X_train)"
   ]
  },
  {
   "cell_type": "code",
   "execution_count": 310,
   "metadata": {},
   "outputs": [],
   "source": [
    "X_train_transformed = X_train_transformed.toarray()"
   ]
  },
  {
   "cell_type": "code",
   "execution_count": 327,
   "metadata": {},
   "outputs": [
    {
     "data": {
      "text/plain": [
       "10"
      ]
     },
     "execution_count": 327,
     "metadata": {},
     "output_type": "execute_result"
    }
   ],
   "source": [
    "len(feature_idx)"
   ]
  },
  {
   "cell_type": "code",
   "execution_count": 330,
   "metadata": {},
   "outputs": [],
   "source": [
    "feature_names = feat_df.head(10)['feature'].tolist()\n",
    "feature_idx = [vectorizer.get_feature_names().index(f) for f in feature_names]"
   ]
  },
  {
   "cell_type": "code",
   "execution_count": 336,
   "metadata": {},
   "outputs": [
    {
     "data": {
      "text/plain": [
       "(21758, 16502)"
      ]
     },
     "execution_count": 336,
     "metadata": {},
     "output_type": "execute_result"
    }
   ],
   "source": [
    "X_train_transformed.shape"
   ]
  },
  {
   "cell_type": "code",
   "execution_count": 338,
   "metadata": {},
   "outputs": [
    {
     "ename": "KeyboardInterrupt",
     "evalue": "",
     "output_type": "error",
     "traceback": [
      "\u001b[0;31m---------------------------------------------------------------------------\u001b[0m",
      "\u001b[0;31mKeyboardInterrupt\u001b[0m                         Traceback (most recent call last)",
      "\u001b[0;32m<ipython-input-338-43f20761bdd0>\u001b[0m in \u001b[0;36m<module>\u001b[0;34m()\u001b[0m\n\u001b[1;32m      7\u001b[0m                                    \u001b[0mresponse_method\u001b[0m\u001b[0;34m=\u001b[0m\u001b[0;34m'predict_proba'\u001b[0m\u001b[0;34m,\u001b[0m\u001b[0;34m\u001b[0m\u001b[0m\n\u001b[1;32m      8\u001b[0m                                    \u001b[0mn_cols\u001b[0m\u001b[0;34m=\u001b[0m\u001b[0;36m2\u001b[0m\u001b[0;34m,\u001b[0m\u001b[0;34m\u001b[0m\u001b[0m\n\u001b[0;32m----> 9\u001b[0;31m                                    fig=fig)\n\u001b[0m",
      "\u001b[0;32m~/anaconda3/lib/python3.7/site-packages/sklearn/inspection/partial_dependence.py\u001b[0m in \u001b[0;36mplot_partial_dependence\u001b[0;34m(estimator, X, features, feature_names, target, response_method, n_cols, grid_resolution, percentiles, method, n_jobs, verbose, fig, line_kw, contour_kw)\u001b[0m\n\u001b[1;32m    559\u001b[0m                                     \u001b[0mgrid_resolution\u001b[0m\u001b[0;34m=\u001b[0m\u001b[0mgrid_resolution\u001b[0m\u001b[0;34m,\u001b[0m\u001b[0;34m\u001b[0m\u001b[0m\n\u001b[1;32m    560\u001b[0m                                     percentiles=percentiles)\n\u001b[0;32m--> 561\u001b[0;31m         for fxs in features)\n\u001b[0m\u001b[1;32m    562\u001b[0m \u001b[0;34m\u001b[0m\u001b[0m\n\u001b[1;32m    563\u001b[0m     \u001b[0;31m# For multioutput regression, we can only check the validity of target\u001b[0m\u001b[0;34m\u001b[0m\u001b[0;34m\u001b[0m\u001b[0m\n",
      "\u001b[0;32m~/anaconda3/lib/python3.7/site-packages/joblib/parallel.py\u001b[0m in \u001b[0;36m__call__\u001b[0;34m(self, iterable)\u001b[0m\n\u001b[1;32m    922\u001b[0m                 \u001b[0mself\u001b[0m\u001b[0;34m.\u001b[0m\u001b[0m_iterating\u001b[0m \u001b[0;34m=\u001b[0m \u001b[0mself\u001b[0m\u001b[0;34m.\u001b[0m\u001b[0m_original_iterator\u001b[0m \u001b[0;32mis\u001b[0m \u001b[0;32mnot\u001b[0m \u001b[0;32mNone\u001b[0m\u001b[0;34m\u001b[0m\u001b[0m\n\u001b[1;32m    923\u001b[0m \u001b[0;34m\u001b[0m\u001b[0m\n\u001b[0;32m--> 924\u001b[0;31m             \u001b[0;32mwhile\u001b[0m \u001b[0mself\u001b[0m\u001b[0;34m.\u001b[0m\u001b[0mdispatch_one_batch\u001b[0m\u001b[0;34m(\u001b[0m\u001b[0miterator\u001b[0m\u001b[0;34m)\u001b[0m\u001b[0;34m:\u001b[0m\u001b[0;34m\u001b[0m\u001b[0m\n\u001b[0m\u001b[1;32m    925\u001b[0m                 \u001b[0;32mpass\u001b[0m\u001b[0;34m\u001b[0m\u001b[0m\n\u001b[1;32m    926\u001b[0m \u001b[0;34m\u001b[0m\u001b[0m\n",
      "\u001b[0;32m~/anaconda3/lib/python3.7/site-packages/joblib/parallel.py\u001b[0m in \u001b[0;36mdispatch_one_batch\u001b[0;34m(self, iterator)\u001b[0m\n\u001b[1;32m    757\u001b[0m                 \u001b[0;32mreturn\u001b[0m \u001b[0;32mFalse\u001b[0m\u001b[0;34m\u001b[0m\u001b[0m\n\u001b[1;32m    758\u001b[0m             \u001b[0;32melse\u001b[0m\u001b[0;34m:\u001b[0m\u001b[0;34m\u001b[0m\u001b[0m\n\u001b[0;32m--> 759\u001b[0;31m                 \u001b[0mself\u001b[0m\u001b[0;34m.\u001b[0m\u001b[0m_dispatch\u001b[0m\u001b[0;34m(\u001b[0m\u001b[0mtasks\u001b[0m\u001b[0;34m)\u001b[0m\u001b[0;34m\u001b[0m\u001b[0m\n\u001b[0m\u001b[1;32m    760\u001b[0m                 \u001b[0;32mreturn\u001b[0m \u001b[0;32mTrue\u001b[0m\u001b[0;34m\u001b[0m\u001b[0m\n\u001b[1;32m    761\u001b[0m \u001b[0;34m\u001b[0m\u001b[0m\n",
      "\u001b[0;32m~/anaconda3/lib/python3.7/site-packages/joblib/parallel.py\u001b[0m in \u001b[0;36m_dispatch\u001b[0;34m(self, batch)\u001b[0m\n\u001b[1;32m    714\u001b[0m         \u001b[0;32mwith\u001b[0m \u001b[0mself\u001b[0m\u001b[0;34m.\u001b[0m\u001b[0m_lock\u001b[0m\u001b[0;34m:\u001b[0m\u001b[0;34m\u001b[0m\u001b[0m\n\u001b[1;32m    715\u001b[0m             \u001b[0mjob_idx\u001b[0m \u001b[0;34m=\u001b[0m \u001b[0mlen\u001b[0m\u001b[0;34m(\u001b[0m\u001b[0mself\u001b[0m\u001b[0;34m.\u001b[0m\u001b[0m_jobs\u001b[0m\u001b[0;34m)\u001b[0m\u001b[0;34m\u001b[0m\u001b[0m\n\u001b[0;32m--> 716\u001b[0;31m             \u001b[0mjob\u001b[0m \u001b[0;34m=\u001b[0m \u001b[0mself\u001b[0m\u001b[0;34m.\u001b[0m\u001b[0m_backend\u001b[0m\u001b[0;34m.\u001b[0m\u001b[0mapply_async\u001b[0m\u001b[0;34m(\u001b[0m\u001b[0mbatch\u001b[0m\u001b[0;34m,\u001b[0m \u001b[0mcallback\u001b[0m\u001b[0;34m=\u001b[0m\u001b[0mcb\u001b[0m\u001b[0;34m)\u001b[0m\u001b[0;34m\u001b[0m\u001b[0m\n\u001b[0m\u001b[1;32m    717\u001b[0m             \u001b[0;31m# A job can complete so quickly than its callback is\u001b[0m\u001b[0;34m\u001b[0m\u001b[0;34m\u001b[0m\u001b[0m\n\u001b[1;32m    718\u001b[0m             \u001b[0;31m# called before we get here, causing self._jobs to\u001b[0m\u001b[0;34m\u001b[0m\u001b[0;34m\u001b[0m\u001b[0m\n",
      "\u001b[0;32m~/anaconda3/lib/python3.7/site-packages/joblib/_parallel_backends.py\u001b[0m in \u001b[0;36mapply_async\u001b[0;34m(self, func, callback)\u001b[0m\n\u001b[1;32m    180\u001b[0m     \u001b[0;32mdef\u001b[0m \u001b[0mapply_async\u001b[0m\u001b[0;34m(\u001b[0m\u001b[0mself\u001b[0m\u001b[0;34m,\u001b[0m \u001b[0mfunc\u001b[0m\u001b[0;34m,\u001b[0m \u001b[0mcallback\u001b[0m\u001b[0;34m=\u001b[0m\u001b[0;32mNone\u001b[0m\u001b[0;34m)\u001b[0m\u001b[0;34m:\u001b[0m\u001b[0;34m\u001b[0m\u001b[0m\n\u001b[1;32m    181\u001b[0m         \u001b[0;34m\"\"\"Schedule a func to be run\"\"\"\u001b[0m\u001b[0;34m\u001b[0m\u001b[0m\n\u001b[0;32m--> 182\u001b[0;31m         \u001b[0mresult\u001b[0m \u001b[0;34m=\u001b[0m \u001b[0mImmediateResult\u001b[0m\u001b[0;34m(\u001b[0m\u001b[0mfunc\u001b[0m\u001b[0;34m)\u001b[0m\u001b[0;34m\u001b[0m\u001b[0m\n\u001b[0m\u001b[1;32m    183\u001b[0m         \u001b[0;32mif\u001b[0m \u001b[0mcallback\u001b[0m\u001b[0;34m:\u001b[0m\u001b[0;34m\u001b[0m\u001b[0m\n\u001b[1;32m    184\u001b[0m             \u001b[0mcallback\u001b[0m\u001b[0;34m(\u001b[0m\u001b[0mresult\u001b[0m\u001b[0;34m)\u001b[0m\u001b[0;34m\u001b[0m\u001b[0m\n",
      "\u001b[0;32m~/anaconda3/lib/python3.7/site-packages/joblib/_parallel_backends.py\u001b[0m in \u001b[0;36m__init__\u001b[0;34m(self, batch)\u001b[0m\n\u001b[1;32m    547\u001b[0m         \u001b[0;31m# Don't delay the application, to avoid keeping the input\u001b[0m\u001b[0;34m\u001b[0m\u001b[0;34m\u001b[0m\u001b[0m\n\u001b[1;32m    548\u001b[0m         \u001b[0;31m# arguments in memory\u001b[0m\u001b[0;34m\u001b[0m\u001b[0;34m\u001b[0m\u001b[0m\n\u001b[0;32m--> 549\u001b[0;31m         \u001b[0mself\u001b[0m\u001b[0;34m.\u001b[0m\u001b[0mresults\u001b[0m \u001b[0;34m=\u001b[0m \u001b[0mbatch\u001b[0m\u001b[0;34m(\u001b[0m\u001b[0;34m)\u001b[0m\u001b[0;34m\u001b[0m\u001b[0m\n\u001b[0m\u001b[1;32m    550\u001b[0m \u001b[0;34m\u001b[0m\u001b[0m\n\u001b[1;32m    551\u001b[0m     \u001b[0;32mdef\u001b[0m \u001b[0mget\u001b[0m\u001b[0;34m(\u001b[0m\u001b[0mself\u001b[0m\u001b[0;34m)\u001b[0m\u001b[0;34m:\u001b[0m\u001b[0;34m\u001b[0m\u001b[0m\n",
      "\u001b[0;32m~/anaconda3/lib/python3.7/site-packages/joblib/parallel.py\u001b[0m in \u001b[0;36m__call__\u001b[0;34m(self)\u001b[0m\n\u001b[1;32m    223\u001b[0m         \u001b[0;32mwith\u001b[0m \u001b[0mparallel_backend\u001b[0m\u001b[0;34m(\u001b[0m\u001b[0mself\u001b[0m\u001b[0;34m.\u001b[0m\u001b[0m_backend\u001b[0m\u001b[0;34m,\u001b[0m \u001b[0mn_jobs\u001b[0m\u001b[0;34m=\u001b[0m\u001b[0mself\u001b[0m\u001b[0;34m.\u001b[0m\u001b[0m_n_jobs\u001b[0m\u001b[0;34m)\u001b[0m\u001b[0;34m:\u001b[0m\u001b[0;34m\u001b[0m\u001b[0m\n\u001b[1;32m    224\u001b[0m             return [func(*args, **kwargs)\n\u001b[0;32m--> 225\u001b[0;31m                     for func, args, kwargs in self.items]\n\u001b[0m\u001b[1;32m    226\u001b[0m \u001b[0;34m\u001b[0m\u001b[0m\n\u001b[1;32m    227\u001b[0m     \u001b[0;32mdef\u001b[0m \u001b[0m__len__\u001b[0m\u001b[0;34m(\u001b[0m\u001b[0mself\u001b[0m\u001b[0;34m)\u001b[0m\u001b[0;34m:\u001b[0m\u001b[0;34m\u001b[0m\u001b[0m\n",
      "\u001b[0;32m~/anaconda3/lib/python3.7/site-packages/joblib/parallel.py\u001b[0m in \u001b[0;36m<listcomp>\u001b[0;34m(.0)\u001b[0m\n\u001b[1;32m    223\u001b[0m         \u001b[0;32mwith\u001b[0m \u001b[0mparallel_backend\u001b[0m\u001b[0;34m(\u001b[0m\u001b[0mself\u001b[0m\u001b[0;34m.\u001b[0m\u001b[0m_backend\u001b[0m\u001b[0;34m,\u001b[0m \u001b[0mn_jobs\u001b[0m\u001b[0;34m=\u001b[0m\u001b[0mself\u001b[0m\u001b[0;34m.\u001b[0m\u001b[0m_n_jobs\u001b[0m\u001b[0;34m)\u001b[0m\u001b[0;34m:\u001b[0m\u001b[0;34m\u001b[0m\u001b[0m\n\u001b[1;32m    224\u001b[0m             return [func(*args, **kwargs)\n\u001b[0;32m--> 225\u001b[0;31m                     for func, args, kwargs in self.items]\n\u001b[0m\u001b[1;32m    226\u001b[0m \u001b[0;34m\u001b[0m\u001b[0m\n\u001b[1;32m    227\u001b[0m     \u001b[0;32mdef\u001b[0m \u001b[0m__len__\u001b[0m\u001b[0;34m(\u001b[0m\u001b[0mself\u001b[0m\u001b[0;34m)\u001b[0m\u001b[0;34m:\u001b[0m\u001b[0;34m\u001b[0m\u001b[0m\n",
      "\u001b[0;32m~/anaconda3/lib/python3.7/site-packages/sklearn/inspection/partial_dependence.py\u001b[0m in \u001b[0;36mpartial_dependence\u001b[0;34m(estimator, X, features, response_method, percentiles, grid_resolution, method)\u001b[0m\n\u001b[1;32m    350\u001b[0m         averaged_predictions = _partial_dependence_brute(estimator, grid,\n\u001b[1;32m    351\u001b[0m                                                          \u001b[0mfeatures\u001b[0m\u001b[0;34m,\u001b[0m \u001b[0mX\u001b[0m\u001b[0;34m,\u001b[0m\u001b[0;34m\u001b[0m\u001b[0m\n\u001b[0;32m--> 352\u001b[0;31m                                                          response_method)\n\u001b[0m\u001b[1;32m    353\u001b[0m     \u001b[0;32melse\u001b[0m\u001b[0;34m:\u001b[0m\u001b[0;34m\u001b[0m\u001b[0m\n\u001b[1;32m    354\u001b[0m         averaged_predictions = _partial_dependence_recursion(estimator, grid,\n",
      "\u001b[0;32m~/anaconda3/lib/python3.7/site-packages/sklearn/inspection/partial_dependence.py\u001b[0m in \u001b[0;36m_partial_dependence_brute\u001b[0;34m(est, grid, features, X, response_method)\u001b[0m\n\u001b[1;32m    150\u001b[0m \u001b[0;34m\u001b[0m\u001b[0m\n\u001b[1;32m    151\u001b[0m         \u001b[0;32mtry\u001b[0m\u001b[0;34m:\u001b[0m\u001b[0;34m\u001b[0m\u001b[0m\n\u001b[0;32m--> 152\u001b[0;31m             \u001b[0mpredictions\u001b[0m \u001b[0;34m=\u001b[0m \u001b[0mprediction_method\u001b[0m\u001b[0;34m(\u001b[0m\u001b[0mX_eval\u001b[0m\u001b[0;34m)\u001b[0m\u001b[0;34m\u001b[0m\u001b[0m\n\u001b[0m\u001b[1;32m    153\u001b[0m         \u001b[0;32mexcept\u001b[0m \u001b[0mNotFittedError\u001b[0m\u001b[0;34m:\u001b[0m\u001b[0;34m\u001b[0m\u001b[0m\n\u001b[1;32m    154\u001b[0m             raise ValueError(\n",
      "\u001b[0;32m~/anaconda3/lib/python3.7/site-packages/sklearn/ensemble/forest.py\u001b[0m in \u001b[0;36mpredict_proba\u001b[0;34m(self, X)\u001b[0m\n\u001b[1;32m    599\u001b[0m             delayed(_accumulate_prediction)(e.predict_proba, X, all_proba,\n\u001b[1;32m    600\u001b[0m                                             lock)\n\u001b[0;32m--> 601\u001b[0;31m             for e in self.estimators_)\n\u001b[0m\u001b[1;32m    602\u001b[0m \u001b[0;34m\u001b[0m\u001b[0m\n\u001b[1;32m    603\u001b[0m         \u001b[0;32mfor\u001b[0m \u001b[0mproba\u001b[0m \u001b[0;32min\u001b[0m \u001b[0mall_proba\u001b[0m\u001b[0;34m:\u001b[0m\u001b[0;34m\u001b[0m\u001b[0m\n",
      "\u001b[0;32m~/anaconda3/lib/python3.7/site-packages/joblib/parallel.py\u001b[0m in \u001b[0;36m__call__\u001b[0;34m(self, iterable)\u001b[0m\n\u001b[1;32m    932\u001b[0m \u001b[0;34m\u001b[0m\u001b[0m\n\u001b[1;32m    933\u001b[0m             \u001b[0;32mwith\u001b[0m \u001b[0mself\u001b[0m\u001b[0;34m.\u001b[0m\u001b[0m_backend\u001b[0m\u001b[0;34m.\u001b[0m\u001b[0mretrieval_context\u001b[0m\u001b[0;34m(\u001b[0m\u001b[0;34m)\u001b[0m\u001b[0;34m:\u001b[0m\u001b[0;34m\u001b[0m\u001b[0m\n\u001b[0;32m--> 934\u001b[0;31m                 \u001b[0mself\u001b[0m\u001b[0;34m.\u001b[0m\u001b[0mretrieve\u001b[0m\u001b[0;34m(\u001b[0m\u001b[0;34m)\u001b[0m\u001b[0;34m\u001b[0m\u001b[0m\n\u001b[0m\u001b[1;32m    935\u001b[0m             \u001b[0;31m# Make sure that we get a last message telling us we are done\u001b[0m\u001b[0;34m\u001b[0m\u001b[0;34m\u001b[0m\u001b[0m\n\u001b[1;32m    936\u001b[0m             \u001b[0melapsed_time\u001b[0m \u001b[0;34m=\u001b[0m \u001b[0mtime\u001b[0m\u001b[0;34m.\u001b[0m\u001b[0mtime\u001b[0m\u001b[0;34m(\u001b[0m\u001b[0;34m)\u001b[0m \u001b[0;34m-\u001b[0m \u001b[0mself\u001b[0m\u001b[0;34m.\u001b[0m\u001b[0m_start_time\u001b[0m\u001b[0;34m\u001b[0m\u001b[0m\n",
      "\u001b[0;32m~/anaconda3/lib/python3.7/site-packages/joblib/parallel.py\u001b[0m in \u001b[0;36mretrieve\u001b[0;34m(self)\u001b[0m\n\u001b[1;32m    831\u001b[0m             \u001b[0;32mtry\u001b[0m\u001b[0;34m:\u001b[0m\u001b[0;34m\u001b[0m\u001b[0m\n\u001b[1;32m    832\u001b[0m                 \u001b[0;32mif\u001b[0m \u001b[0mgetattr\u001b[0m\u001b[0;34m(\u001b[0m\u001b[0mself\u001b[0m\u001b[0;34m.\u001b[0m\u001b[0m_backend\u001b[0m\u001b[0;34m,\u001b[0m \u001b[0;34m'supports_timeout'\u001b[0m\u001b[0;34m,\u001b[0m \u001b[0;32mFalse\u001b[0m\u001b[0;34m)\u001b[0m\u001b[0;34m:\u001b[0m\u001b[0;34m\u001b[0m\u001b[0m\n\u001b[0;32m--> 833\u001b[0;31m                     \u001b[0mself\u001b[0m\u001b[0;34m.\u001b[0m\u001b[0m_output\u001b[0m\u001b[0;34m.\u001b[0m\u001b[0mextend\u001b[0m\u001b[0;34m(\u001b[0m\u001b[0mjob\u001b[0m\u001b[0;34m.\u001b[0m\u001b[0mget\u001b[0m\u001b[0;34m(\u001b[0m\u001b[0mtimeout\u001b[0m\u001b[0;34m=\u001b[0m\u001b[0mself\u001b[0m\u001b[0;34m.\u001b[0m\u001b[0mtimeout\u001b[0m\u001b[0;34m)\u001b[0m\u001b[0;34m)\u001b[0m\u001b[0;34m\u001b[0m\u001b[0m\n\u001b[0m\u001b[1;32m    834\u001b[0m                 \u001b[0;32melse\u001b[0m\u001b[0;34m:\u001b[0m\u001b[0;34m\u001b[0m\u001b[0m\n\u001b[1;32m    835\u001b[0m                     \u001b[0mself\u001b[0m\u001b[0;34m.\u001b[0m\u001b[0m_output\u001b[0m\u001b[0;34m.\u001b[0m\u001b[0mextend\u001b[0m\u001b[0;34m(\u001b[0m\u001b[0mjob\u001b[0m\u001b[0;34m.\u001b[0m\u001b[0mget\u001b[0m\u001b[0;34m(\u001b[0m\u001b[0;34m)\u001b[0m\u001b[0;34m)\u001b[0m\u001b[0;34m\u001b[0m\u001b[0m\n",
      "\u001b[0;32m~/anaconda3/lib/python3.7/multiprocessing/pool.py\u001b[0m in \u001b[0;36mget\u001b[0;34m(self, timeout)\u001b[0m\n\u001b[1;32m    649\u001b[0m \u001b[0;34m\u001b[0m\u001b[0m\n\u001b[1;32m    650\u001b[0m     \u001b[0;32mdef\u001b[0m \u001b[0mget\u001b[0m\u001b[0;34m(\u001b[0m\u001b[0mself\u001b[0m\u001b[0;34m,\u001b[0m \u001b[0mtimeout\u001b[0m\u001b[0;34m=\u001b[0m\u001b[0;32mNone\u001b[0m\u001b[0;34m)\u001b[0m\u001b[0;34m:\u001b[0m\u001b[0;34m\u001b[0m\u001b[0m\n\u001b[0;32m--> 651\u001b[0;31m         \u001b[0mself\u001b[0m\u001b[0;34m.\u001b[0m\u001b[0mwait\u001b[0m\u001b[0;34m(\u001b[0m\u001b[0mtimeout\u001b[0m\u001b[0;34m)\u001b[0m\u001b[0;34m\u001b[0m\u001b[0m\n\u001b[0m\u001b[1;32m    652\u001b[0m         \u001b[0;32mif\u001b[0m \u001b[0;32mnot\u001b[0m \u001b[0mself\u001b[0m\u001b[0;34m.\u001b[0m\u001b[0mready\u001b[0m\u001b[0;34m(\u001b[0m\u001b[0;34m)\u001b[0m\u001b[0;34m:\u001b[0m\u001b[0;34m\u001b[0m\u001b[0m\n\u001b[1;32m    653\u001b[0m             \u001b[0;32mraise\u001b[0m \u001b[0mTimeoutError\u001b[0m\u001b[0;34m\u001b[0m\u001b[0m\n",
      "\u001b[0;32m~/anaconda3/lib/python3.7/multiprocessing/pool.py\u001b[0m in \u001b[0;36mwait\u001b[0;34m(self, timeout)\u001b[0m\n\u001b[1;32m    646\u001b[0m \u001b[0;34m\u001b[0m\u001b[0m\n\u001b[1;32m    647\u001b[0m     \u001b[0;32mdef\u001b[0m \u001b[0mwait\u001b[0m\u001b[0;34m(\u001b[0m\u001b[0mself\u001b[0m\u001b[0;34m,\u001b[0m \u001b[0mtimeout\u001b[0m\u001b[0;34m=\u001b[0m\u001b[0;32mNone\u001b[0m\u001b[0;34m)\u001b[0m\u001b[0;34m:\u001b[0m\u001b[0;34m\u001b[0m\u001b[0m\n\u001b[0;32m--> 648\u001b[0;31m         \u001b[0mself\u001b[0m\u001b[0;34m.\u001b[0m\u001b[0m_event\u001b[0m\u001b[0;34m.\u001b[0m\u001b[0mwait\u001b[0m\u001b[0;34m(\u001b[0m\u001b[0mtimeout\u001b[0m\u001b[0;34m)\u001b[0m\u001b[0;34m\u001b[0m\u001b[0m\n\u001b[0m\u001b[1;32m    649\u001b[0m \u001b[0;34m\u001b[0m\u001b[0m\n\u001b[1;32m    650\u001b[0m     \u001b[0;32mdef\u001b[0m \u001b[0mget\u001b[0m\u001b[0;34m(\u001b[0m\u001b[0mself\u001b[0m\u001b[0;34m,\u001b[0m \u001b[0mtimeout\u001b[0m\u001b[0;34m=\u001b[0m\u001b[0;32mNone\u001b[0m\u001b[0;34m)\u001b[0m\u001b[0;34m:\u001b[0m\u001b[0;34m\u001b[0m\u001b[0m\n",
      "\u001b[0;32m~/anaconda3/lib/python3.7/threading.py\u001b[0m in \u001b[0;36mwait\u001b[0;34m(self, timeout)\u001b[0m\n\u001b[1;32m    550\u001b[0m             \u001b[0msignaled\u001b[0m \u001b[0;34m=\u001b[0m \u001b[0mself\u001b[0m\u001b[0;34m.\u001b[0m\u001b[0m_flag\u001b[0m\u001b[0;34m\u001b[0m\u001b[0m\n\u001b[1;32m    551\u001b[0m             \u001b[0;32mif\u001b[0m \u001b[0;32mnot\u001b[0m \u001b[0msignaled\u001b[0m\u001b[0;34m:\u001b[0m\u001b[0;34m\u001b[0m\u001b[0m\n\u001b[0;32m--> 552\u001b[0;31m                 \u001b[0msignaled\u001b[0m \u001b[0;34m=\u001b[0m \u001b[0mself\u001b[0m\u001b[0;34m.\u001b[0m\u001b[0m_cond\u001b[0m\u001b[0;34m.\u001b[0m\u001b[0mwait\u001b[0m\u001b[0;34m(\u001b[0m\u001b[0mtimeout\u001b[0m\u001b[0;34m)\u001b[0m\u001b[0;34m\u001b[0m\u001b[0m\n\u001b[0m\u001b[1;32m    553\u001b[0m             \u001b[0;32mreturn\u001b[0m \u001b[0msignaled\u001b[0m\u001b[0;34m\u001b[0m\u001b[0m\n\u001b[1;32m    554\u001b[0m \u001b[0;34m\u001b[0m\u001b[0m\n",
      "\u001b[0;32m~/anaconda3/lib/python3.7/threading.py\u001b[0m in \u001b[0;36mwait\u001b[0;34m(self, timeout)\u001b[0m\n\u001b[1;32m    294\u001b[0m         \u001b[0;32mtry\u001b[0m\u001b[0;34m:\u001b[0m    \u001b[0;31m# restore state no matter what (e.g., KeyboardInterrupt)\u001b[0m\u001b[0;34m\u001b[0m\u001b[0m\n\u001b[1;32m    295\u001b[0m             \u001b[0;32mif\u001b[0m \u001b[0mtimeout\u001b[0m \u001b[0;32mis\u001b[0m \u001b[0;32mNone\u001b[0m\u001b[0;34m:\u001b[0m\u001b[0;34m\u001b[0m\u001b[0m\n\u001b[0;32m--> 296\u001b[0;31m                 \u001b[0mwaiter\u001b[0m\u001b[0;34m.\u001b[0m\u001b[0macquire\u001b[0m\u001b[0;34m(\u001b[0m\u001b[0;34m)\u001b[0m\u001b[0;34m\u001b[0m\u001b[0m\n\u001b[0m\u001b[1;32m    297\u001b[0m                 \u001b[0mgotit\u001b[0m \u001b[0;34m=\u001b[0m \u001b[0;32mTrue\u001b[0m\u001b[0;34m\u001b[0m\u001b[0m\n\u001b[1;32m    298\u001b[0m             \u001b[0;32melse\u001b[0m\u001b[0;34m:\u001b[0m\u001b[0;34m\u001b[0m\u001b[0m\n",
      "\u001b[0;31mKeyboardInterrupt\u001b[0m: "
     ]
    },
    {
     "data": {
      "image/png": "[encoded data removed]",
      "text/plain": [
       "<Figure size 1296x1440 with 1 Axes>"
      ]
     },
     "metadata": {
      "needs_background": "light"
     },
     "output_type": "display_data"
    }
   ],
   "source": [
    "fig, ax = plt.subplots(figsize=(18, 20))\n",
    "\n",
    "inspection.plot_partial_dependence(tfidf_model,\n",
    "                                   X_train_transformed,\n",
    "                                   features=feature_idx,\n",
    "                                   feature_names=vectorizer.get_feature_names(),\n",
    "                                   response_method='predict_proba',\n",
    "                                   n_cols=2,\n",
    "                                   fig=fig)"
   ]
  },
  {
   "cell_type": "code",
   "execution_count": 309,
   "metadata": {},
   "outputs": [
    {
     "data": {
      "image/png": "[encoded data removed]",
      "text/plain": [
       "<Figure size 432x288 with 1 Axes>"
      ]
     },
     "metadata": {
      "needs_background": "light"
     },
     "output_type": "display_data"
    }
   ],
   "source": [
    "inspection.plot_partial_dependence(tfidf_model, X_train_transformed.toarray(), [15167], n_jobs=10)"
   ]
  },
  {
   "cell_type": "code",
   "execution_count": 323,
   "metadata": {},
   "outputs": [],
   "source": []
  },
  {
   "cell_type": "code",
   "execution_count": 321,
   "metadata": {},
   "outputs": [
    {
     "data": {
      "text/plain": [
       "[3425, 15189, 4248, 3438, 11375, 8589, 4243, 10558, 231, 4241]"
      ]
     },
     "execution_count": 321,
     "metadata": {},
     "output_type": "execute_result"
    }
   ],
   "source": []
  },
  {
   "cell_type": "code",
   "execution_count": 314,
   "metadata": {},
   "outputs": [],
   "source": [
    "feat_df = pd.DataFrame({'feature':vectorizer.get_feature_names(), 'importance':tfidf_model.feature_importances_})\n",
    "feat_df = feat_df.sort_values(by='importance', ascending=False)"
   ]
  },
  {
   "cell_type": "code",
   "execution_count": 318,
   "metadata": {},
   "outputs": [
    {
     "data": {
      "text/plain": [
       "['conservative',\n",
       " 'trump',\n",
       " 'democrats',\n",
       " 'conservatives',\n",
       " 'progressive',\n",
       " 'liberal',\n",
       " 'democratic',\n",
       " 'party',\n",
       " '2020',\n",
       " 'democrat']"
      ]
     },
     "execution_count": 318,
     "metadata": {},
     "output_type": "execute_result"
    }
   ],
   "source": []
  },
  {
   "cell_type": "code",
   "execution_count": 292,
   "metadata": {},
   "outputs": [
    {
     "data": {
      "text/html": [
       "<div>\n",
       "<style scoped>\n",
       "    .dataframe tbody tr th:only-of-type {\n",
       "        vertical-align: middle;\n",
       "    }\n",
       "\n",
       "    .dataframe tbody tr th {\n",
       "        vertical-align: top;\n",
       "    }\n",
       "\n",
       "    .dataframe thead th {\n",
       "        text-align: right;\n",
       "    }\n",
       "</style>\n",
       "<table border=\"1\" class=\"dataframe\">\n",
       "  <thead>\n",
       "    <tr style=\"text-align: right;\">\n",
       "      <th></th>\n",
       "      <th>title_clean</th>\n",
       "      <th>elmo_embedding</th>\n",
       "      <th>political_leaning</th>\n",
       "      <th>rf_tfidf_pred</th>\n",
       "      <th>nn_tfidf_pred</th>\n",
       "      <th>rf_elmo_pred</th>\n",
       "      <th>nn_elmo_pred</th>\n",
       "    </tr>\n",
       "  </thead>\n",
       "  <tbody>\n",
       "    <tr>\n",
       "      <th>0</th>\n",
       "      <td>what was the moment or event that made you rea...</td>\n",
       "      <td>[-0.078861244, -0.113778666, 0.0038933286, -0....</td>\n",
       "      <td>0</td>\n",
       "      <td>0</td>\n",
       "      <td>0.499805</td>\n",
       "      <td>0</td>\n",
       "      <td>0.595509</td>\n",
       "    </tr>\n",
       "    <tr>\n",
       "      <th>1</th>\n",
       "      <td>congratulations we have a guess when we hit 20...</td>\n",
       "      <td>[-0.34211433, -0.33793145, -0.08896699, -0.123...</td>\n",
       "      <td>0</td>\n",
       "      <td>0</td>\n",
       "      <td>0.501262</td>\n",
       "      <td>0</td>\n",
       "      <td>0.610095</td>\n",
       "    </tr>\n",
       "    <tr>\n",
       "      <th>2</th>\n",
       "      <td>what are your opinions on the prohibition of m...</td>\n",
       "      <td>[-0.04286085, -0.03858882, -0.025878163, -0.07...</td>\n",
       "      <td>0</td>\n",
       "      <td>0</td>\n",
       "      <td>0.496922</td>\n",
       "      <td>0</td>\n",
       "      <td>0.627383</td>\n",
       "    </tr>\n",
       "    <tr>\n",
       "      <th>3</th>\n",
       "      <td>they keep citing violence against transgender ...</td>\n",
       "      <td>[-0.07348777, 0.20026228, -0.059132166, -0.123...</td>\n",
       "      <td>0</td>\n",
       "      <td>0</td>\n",
       "      <td>0.500026</td>\n",
       "      <td>0</td>\n",
       "      <td>0.623724</td>\n",
       "    </tr>\n",
       "    <tr>\n",
       "      <th>4</th>\n",
       "      <td>why is rpolitics so biased and attack you for ...</td>\n",
       "      <td>[-0.11819296, -0.24966277, 0.17514223, -0.2276...</td>\n",
       "      <td>0</td>\n",
       "      <td>0</td>\n",
       "      <td>0.502977</td>\n",
       "      <td>0</td>\n",
       "      <td>0.604593</td>\n",
       "    </tr>\n",
       "  </tbody>\n",
       "</table>\n",
       "</div>"
      ],
      "text/plain": [
       "                                         title_clean  \\\n",
       "0  what was the moment or event that made you rea...   \n",
       "1  congratulations we have a guess when we hit 20...   \n",
       "2  what are your opinions on the prohibition of m...   \n",
       "3  they keep citing violence against transgender ...   \n",
       "4  why is rpolitics so biased and attack you for ...   \n",
       "\n",
       "                                      elmo_embedding  political_leaning  \\\n",
       "0  [-0.078861244, -0.113778666, 0.0038933286, -0....                  0   \n",
       "1  [-0.34211433, -0.33793145, -0.08896699, -0.123...                  0   \n",
       "2  [-0.04286085, -0.03858882, -0.025878163, -0.07...                  0   \n",
       "3  [-0.07348777, 0.20026228, -0.059132166, -0.123...                  0   \n",
       "4  [-0.11819296, -0.24966277, 0.17514223, -0.2276...                  0   \n",
       "\n",
       "   rf_tfidf_pred  nn_tfidf_pred  rf_elmo_pred  nn_elmo_pred  \n",
       "0              0       0.499805             0      0.595509  \n",
       "1              0       0.501262             0      0.610095  \n",
       "2              0       0.496922             0      0.627383  \n",
       "3              0       0.500026             0      0.623724  \n",
       "4              0       0.502977             0      0.604593  "
      ]
     },
     "execution_count": 292,
     "metadata": {},
     "output_type": "execute_result"
    }
   ],
   "source": [
    "post_df.head()"
   ]
  },
  {
   "cell_type": "markdown",
   "metadata": {},
   "source": [
    "# Misc"
   ]
  },
  {
   "cell_type": "code",
   "execution_count": 149,
   "metadata": {},
   "outputs": [],
   "source": [
    "from sklearn import cluster"
   ]
  },
  {
   "cell_type": "code",
   "execution_count": 167,
   "metadata": {},
   "outputs": [],
   "source": [
    "cluster_model = cluster.k_means(post_df['elmo_embedding'].tolist(), 8)"
   ]
  },
  {
   "cell_type": "code",
   "execution_count": 168,
   "metadata": {},
   "outputs": [],
   "source": [
    "post_df['cluster'] = cluster_model[1]"
   ]
  },
  {
   "cell_type": "code",
   "execution_count": 169,
   "metadata": {},
   "outputs": [
    {
     "data": {
      "text/plain": [
       "0    8611\n",
       "7    8051\n",
       "4    5071\n",
       "2    2886\n",
       "3    1356\n",
       "1     766\n",
       "5     288\n",
       "6     169\n",
       "Name: cluster, dtype: int64"
      ]
     },
     "execution_count": 169,
     "metadata": {},
     "output_type": "execute_result"
    }
   ],
   "source": [
    "post_df['cluster'].value_counts()"
   ]
  },
  {
   "cell_type": "markdown",
   "metadata": {},
   "source": [
    "# To Be Sorted"
   ]
  },
  {
   "cell_type": "code",
   "execution_count": null,
   "metadata": {},
   "outputs": [],
   "source": [
    "# Define classifier, over sampler, under sampler and feature selector\n",
    "model = RandomForestClassifier(n_jobs=10)\n",
    "osmpl = over_sampling.SMOTE(kind='regular', n_jobs=10)\n",
    "usmpl = under_sampling.EditedNearestNeighbours(n_neighbors=5, n_jobs=10)\n",
    "\n",
    "# Create pipeline\n",
    "pipe = pipeline.Pipeline([('over_sampler', osmpl), ('under_sampler', usmpl), ('classifier', model)])\n",
    "\n",
    "gs_parameter = dict(classifier__n_estimators=np.arange(300, 600, 100), \n",
    "                    classifier__max_depth=np.arange(100,400, 100))\n",
    "\n",
    "grid_search = model_selection.GridSearchCV(pipe,\n",
    "                                           param_grid=gs_parameter,\n",
    "                                           scoring='f1_macro',\n",
    "                                           cv=5)\n",
    "\n",
    "grid_search.fit(X_train, y_train)"
   ]
  },
  {
   "cell_type": "code",
   "execution_count": 182,
   "metadata": {},
   "outputs": [
    {
     "name": "stdout",
     "output_type": "stream",
     "text": [
      "13.681684732437134 seconds\n"
     ]
    }
   ],
   "source": [
    "start_time = time.time()\n",
    "model = RandomForestClassifier(n_estimators=100,\n",
    "                               n_jobs=10,\n",
    "                               class_weight='balanced')\n",
    "model.fit(X_train, y_train)\n",
    "print('%s seconds' % (time.time() - start_time))"
   ]
  },
  {
   "cell_type": "code",
   "execution_count": 183,
   "metadata": {},
   "outputs": [
    {
     "name": "stdout",
     "output_type": "stream",
     "text": [
      "Dummy Model\n",
      "              precision    recall  f1-score   support\n",
      "\n",
      "           0       0.66      1.00      0.79      3585\n",
      "           1       0.00      0.00      0.00      1855\n",
      "\n",
      "    accuracy                           0.66      5440\n",
      "   macro avg       0.33      0.50      0.40      5440\n",
      "weighted avg       0.43      0.66      0.52      5440\n",
      "\n",
      "With Over/Under Sampling\n",
      "              precision    recall  f1-score   support\n",
      "\n",
      "           0       0.75      0.89      0.81      3585\n",
      "           1       0.66      0.43      0.52      1855\n",
      "\n",
      "    accuracy                           0.73      5440\n",
      "   macro avg       0.71      0.66      0.67      5440\n",
      "weighted avg       0.72      0.73      0.71      5440\n",
      "\n",
      "Regular RandomForest\n",
      "              precision    recall  f1-score   support\n",
      "\n",
      "           0       0.71      0.97      0.82      3585\n",
      "           1       0.79      0.25      0.38      1855\n",
      "\n",
      "    accuracy                           0.72      5440\n",
      "   macro avg       0.75      0.61      0.60      5440\n",
      "weighted avg       0.74      0.72      0.67      5440\n",
      "\n"
     ]
    }
   ],
   "source": [
    "print('Dummy Model')\n",
    "print(metrics.classification_report(y_test, np.zeros(y_test.shape[0])))\n",
    "print('With Over/Under Sampling')\n",
    "print(metrics.classification_report(y_test, pipe.predict(X_test)))\n",
    "print('Regular RandomForest')\n",
    "print(metrics.classification_report(y_test, model.predict(X_test)))"
   ]
  },
  {
   "cell_type": "code",
   "execution_count": 185,
   "metadata": {},
   "outputs": [
    {
     "data": {
      "image/png": "[encoded data removed]",
      "text/plain": [
       "<Figure size 1296x288 with 6 Axes>"
      ]
     },
     "metadata": {
      "needs_background": "light"
     },
     "output_type": "display_data"
    }
   ],
   "source": [
    "fig, ax = plt.subplots(1, 3, figsize=(18, 4))\n",
    "sns.heatmap(metrics.confusion_matrix(y_test, np.zeros(y_test.shape[0])), \n",
    "            xticklabels=['pred: C', 'pred: L'],\n",
    "            yticklabels=['actual: C', 'actual: L'],\n",
    "            annot=True,\n",
    "            fmt='g',\n",
    "            cmap='Blues', \n",
    "            ax=ax[0])\n",
    "\n",
    "sns.heatmap(metrics.confusion_matrix(y_test, model.predict(X_test)), \n",
    "            xticklabels=['pred: C', 'pred: L'],\n",
    "            yticklabels=['actual: C', 'actual: L'],\n",
    "            annot=True,\n",
    "            fmt='g',\n",
    "            cmap='Blues',\n",
    "            ax=ax[1])\n",
    "\n",
    "sns.heatmap(metrics.confusion_matrix(y_test, pipe.predict(X_test)), \n",
    "            xticklabels=['pred: C', 'pred: L'],\n",
    "            yticklabels=['actual: C', 'actual: L'],\n",
    "            annot=True,\n",
    "            fmt='g',\n",
    "            cmap='Blues',\n",
    "            ax=ax[2])\n",
    "\n",
    "plt.show()"
   ]
  },
  {
   "cell_type": "code",
   "execution_count": 186,
   "metadata": {},
   "outputs": [
    {
     "data": {
      "text/html": [
       "<div>\n",
       "<style scoped>\n",
       "    .dataframe tbody tr th:only-of-type {\n",
       "        vertical-align: middle;\n",
       "    }\n",
       "\n",
       "    .dataframe tbody tr th {\n",
       "        vertical-align: top;\n",
       "    }\n",
       "\n",
       "    .dataframe thead th {\n",
       "        text-align: right;\n",
       "    }\n",
       "</style>\n",
       "<table border=\"1\" class=\"dataframe\">\n",
       "  <thead>\n",
       "    <tr style=\"text-align: right;\">\n",
       "      <th></th>\n",
       "      <th>title_clean</th>\n",
       "      <th>elmo_embedding</th>\n",
       "      <th>political_leaning</th>\n",
       "    </tr>\n",
       "  </thead>\n",
       "  <tbody>\n",
       "    <tr>\n",
       "      <th>0</th>\n",
       "      <td>what was the moment or event that made you rea...</td>\n",
       "      <td>[-0.078861244, -0.113778666, 0.0038933286, -0....</td>\n",
       "      <td>0</td>\n",
       "    </tr>\n",
       "    <tr>\n",
       "      <th>1</th>\n",
       "      <td>congratulations we have a guess when we hit 20...</td>\n",
       "      <td>[-0.34211433, -0.33793145, -0.08896699, -0.123...</td>\n",
       "      <td>0</td>\n",
       "    </tr>\n",
       "    <tr>\n",
       "      <th>2</th>\n",
       "      <td>what are your opinions on the prohibition of m...</td>\n",
       "      <td>[-0.04286085, -0.03858882, -0.025878163, -0.07...</td>\n",
       "      <td>0</td>\n",
       "    </tr>\n",
       "    <tr>\n",
       "      <th>3</th>\n",
       "      <td>they keep citing violence against transgender ...</td>\n",
       "      <td>[-0.07348777, 0.20026228, -0.059132166, -0.123...</td>\n",
       "      <td>0</td>\n",
       "    </tr>\n",
       "    <tr>\n",
       "      <th>4</th>\n",
       "      <td>why is rpolitics so biased and attack you for ...</td>\n",
       "      <td>[-0.11819296, -0.24966277, 0.17514223, -0.2276...</td>\n",
       "      <td>0</td>\n",
       "    </tr>\n",
       "  </tbody>\n",
       "</table>\n",
       "</div>"
      ],
      "text/plain": [
       "                                         title_clean  \\\n",
       "0  what was the moment or event that made you rea...   \n",
       "1  congratulations we have a guess when we hit 20...   \n",
       "2  what are your opinions on the prohibition of m...   \n",
       "3  they keep citing violence against transgender ...   \n",
       "4  why is rpolitics so biased and attack you for ...   \n",
       "\n",
       "                                      elmo_embedding  political_leaning  \n",
       "0  [-0.078861244, -0.113778666, 0.0038933286, -0....                  0  \n",
       "1  [-0.34211433, -0.33793145, -0.08896699, -0.123...                  0  \n",
       "2  [-0.04286085, -0.03858882, -0.025878163, -0.07...                  0  \n",
       "3  [-0.07348777, 0.20026228, -0.059132166, -0.123...                  0  \n",
       "4  [-0.11819296, -0.24966277, 0.17514223, -0.2276...                  0  "
      ]
     },
     "execution_count": 186,
     "metadata": {},
     "output_type": "execute_result"
    }
   ],
   "source": [
    "post_df.head()"
   ]
  },
  {
   "cell_type": "markdown",
   "metadata": {},
   "source": [
    " # Misc"
   ]
  },
  {
   "cell_type": "code",
   "execution_count": 52,
   "metadata": {},
   "outputs": [],
   "source": [
    "sample_df = title_df.sample(n=40)[['title', 'political_leaning']]\n",
    "sample_df['title_clean'] = sample_df['title'].apply(cleanText)\n",
    "sample_df['word_token'] = sample_df['title_clean'].apply(nltk.word_tokenize)\n",
    "sample_df['word_count'] = sample_df['word_token'].apply(lambda x: len(x))\n",
    "sample_df = sample_df[sample_df['word_count']!=0].reset_index(drop=True)\n",
    "\n",
    "X = np.array(sample_df['title_clean'])\n",
    "y = np.array(sample_df['political_leaning'])\n"
   ]
  },
  {
   "cell_type": "code",
   "execution_count": 53,
   "metadata": {},
   "outputs": [
    {
     "name": "stdout",
     "output_type": "stream",
     "text": [
      "batch 0 complete -  37.912352323532104 seconds\n"
     ]
    }
   ],
   "source": [
    "batch_size = 40\n",
    "X_list = [X[i:i+batch_size] for i in range(0, X.shape[0], batch_size)]\n",
    "\n",
    "X_vecs = []\n",
    "elmo_model = hub.Module('elmo_model', trainable=False)\n",
    "for x in enumerate(X_list):\n",
    "    embeddings = elmo_model(x[1], signature=\"default\", as_dict=True)['default']\n",
    "    start_time = time.time()\n",
    "    with tf.Session() as sess:\n",
    "        sess.run([tf.global_variables_initializer(), tf.tables_initializer()])\n",
    "        elmo_embedding = sess.run(embeddings)\n",
    "    print('batch', x[0], 'complete - ', '%s seconds' % (time.time() - start_time))\n",
    "    X_vecs += list(elmo_embedding)"
   ]
  },
  {
   "cell_type": "code",
   "execution_count": 108,
   "metadata": {},
   "outputs": [],
   "source": [
    "test = np.array(X_vecs)"
   ]
  },
  {
   "cell_type": "code",
   "execution_count": 114,
   "metadata": {},
   "outputs": [
    {
     "data": {
      "text/plain": [
       "1024"
      ]
     },
     "execution_count": 114,
     "metadata": {},
     "output_type": "execute_result"
    }
   ],
   "source": [
    "len(test.reshape(1024, 40))"
   ]
  }
 ],
 "metadata": {
  "kernelspec": {
   "display_name": "Python 3",
   "language": "python",
   "name": "python3"
  },
  "language_info": {
   "codemirror_mode": {
    "name": "ipython",
    "version": 3
   },
   "file_extension": ".py",
   "mimetype": "text/x-python",
   "name": "python",
   "nbconvert_exporter": "python",
   "pygments_lexer": "ipython3",
   "version": "3.7.0"
  }
 },
 "nbformat": 4,
 "nbformat_minor": 2
}
